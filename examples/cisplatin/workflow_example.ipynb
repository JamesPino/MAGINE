{
 "cells": [
  {
   "cell_type": "code",
   "execution_count": null,
   "metadata": {},
   "outputs": [],
   "source": [
    "import sys\n",
    "sys.path.append(\"../..\")\n",
    "from IPython.display import display\n",
    "%matplotlib inline\n",
    "import matplotlib.pyplot as plt\n",
    "\n",
    "import pandas as pd\n",
    "import networkx as nx\n",
    "import magine.ontology.enrichment_tools as et\n",
    "import magine.networks.visualization.notebook_tools as nt\n",
    "import magine.networks.visualization.notebooks.view as view\n",
    "from magine.networks.network_subgraphs import NetworkSubgraphs\n",
    "from exp_data import exp_data\n",
    "from magine.networks.visualization.igraph_tools import paint_network_overtime\n",
    "from magine.plotting.heatmaps import heatmap_by_terms"
   ]
  },
  {
   "cell_type": "markdown",
   "metadata": {},
   "source": [
    "# Exploring network using enrichment analysis\n",
    "\n",
    "### This example uses the enrichment output we just obtained to explore the network."
   ]
  },
  {
   "cell_type": "markdown",
   "metadata": {},
   "source": [
    "First, lets load the molecular network and the enrichment output from the previous runs. "
   ]
  },
  {
   "cell_type": "code",
   "execution_count": null,
   "metadata": {},
   "outputs": [],
   "source": [
    "enrichment_array = pd.read_csv('Data/cisplatin_enrichment.csv.gz', index_col=0)\n",
    "network = nx.read_gpickle('Data/cisplatin_based_network.p')\n",
    "subgraph_gen = NetworkSubgraphs(network=network, exp_data=exp_data)"
   ]
  },
  {
   "cell_type": "markdown",
   "metadata": {},
   "source": [
    "For this example, we will only look at the proteomics data. "
   ]
  },
  {
   "cell_type": "code",
   "execution_count": null,
   "metadata": {},
   "outputs": [],
   "source": [
    "proteomics = et.filter_rows(enrichment_array, column='category', options=['proteomics_up'])\n",
    "proteomics = proteomics[~proteomics['term_name'].isnull()]"
   ]
  },
  {
   "cell_type": "code",
   "execution_count": null,
   "metadata": {},
   "outputs": [],
   "source": [
    "print_cols = ['term_name', 'combined_score', 'adj_p_value', 'n_genes', 'rank']"
   ]
  },
  {
   "cell_type": "code",
   "execution_count": null,
   "metadata": {},
   "outputs": [],
   "source": [
    "display(proteomics.head(10))\n",
    "display(proteomics[print_cols].head(10))"
   ]
  },
  {
   "cell_type": "markdown",
   "metadata": {},
   "source": [
    "For this example, we just want to look at \"biological processes\" descriptions, so we will limit our analysis to only databases with this type of information"
   ]
  },
  {
   "cell_type": "code",
   "execution_count": null,
   "metadata": {},
   "outputs": [],
   "source": [
    "print(proteomics['db'].unique())"
   ]
  },
  {
   "cell_type": "code",
   "execution_count": null,
   "metadata": {},
   "outputs": [],
   "source": [
    "process_dbs = [\n",
    "        'GO_Biological_Process_2017',\n",
    "        'Humancyc_2016',\n",
    "        'Reactome_2016',\n",
    "        'KEGG_2016',\n",
    "        'BioCarta_2016',\n",
    "        'Humancyc_2016',\n",
    "        'NCI-Nature_2016',\n",
    "        'Panther_2016',\n",
    "        'WikiPathways_2016',\n",
    "]"
   ]
  },
  {
   "cell_type": "code",
   "execution_count": null,
   "metadata": {},
   "outputs": [],
   "source": [
    "time_1_hour_prot = et.filter_dataframe(proteomics, \n",
    "                                       p_value=0.05,\n",
    "                                       combined_score=0.0, \n",
    "                                       db=process_dbs,\n",
    "                                      )\n",
    "display(time_1_hour_prot[print_cols].head(15))"
   ]
  },
  {
   "cell_type": "code",
   "execution_count": null,
   "metadata": {},
   "outputs": [],
   "source": [
    "time_1_hour_prot = et.filter_dataframe(proteomics, \n",
    "                                       p_value=0.05,\n",
    "                                       combined_score=0.0, \n",
    "                                       sample_id='01hr', \n",
    "                                       db=process_dbs,\n",
    "                                      )\n",
    "display(time_1_hour_prot[print_cols].head(15))"
   ]
  },
  {
   "cell_type": "markdown",
   "metadata": {},
   "source": [
    "Since terms across databases might be redundant (\"Interleukin-3, 5 and GM-CSF signaling_Homo sapiens_R-HSA-512988\" and \"Interleukin receptor SHC signaling_Homo sapiens_R-HSA-912526\" have nearly a full overlap of genes), we want to eliminate duplicate terms and focus on the most enriched. \n",
    "\n",
    "For that we use the Jaccard Index. It is impelmented in the find_similar_terms function in enrichment_tools (et)."
   ]
  },
  {
   "cell_type": "code",
   "execution_count": null,
   "metadata": {
    "scrolled": false
   },
   "outputs": [],
   "source": [
    "filtered_1hr = et.filter_similar_terms(time_1_hour_prot, threshold=.7)\n",
    "display(filtered_1hr[print_cols].head(20))"
   ]
  },
  {
   "cell_type": "markdown",
   "metadata": {},
   "source": [
    "Now we can explore the top hits, which has been slimmed from 89 to 33 terms. Generally this is where the expert knowledge comes in. However, a quick search with each term and search terms of you molecule of interest tend to be useful. \n",
    "\n",
    "The first hit is 'negative regulation of transcription', which means that something caused genes not to be transcribed. Cisplatin causes DNA damage, thus negative regulaton of transcription makes sense. So does top hit 2, 'Cell Cycle_Homo sapiens_hsa'. \n",
    "\n",
    "A quick search for 'Interleukin-2 signaling' and 'Cisplatin' __[link](https://www.google.com/search?rlz=1C1CHBD_enUS721US721&ei=KzNeWuCxBsfq_AaSgYuYDQ&q=Interleukin-2+signaling+cisplatin&oq=Interleukin-2+signaling+cisplatin&gs_l=psy-ab.3..35i39k1.8097.9052.0.9196.10.10.0.0.0.0.145.897.7j3.10.0....0...1c.1.64.psy-ab..3.2.218....0.TInUjcZY740)__ returns a paper titled \"Cisplatin at clinically relevant concentrations enhances interleukin-2 synthesis by human primary blood lymphocytes.\" __[link](https://www.ncbi.nlm.nih.gov/pubmed/10211553)__\n",
    "\n",
    "\n",
    "We can link the two together to see how once might regulate the other by looking at the molecular interactions."
   ]
  },
  {
   "cell_type": "markdown",
   "metadata": {},
   "source": [
    "## Expected findings"
   ]
  },
  {
   "cell_type": "code",
   "execution_count": null,
   "metadata": {},
   "outputs": [],
   "source": [
    "shorten_names = {\n",
    "    'Cell Cycle_hsa':'Cell Cycle',\n",
    "    'DNA Repair_hsa' : 'DNA Repair',\n",
    "                }\n",
    "rename_all = proteomics.copy()\n",
    "rename_all['term_name'] = rename_all['term_name'].replace(shorten_names)\n",
    "dna_and_cellcycle_term, dna_and_cellcycle_mole = nt.create_subnetwork(['Cell Cycle', 'DNA Repair'], \n",
    "                                                                      rename_all, \n",
    "                                                                      network, \n",
    "                                                                      'entire_network')"
   ]
  },
  {
   "cell_type": "code",
   "execution_count": null,
   "metadata": {
    "scrolled": false
   },
   "outputs": [],
   "source": [
    "view.render_graph(dna_and_cellcycle_mole, add_parent=True)"
   ]
  },
  {
   "cell_type": "code",
   "execution_count": null,
   "metadata": {},
   "outputs": [],
   "source": [
    "view.render_graph(dna_and_cellcycle_term)"
   ]
  },
  {
   "cell_type": "code",
   "execution_count": null,
   "metadata": {},
   "outputs": [],
   "source": [
    "rename_all['term_name'] = rename_all['term_name'].replace(shorten_names)\n",
    "['Cell Cycle', 'DNA Repair']"
   ]
  },
  {
   "cell_type": "code",
   "execution_count": null,
   "metadata": {
    "scrolled": false
   },
   "outputs": [],
   "source": [
    "paint_network_overtime(dna_and_cellcycle_mole, exp_data, 'red', 'dna_cell_cycle' )"
   ]
  },
  {
   "cell_type": "code",
   "execution_count": null,
   "metadata": {},
   "outputs": [],
   "source": [
    "view.display_graph(dna_and_cellcycle_term)"
   ]
  },
  {
   "cell_type": "code",
   "execution_count": null,
   "metadata": {},
   "outputs": [],
   "source": [
    "view.display_graph(dna_and_cellcycle_mole, add_parent=True)"
   ]
  },
  {
   "cell_type": "code",
   "execution_count": null,
   "metadata": {},
   "outputs": [],
   "source": [
    "# dna_genes = et.term_to_genes(df=proteomics, term='DNA Repair_Homo sapiens_R-HSA-73894')\n",
    "dna_genes = et.term_to_genes(df=time_1_hour_prot, term='DNA Repair_hsa')\n",
    "print(len(dna_genes))"
   ]
  },
  {
   "cell_type": "code",
   "execution_count": null,
   "metadata": {
    "scrolled": true
   },
   "outputs": [],
   "source": [
    "dna_network = subgraph_gen.shortest_paths_between_lists(\n",
    "    dna_genes, max_length=3\n",
    ")\n",
    "print(len(dna_network.nodes()))"
   ]
  },
  {
   "cell_type": "code",
   "execution_count": null,
   "metadata": {},
   "outputs": [],
   "source": [
    "print(len(dna_network.nodes()))"
   ]
  },
  {
   "cell_type": "code",
   "execution_count": null,
   "metadata": {
    "scrolled": false
   },
   "outputs": [],
   "source": [
    "view.render_graph(dna_network)"
   ]
  },
  {
   "cell_type": "code",
   "execution_count": null,
   "metadata": {},
   "outputs": [],
   "source": [
    "\n",
    "plus_neighbors = subgraph_gen.expand_neighbors(dna_network, down_stream=True, \n",
    "                                               expand_all=True,\n",
    "                                               include_list=exp_data.sig_species_over_time['06hr'])"
   ]
  },
  {
   "cell_type": "code",
   "execution_count": null,
   "metadata": {},
   "outputs": [],
   "source": [
    "print(len(plus_neighbors.nodes()))\n",
    "print(len(plus_neighbors.edges()))"
   ]
  },
  {
   "cell_type": "code",
   "execution_count": null,
   "metadata": {},
   "outputs": [],
   "source": [
    "view.render_graph(plus_neighbors)"
   ]
  },
  {
   "cell_type": "code",
   "execution_count": null,
   "metadata": {
    "scrolled": false
   },
   "outputs": [],
   "source": [
    "# view.render_graph(plus_neighbors)\n",
    "paint_network_overtime(plus_neighbors, exp_data, ['red', 'green', 'lightblue', 'purple'], 'dna' )"
   ]
  },
  {
   "cell_type": "code",
   "execution_count": null,
   "metadata": {
    "scrolled": false
   },
   "outputs": [],
   "source": []
  },
  {
   "cell_type": "code",
   "execution_count": null,
   "metadata": {},
   "outputs": [],
   "source": [
    "# subgraph_gen.measured_networks_over_time(plus_neighbors, ['red', 'green', 'lightblue', 'purple'], 'dna')"
   ]
  },
  {
   "cell_type": "code",
   "execution_count": null,
   "metadata": {
    "scrolled": false
   },
   "outputs": [],
   "source": [
    "subgraph_gen.measured_networks_over_time(dna_network, ['red', 'green', 'lightblue', 'purple'], 'dna')"
   ]
  },
  {
   "cell_type": "code",
   "execution_count": null,
   "metadata": {},
   "outputs": [],
   "source": [
    "from magine.plotting.species_plotting import plot_list_of_genes\n",
    "plot_list_of_genes(exp_data.data, dna_genes, save_name='dna_genes', image_format='png', plot_type='matplotlib')"
   ]
  },
  {
   "cell_type": "code",
   "execution_count": null,
   "metadata": {
    "scrolled": false
   },
   "outputs": [],
   "source": [
    "time_1_hour_prot = et.filter_dataframe(proteomics, \n",
    "                                       p_value=0.05,\n",
    "                                       combined_score=0.0, \n",
    "                                       sample_id='01hr', \n",
    "                                       db=process_dbs,\n",
    "                                      )\n",
    "kinases = et.filter_dataframe(proteomics, \n",
    "                              p_value=0.05, \n",
    "                              sample_id='01hr', \n",
    "                              combined_score=0.0, \n",
    "                              db='KEA_2015')\n",
    "kinases = et.remove_redundant(kinases)\n",
    "\n",
    "display(kinases[print_cols].head(20))"
   ]
  },
  {
   "cell_type": "markdown",
   "metadata": {},
   "source": [
    "## Exploring other top hits from 1 hour"
   ]
  },
  {
   "cell_type": "markdown",
   "metadata": {},
   "source": [
    "### Side effects of cisplatin\n",
    "Chemotherapy-induced peripheral neuropathy. __[link](https://www.frontiersin.org/articles/10.3389/fnins.2017.00481/full)__\n",
    "It is not well understood why cisplatin causes CIPN. Surprisely here, we see that Axon Guidance has a combined score of 20.5. 33 species are effected by cisplain that are linked with axon guidance. We are not neural experts and did not know that axon guidance was related to CIPN. Using MAGINE we were able to find ties between the two."
   ]
  },
  {
   "cell_type": "code",
   "execution_count": null,
   "metadata": {
    "scrolled": true
   },
   "outputs": [],
   "source": [
    "axon_guidance = et.term_to_genes(df=renamed_1hr, term='Axon guidance_Homo sapiens_R-HSA-422475')\n",
    "print(axon_guidance)"
   ]
  },
  {
   "cell_type": "code",
   "execution_count": null,
   "metadata": {
    "scrolled": false
   },
   "outputs": [],
   "source": [
    "g = subgraph_gen.neighbors_of_list(axon_guidance, up_stream=True, down_stream=False, max_dist=1, \n",
    "                                   include_only=exp_data.sig_species_over_time['01hr']\n",
    "                                  )\n",
    "nt.render_graph(g)"
   ]
  },
  {
   "cell_type": "code",
   "execution_count": null,
   "metadata": {},
   "outputs": [],
   "source": [
    "print(chloride_transport)"
   ]
  },
  {
   "cell_type": "code",
   "execution_count": null,
   "metadata": {
    "scrolled": false
   },
   "outputs": [],
   "source": [
    "chloride_transport = et.term_to_genes(df=renamed_1hr, term='chloride transport')\n",
    "print(chloride_transport)\n",
    "chl_trans = subgraph_gen.neighbors_of_list(chloride_transport, max_dist=2, \n",
    "#                                            include_only=exp_data.list_species\n",
    "                                          )\n",
    "nt.display_graph(chl_trans)"
   ]
  },
  {
   "cell_type": "markdown",
   "metadata": {},
   "source": [
    "# 6 hour time point"
   ]
  },
  {
   "cell_type": "code",
   "execution_count": null,
   "metadata": {
    "scrolled": true
   },
   "outputs": [],
   "source": [
    "time_6_hour_prot = et.filter_dataframe(proteomics, \n",
    "                                       p_value=0.05, \n",
    "                                       combined_score=0.0, \n",
    "                                       sample_id='06hr', \n",
    "                                       db=process_dbs\n",
    "                                      )\n",
    "slimmed = et.filter_similar_terms(time_6_hour_prot, threshold=.7)\n",
    "display(slimmed[print_cols].head(25))"
   ]
  },
  {
   "cell_type": "code",
   "execution_count": null,
   "metadata": {},
   "outputs": [],
   "source": [
    "shorten_names = {\n",
    "    'protein sumoylation':'protein sumoylation',\n",
    "    'Activation of the AP-1 family of transcription factors_Homo sapiens_R-HSA-450341' : 'AP1 activation',\n",
    "    'response to cAMP' : 'response to cAMP',\n",
    "                }\n",
    "time_6_hour_prot['term_name'] = time_6_hour_prot['term_name'].replace(shorten_names)\n",
    "term_net_6, mol_net_6 = nt.create_subnetwork(shorten_names.values(),\n",
    "                                             time_6_hour_prot, \n",
    "                                             network,\n",
    "                                             '06hr')\n"
   ]
  },
  {
   "cell_type": "code",
   "execution_count": null,
   "metadata": {},
   "outputs": [],
   "source": [
    "view.display_graph(term_net_6)"
   ]
  },
  {
   "cell_type": "code",
   "execution_count": null,
   "metadata": {},
   "outputs": [],
   "source": [
    "view.render_graph(mol_net_6)"
   ]
  },
  {
   "cell_type": "code",
   "execution_count": null,
   "metadata": {
    "scrolled": true
   },
   "outputs": [],
   "source": [
    "time_24_hour_prot = et.filter_dataframe(proteomics, p_value=0.05, combined_score=0.0, \n",
    "                                        category='proteomics_up', \n",
    "                                        sample_id='24hr', db=process_dbs)\n",
    "slimmed = et.filter_similar_terms(time_24_hour_prot, threshold=.5)\n",
    "display(slimmed[print_cols].head(25))"
   ]
  },
  {
   "cell_type": "code",
   "execution_count": null,
   "metadata": {},
   "outputs": [],
   "source": [
    "shorten_names = {\n",
    "                 'cellular response to DNA damage stimulus': 'DDR',\n",
    "                 'negative regulation of apoptotic process': 'negative regulation of apoptosis',\n",
    "                 'Apoptosis_Homo sapiens_R-HSA-109581' : 'Apoptosis',\n",
    "                }\n",
    "renamed = time_24_hour_prot.copy()\n",
    "time_24_hour_prot['term_name'] = time_24_hour_prot['term_name'].replace(shorten_names)\n",
    "term_net_24, mol_net_24 = nt.create_subnetwork(shorten_names.values(), time_24_hour_prot, network, '24hr', cytoscape_js=False)"
   ]
  },
  {
   "cell_type": "code",
   "execution_count": null,
   "metadata": {},
   "outputs": [],
   "source": [
    "view.display_graph(term_net_24)"
   ]
  },
  {
   "cell_type": "code",
   "execution_count": null,
   "metadata": {},
   "outputs": [],
   "source": [
    "view.display_graph(mol_net_24, add_parent=True )"
   ]
  },
  {
   "cell_type": "code",
   "execution_count": null,
   "metadata": {},
   "outputs": [],
   "source": [
    "time_48_hour_prot = et.filter_dataframe(proteomics, p_value=0.05, combined_score=0.0, category='proteomics_up', \n",
    "                                        sample_id='48hr', db=process_dbs)\n",
    "slimmed = et.filter_similar_terms(time_48_hour_prot, threshold=.5)\n",
    "display(slimmed[print_cols].head(25))"
   ]
  },
  {
   "cell_type": "code",
   "execution_count": null,
   "metadata": {},
   "outputs": [],
   "source": [
    "shorten_names = {\n",
    "                 'membrane organization': 'Membrane Organization',\n",
    "                 'negative regulation of apoptotic process': 'negative regulation of apoptosis',\n",
    "                 'neutrophil degranulation' : 'neutrophil degranulation',\n",
    "                }\n",
    "time_48_hour_prot['term_name'] = time_48_hour_prot['term_name'].replace(shorten_names)\n",
    "term_net_48, mol_net_48 = nt.create_subnetwork(shorten_names.values(), time_48_hour_prot, network, '48hr')"
   ]
  },
  {
   "cell_type": "code",
   "execution_count": null,
   "metadata": {},
   "outputs": [],
   "source": [
    "view.display_graph(term_net_48)"
   ]
  },
  {
   "cell_type": "code",
   "execution_count": null,
   "metadata": {},
   "outputs": [],
   "source": [
    "view.render_graph(mol_net_48, add_parent=True)"
   ]
  },
  {
   "cell_type": "code",
   "execution_count": null,
   "metadata": {},
   "outputs": [],
   "source": []
  }
 ],
 "metadata": {
  "anaconda-cloud": {},
  "kernelspec": {
   "display_name": "Python 2",
   "language": "python",
   "name": "python2"
  },
  "language_info": {
   "codemirror_mode": {
    "name": "ipython",
    "version": 2
   },
   "file_extension": ".py",
   "mimetype": "text/x-python",
   "name": "python",
   "nbconvert_exporter": "python",
   "pygments_lexer": "ipython2",
   "version": "2.7.15"
  },
  "widgets": {
   "application/vnd.jupyter.widget-state+json": {
    "state": {},
    "version_major": 2,
    "version_minor": 0
   }
  }
 },
 "nbformat": 4,
 "nbformat_minor": 1
}

{
 "cells": [
  {
   "cell_type": "code",
   "execution_count": 1,
   "metadata": {
    "collapsed": true
   },
   "outputs": [],
   "source": [
    "import sys\n",
    "sys.path.append(\"../\")\n",
    "sys.path.append('C:\\Users\\James Pino\\PycharmProjects\\Magine')\n",
    "from IPython.display import display\n",
    "%matplotlib inline\n",
    "import matplotlib.pyplot as plt\n",
    "import pandas as pd\n",
    "import networkx as nx\n",
    "import magine.ontology.enrichment_tools as et\n",
    "import magine.networks.visualization.notebook_tools as nt\n",
    "import magine.networks.visualization.notebooks.view as view\n",
    "from magine.networks.network_subgraphs import NetworkSubgraphs\n",
    "from exp_data import exp_data"
   ]
  },
  {
   "cell_type": "markdown",
   "metadata": {},
   "source": [
    "# Exploring network using enrichment analysis\n",
    "\n",
    "### This example uses the enrichment output we just obtained to explore the network."
   ]
  },
  {
   "cell_type": "markdown",
   "metadata": {},
   "source": [
    "First, lets load the molecular network and the enrichment output from the previous runs. "
   ]
  },
  {
   "cell_type": "code",
   "execution_count": 2,
   "metadata": {
    "collapsed": true
   },
   "outputs": [],
   "source": [
    "enrichment_array = pd.read_csv('Data/cisplatin_enrichment.csv.gz', index_col=0)\n",
    "network = nx.read_gpickle('Data/cisplatin_based_network.p')\n",
    "subgraph_gen = NetworkSubgraphs(network=network, exp_data=exp_data)"
   ]
  },
  {
   "cell_type": "markdown",
   "metadata": {},
   "source": [
    "For this example, we will only look at the proteomics data. "
   ]
  },
  {
   "cell_type": "code",
   "execution_count": 3,
   "metadata": {
    "collapsed": true
   },
   "outputs": [],
   "source": [
    "proteomics = et.filter_db(enrichment_array, column='category', options=['proteomics_up'])\n",
    "proteomics = proteomics[~proteomics['term_name'].isnull()]"
   ]
  },
  {
   "cell_type": "code",
   "execution_count": 4,
   "metadata": {
    "collapsed": true
   },
   "outputs": [],
   "source": [
    "print_cols = ['term_name', 'combined_score', 'adj_p_value', 'n_genes', 'rank']"
   ]
  },
  {
   "cell_type": "markdown",
   "metadata": {},
   "source": [
    "For this example, we just want to look at \"biological processes\" descriptions, so we will limit our analysis to only databases with this type of information"
   ]
  },
  {
   "cell_type": "code",
   "execution_count": 5,
   "metadata": {},
   "outputs": [
    {
     "name": "stdout",
     "output_type": "stream",
     "text": [
      "['KEGG_2016' 'NCI-Nature_2016' 'Panther_2016' 'WikiPathways_2016'\n",
      " 'BioCarta_2016' 'Humancyc_2016' 'Reactome_2016' 'KEA_2015'\n",
      " 'GO_Biological_Process_2017' 'GO_Molecular_Function_2017'\n",
      " 'GO_Cellular_Component_2017' 'ChEA_2016' 'TRANSFAC_and_JASPAR_PWMs'\n",
      " 'ENCODE_TF_ChIP-seq_2015' 'Kinase_Perturbations_from_GEO_down'\n",
      " 'Kinase_Perturbations_from_GEO_up'\n",
      " 'LINCS_L1000_Kinase_Perturbations_down'\n",
      " 'LINCS_L1000_Kinase_Perturbations_up'\n",
      " 'Ligand_Perturbations_from_GEO_down' 'Ligand_Perturbations_from_GEO_up'\n",
      " 'DrugMatrix' 'Drug_Perturbations_from_GEO_2014']\n"
     ]
    },
    {
     "data": {
      "text/html": [
       "<div>\n",
       "<style>\n",
       "    .dataframe thead tr:only-child th {\n",
       "        text-align: right;\n",
       "    }\n",
       "\n",
       "    .dataframe thead th {\n",
       "        text-align: left;\n",
       "    }\n",
       "\n",
       "    .dataframe tbody tr th {\n",
       "        vertical-align: top;\n",
       "    }\n",
       "</style>\n",
       "<table border=\"1\" class=\"dataframe\">\n",
       "  <thead>\n",
       "    <tr style=\"text-align: right;\">\n",
       "      <th></th>\n",
       "      <th>term_name</th>\n",
       "      <th>rank</th>\n",
       "      <th>combined_score</th>\n",
       "      <th>adj_p_value</th>\n",
       "      <th>genes</th>\n",
       "      <th>n_genes</th>\n",
       "      <th>sample_id</th>\n",
       "      <th>category</th>\n",
       "      <th>db</th>\n",
       "    </tr>\n",
       "  </thead>\n",
       "  <tbody>\n",
       "    <tr>\n",
       "      <th>188172</th>\n",
       "      <td>Cell cycle_Homo sapiens_hsa04110</td>\n",
       "      <td>1</td>\n",
       "      <td>14.41309</td>\n",
       "      <td>0.05063</td>\n",
       "      <td>CDC16,CDC20,CDC7,HDAC1,MYC,PLK1,RBL1,SMC1A,YWHAZ</td>\n",
       "      <td>9</td>\n",
       "      <td>01hr</td>\n",
       "      <td>proteomics_up</td>\n",
       "      <td>KEGG_2016</td>\n",
       "    </tr>\n",
       "    <tr>\n",
       "      <th>188173</th>\n",
       "      <td>Ubiquitin mediated proteolysis_Homo sapiens_hsa04120</td>\n",
       "      <td>2</td>\n",
       "      <td>12.28734</td>\n",
       "      <td>0.05290</td>\n",
       "      <td>BRCA1,CDC16,CDC20,CUL3,CUL4A,CUL4B,HUWE1,PIAS1,UBA1</td>\n",
       "      <td>9</td>\n",
       "      <td>01hr</td>\n",
       "      <td>proteomics_up</td>\n",
       "      <td>KEGG_2016</td>\n",
       "    </tr>\n",
       "    <tr>\n",
       "      <th>188174</th>\n",
       "      <td>Fanconi anemia pathway_Homo sapiens_hsa03460</td>\n",
       "      <td>3</td>\n",
       "      <td>10.71077</td>\n",
       "      <td>0.13116</td>\n",
       "      <td>BRCA1,ERCC4,SLX4,TELO2,USP1</td>\n",
       "      <td>5</td>\n",
       "      <td>01hr</td>\n",
       "      <td>proteomics_up</td>\n",
       "      <td>KEGG_2016</td>\n",
       "    </tr>\n",
       "    <tr>\n",
       "      <th>188175</th>\n",
       "      <td>Colorectal cancer_Homo sapiens_hsa05210</td>\n",
       "      <td>4</td>\n",
       "      <td>10.51834</td>\n",
       "      <td>0.18012</td>\n",
       "      <td>APC,APPL1,BRAF,MAPK3,MYC</td>\n",
       "      <td>5</td>\n",
       "      <td>01hr</td>\n",
       "      <td>proteomics_up</td>\n",
       "      <td>KEGG_2016</td>\n",
       "    </tr>\n",
       "    <tr>\n",
       "      <th>188176</th>\n",
       "      <td>Longevity regulating pathway - multiple species_Homo sapiens_hsa04213</td>\n",
       "      <td>5</td>\n",
       "      <td>10.14721</td>\n",
       "      <td>0.18012</td>\n",
       "      <td>EIF4EBP2,HDAC1,HSPA2,INSR,IRS2</td>\n",
       "      <td>5</td>\n",
       "      <td>01hr</td>\n",
       "      <td>proteomics_up</td>\n",
       "      <td>KEGG_2016</td>\n",
       "    </tr>\n",
       "    <tr>\n",
       "      <th>188177</th>\n",
       "      <td>Chronic myeloid leukemia_Homo sapiens_hsa05220</td>\n",
       "      <td>6</td>\n",
       "      <td>8.49857</td>\n",
       "      <td>0.20252</td>\n",
       "      <td>BRAF,HDAC1,MAPK3,MYC,SHC1</td>\n",
       "      <td>5</td>\n",
       "      <td>01hr</td>\n",
       "      <td>proteomics_up</td>\n",
       "      <td>KEGG_2016</td>\n",
       "    </tr>\n",
       "    <tr>\n",
       "      <th>188178</th>\n",
       "      <td>Spliceosome_Homo sapiens_hsa03040</td>\n",
       "      <td>7</td>\n",
       "      <td>8.19675</td>\n",
       "      <td>0.20252</td>\n",
       "      <td>DDX5,HNRNPA1,HNRNPM,HSPA2,PRPF3,SRSF9,THOC2</td>\n",
       "      <td>7</td>\n",
       "      <td>01hr</td>\n",
       "      <td>proteomics_up</td>\n",
       "      <td>KEGG_2016</td>\n",
       "    </tr>\n",
       "    <tr>\n",
       "      <th>188179</th>\n",
       "      <td>Nucleotide excision repair_Homo sapiens_hsa03420</td>\n",
       "      <td>8</td>\n",
       "      <td>7.57820</td>\n",
       "      <td>0.20252</td>\n",
       "      <td>CUL4A,CUL4B,ERCC4,ERCC5</td>\n",
       "      <td>4</td>\n",
       "      <td>01hr</td>\n",
       "      <td>proteomics_up</td>\n",
       "      <td>KEGG_2016</td>\n",
       "    </tr>\n",
       "    <tr>\n",
       "      <th>188180</th>\n",
       "      <td>Endometrial cancer_Homo sapiens_hsa05213</td>\n",
       "      <td>9</td>\n",
       "      <td>7.47564</td>\n",
       "      <td>0.25385</td>\n",
       "      <td>APC,BRAF,MAPK3,MYC</td>\n",
       "      <td>4</td>\n",
       "      <td>01hr</td>\n",
       "      <td>proteomics_up</td>\n",
       "      <td>KEGG_2016</td>\n",
       "    </tr>\n",
       "    <tr>\n",
       "      <th>188181</th>\n",
       "      <td>Oocyte meiosis_Homo sapiens_hsa04114</td>\n",
       "      <td>10</td>\n",
       "      <td>6.43965</td>\n",
       "      <td>0.29695</td>\n",
       "      <td>CDC16,CDC20,MAPK3,PLK1,SMC1A,YWHAZ</td>\n",
       "      <td>6</td>\n",
       "      <td>01hr</td>\n",
       "      <td>proteomics_up</td>\n",
       "      <td>KEGG_2016</td>\n",
       "    </tr>\n",
       "  </tbody>\n",
       "</table>\n",
       "</div>"
      ],
      "text/plain": [
       "                                                                    term_name  \\\n",
       "188172                                       Cell cycle_Homo sapiens_hsa04110   \n",
       "188173                   Ubiquitin mediated proteolysis_Homo sapiens_hsa04120   \n",
       "188174                           Fanconi anemia pathway_Homo sapiens_hsa03460   \n",
       "188175                                Colorectal cancer_Homo sapiens_hsa05210   \n",
       "188176  Longevity regulating pathway - multiple species_Homo sapiens_hsa04213   \n",
       "188177                         Chronic myeloid leukemia_Homo sapiens_hsa05220   \n",
       "188178                                      Spliceosome_Homo sapiens_hsa03040   \n",
       "188179                       Nucleotide excision repair_Homo sapiens_hsa03420   \n",
       "188180                               Endometrial cancer_Homo sapiens_hsa05213   \n",
       "188181                                   Oocyte meiosis_Homo sapiens_hsa04114   \n",
       "\n",
       "        rank  combined_score  adj_p_value  \\\n",
       "188172     1        14.41309      0.05063   \n",
       "188173     2        12.28734      0.05290   \n",
       "188174     3        10.71077      0.13116   \n",
       "188175     4        10.51834      0.18012   \n",
       "188176     5        10.14721      0.18012   \n",
       "188177     6         8.49857      0.20252   \n",
       "188178     7         8.19675      0.20252   \n",
       "188179     8         7.57820      0.20252   \n",
       "188180     9         7.47564      0.25385   \n",
       "188181    10         6.43965      0.29695   \n",
       "\n",
       "                                                      genes  n_genes  \\\n",
       "188172     CDC16,CDC20,CDC7,HDAC1,MYC,PLK1,RBL1,SMC1A,YWHAZ        9   \n",
       "188173  BRCA1,CDC16,CDC20,CUL3,CUL4A,CUL4B,HUWE1,PIAS1,UBA1        9   \n",
       "188174                          BRCA1,ERCC4,SLX4,TELO2,USP1        5   \n",
       "188175                             APC,APPL1,BRAF,MAPK3,MYC        5   \n",
       "188176                       EIF4EBP2,HDAC1,HSPA2,INSR,IRS2        5   \n",
       "188177                            BRAF,HDAC1,MAPK3,MYC,SHC1        5   \n",
       "188178          DDX5,HNRNPA1,HNRNPM,HSPA2,PRPF3,SRSF9,THOC2        7   \n",
       "188179                              CUL4A,CUL4B,ERCC4,ERCC5        4   \n",
       "188180                                   APC,BRAF,MAPK3,MYC        4   \n",
       "188181                   CDC16,CDC20,MAPK3,PLK1,SMC1A,YWHAZ        6   \n",
       "\n",
       "       sample_id       category         db  \n",
       "188172      01hr  proteomics_up  KEGG_2016  \n",
       "188173      01hr  proteomics_up  KEGG_2016  \n",
       "188174      01hr  proteomics_up  KEGG_2016  \n",
       "188175      01hr  proteomics_up  KEGG_2016  \n",
       "188176      01hr  proteomics_up  KEGG_2016  \n",
       "188177      01hr  proteomics_up  KEGG_2016  \n",
       "188178      01hr  proteomics_up  KEGG_2016  \n",
       "188179      01hr  proteomics_up  KEGG_2016  \n",
       "188180      01hr  proteomics_up  KEGG_2016  \n",
       "188181      01hr  proteomics_up  KEGG_2016  "
      ]
     },
     "metadata": {},
     "output_type": "display_data"
    },
    {
     "data": {
      "text/html": [
       "<div>\n",
       "<style>\n",
       "    .dataframe thead tr:only-child th {\n",
       "        text-align: right;\n",
       "    }\n",
       "\n",
       "    .dataframe thead th {\n",
       "        text-align: left;\n",
       "    }\n",
       "\n",
       "    .dataframe tbody tr th {\n",
       "        vertical-align: top;\n",
       "    }\n",
       "</style>\n",
       "<table border=\"1\" class=\"dataframe\">\n",
       "  <thead>\n",
       "    <tr style=\"text-align: right;\">\n",
       "      <th></th>\n",
       "      <th>term_name</th>\n",
       "      <th>combined_score</th>\n",
       "      <th>adj_p_value</th>\n",
       "      <th>n_genes</th>\n",
       "      <th>rank</th>\n",
       "    </tr>\n",
       "  </thead>\n",
       "  <tbody>\n",
       "    <tr>\n",
       "      <th>188172</th>\n",
       "      <td>Cell cycle_Homo sapiens_hsa04110</td>\n",
       "      <td>14.41309</td>\n",
       "      <td>0.05063</td>\n",
       "      <td>9</td>\n",
       "      <td>1</td>\n",
       "    </tr>\n",
       "    <tr>\n",
       "      <th>188173</th>\n",
       "      <td>Ubiquitin mediated proteolysis_Homo sapiens_hsa04120</td>\n",
       "      <td>12.28734</td>\n",
       "      <td>0.05290</td>\n",
       "      <td>9</td>\n",
       "      <td>2</td>\n",
       "    </tr>\n",
       "    <tr>\n",
       "      <th>188174</th>\n",
       "      <td>Fanconi anemia pathway_Homo sapiens_hsa03460</td>\n",
       "      <td>10.71077</td>\n",
       "      <td>0.13116</td>\n",
       "      <td>5</td>\n",
       "      <td>3</td>\n",
       "    </tr>\n",
       "    <tr>\n",
       "      <th>188175</th>\n",
       "      <td>Colorectal cancer_Homo sapiens_hsa05210</td>\n",
       "      <td>10.51834</td>\n",
       "      <td>0.18012</td>\n",
       "      <td>5</td>\n",
       "      <td>4</td>\n",
       "    </tr>\n",
       "    <tr>\n",
       "      <th>188176</th>\n",
       "      <td>Longevity regulating pathway - multiple species_Homo sapiens_hsa04213</td>\n",
       "      <td>10.14721</td>\n",
       "      <td>0.18012</td>\n",
       "      <td>5</td>\n",
       "      <td>5</td>\n",
       "    </tr>\n",
       "    <tr>\n",
       "      <th>188177</th>\n",
       "      <td>Chronic myeloid leukemia_Homo sapiens_hsa05220</td>\n",
       "      <td>8.49857</td>\n",
       "      <td>0.20252</td>\n",
       "      <td>5</td>\n",
       "      <td>6</td>\n",
       "    </tr>\n",
       "    <tr>\n",
       "      <th>188178</th>\n",
       "      <td>Spliceosome_Homo sapiens_hsa03040</td>\n",
       "      <td>8.19675</td>\n",
       "      <td>0.20252</td>\n",
       "      <td>7</td>\n",
       "      <td>7</td>\n",
       "    </tr>\n",
       "    <tr>\n",
       "      <th>188179</th>\n",
       "      <td>Nucleotide excision repair_Homo sapiens_hsa03420</td>\n",
       "      <td>7.57820</td>\n",
       "      <td>0.20252</td>\n",
       "      <td>4</td>\n",
       "      <td>8</td>\n",
       "    </tr>\n",
       "    <tr>\n",
       "      <th>188180</th>\n",
       "      <td>Endometrial cancer_Homo sapiens_hsa05213</td>\n",
       "      <td>7.47564</td>\n",
       "      <td>0.25385</td>\n",
       "      <td>4</td>\n",
       "      <td>9</td>\n",
       "    </tr>\n",
       "    <tr>\n",
       "      <th>188181</th>\n",
       "      <td>Oocyte meiosis_Homo sapiens_hsa04114</td>\n",
       "      <td>6.43965</td>\n",
       "      <td>0.29695</td>\n",
       "      <td>6</td>\n",
       "      <td>10</td>\n",
       "    </tr>\n",
       "  </tbody>\n",
       "</table>\n",
       "</div>"
      ],
      "text/plain": [
       "                                                                    term_name  \\\n",
       "188172                                       Cell cycle_Homo sapiens_hsa04110   \n",
       "188173                   Ubiquitin mediated proteolysis_Homo sapiens_hsa04120   \n",
       "188174                           Fanconi anemia pathway_Homo sapiens_hsa03460   \n",
       "188175                                Colorectal cancer_Homo sapiens_hsa05210   \n",
       "188176  Longevity regulating pathway - multiple species_Homo sapiens_hsa04213   \n",
       "188177                         Chronic myeloid leukemia_Homo sapiens_hsa05220   \n",
       "188178                                      Spliceosome_Homo sapiens_hsa03040   \n",
       "188179                       Nucleotide excision repair_Homo sapiens_hsa03420   \n",
       "188180                               Endometrial cancer_Homo sapiens_hsa05213   \n",
       "188181                                   Oocyte meiosis_Homo sapiens_hsa04114   \n",
       "\n",
       "        combined_score  adj_p_value  n_genes  rank  \n",
       "188172        14.41309      0.05063        9     1  \n",
       "188173        12.28734      0.05290        9     2  \n",
       "188174        10.71077      0.13116        5     3  \n",
       "188175        10.51834      0.18012        5     4  \n",
       "188176        10.14721      0.18012        5     5  \n",
       "188177         8.49857      0.20252        5     6  \n",
       "188178         8.19675      0.20252        7     7  \n",
       "188179         7.57820      0.20252        4     8  \n",
       "188180         7.47564      0.25385        4     9  \n",
       "188181         6.43965      0.29695        6    10  "
      ]
     },
     "metadata": {},
     "output_type": "display_data"
    }
   ],
   "source": [
    "print(proteomics['db'].unique())\n",
    "\n",
    "process_dbs = [\n",
    "        'GO_Biological_Process_2017',\n",
    "        'Humancyc_2016',\n",
    "        'Reactome_2016',\n",
    "        'KEGG_2016',\n",
    "        'BioCarta_2016',\n",
    "        'Humancyc_2016',\n",
    "        'NCI-Nature_2016',\n",
    "        'Panther_2016',\n",
    "        'WikiPathways_2016',\n",
    "]\n",
    "\n",
    "display(proteomics.head(10))\n",
    "display(proteomics[print_cols].head(10))\n",
    "# display(et.filter_based_on_words(proteomics[print_cols+['sample_id']], ['repair']))"
   ]
  },
  {
   "cell_type": "code",
   "execution_count": 6,
   "metadata": {},
   "outputs": [
    {
     "data": {
      "text/html": [
       "<div>\n",
       "<style>\n",
       "    .dataframe thead tr:only-child th {\n",
       "        text-align: right;\n",
       "    }\n",
       "\n",
       "    .dataframe thead th {\n",
       "        text-align: left;\n",
       "    }\n",
       "\n",
       "    .dataframe tbody tr th {\n",
       "        vertical-align: top;\n",
       "    }\n",
       "</style>\n",
       "<table border=\"1\" class=\"dataframe\">\n",
       "  <thead>\n",
       "    <tr style=\"text-align: right;\">\n",
       "      <th></th>\n",
       "      <th>term_name</th>\n",
       "      <th>combined_score</th>\n",
       "      <th>adj_p_value</th>\n",
       "      <th>n_genes</th>\n",
       "      <th>rank</th>\n",
       "    </tr>\n",
       "  </thead>\n",
       "  <tbody>\n",
       "    <tr>\n",
       "      <th>189887</th>\n",
       "      <td>negative regulation of transcription, DNA-templated</td>\n",
       "      <td>68.26198</td>\n",
       "      <td>0.00160</td>\n",
       "      <td>22</td>\n",
       "      <td>1</td>\n",
       "    </tr>\n",
       "    <tr>\n",
       "      <th>189000</th>\n",
       "      <td>Cell Cycle_Homo sapiens_R-HSA-1640170</td>\n",
       "      <td>36.50732</td>\n",
       "      <td>0.00027</td>\n",
       "      <td>28</td>\n",
       "      <td>1</td>\n",
       "    </tr>\n",
       "    <tr>\n",
       "      <th>188379</th>\n",
       "      <td>Validated targets of C-MYC transcriptional repression_Homo sapiens_6bbdafa6-6196-11e5-8ac5-06603...</td>\n",
       "      <td>15.36952</td>\n",
       "      <td>0.00957</td>\n",
       "      <td>7</td>\n",
       "      <td>1</td>\n",
       "    </tr>\n",
       "    <tr>\n",
       "      <th>188581</th>\n",
       "      <td>XPodNet - protein-protein interactions in the podocyte expanded by STRING_Mus musculus_WP2309</td>\n",
       "      <td>22.46025</td>\n",
       "      <td>0.01109</td>\n",
       "      <td>30</td>\n",
       "      <td>1</td>\n",
       "    </tr>\n",
       "    <tr>\n",
       "      <th>188380</th>\n",
       "      <td>Regulation of Telomerase_Homo sapiens_4dfe97ca-6195-11e5-8ac5-06603eb7f303</td>\n",
       "      <td>14.71910</td>\n",
       "      <td>0.00957</td>\n",
       "      <td>7</td>\n",
       "      <td>2</td>\n",
       "    </tr>\n",
       "    <tr>\n",
       "      <th>188582</th>\n",
       "      <td>Retinoblastoma (RB) in Cancer_Homo sapiens_WP2446</td>\n",
       "      <td>17.16690</td>\n",
       "      <td>0.01763</td>\n",
       "      <td>8</td>\n",
       "      <td>2</td>\n",
       "    </tr>\n",
       "    <tr>\n",
       "      <th>189001</th>\n",
       "      <td>Interleukin-2 signaling_Homo sapiens_R-HSA-451927</td>\n",
       "      <td>30.22085</td>\n",
       "      <td>0.00159</td>\n",
       "      <td>16</td>\n",
       "      <td>2</td>\n",
       "    </tr>\n",
       "    <tr>\n",
       "      <th>189002</th>\n",
       "      <td>Interleukin-3, 5 and GM-CSF signaling_Homo sapiens_R-HSA-512988</td>\n",
       "      <td>29.30395</td>\n",
       "      <td>0.00159</td>\n",
       "      <td>16</td>\n",
       "      <td>3</td>\n",
       "    </tr>\n",
       "    <tr>\n",
       "      <th>189889</th>\n",
       "      <td>resolution of meiotic recombination intermediates</td>\n",
       "      <td>29.55728</td>\n",
       "      <td>0.01649</td>\n",
       "      <td>4</td>\n",
       "      <td>3</td>\n",
       "    </tr>\n",
       "    <tr>\n",
       "      <th>188583</th>\n",
       "      <td>EGFR1 Signaling Pathway_Mus musculus_WP572</td>\n",
       "      <td>15.61893</td>\n",
       "      <td>0.04176</td>\n",
       "      <td>10</td>\n",
       "      <td>3</td>\n",
       "    </tr>\n",
       "    <tr>\n",
       "      <th>188381</th>\n",
       "      <td>E2F transcription factor network_Homo sapiens_bb4d0fd3-6191-11e5-8ac5-06603eb7f303</td>\n",
       "      <td>14.33169</td>\n",
       "      <td>0.01007</td>\n",
       "      <td>7</td>\n",
       "      <td>3</td>\n",
       "    </tr>\n",
       "    <tr>\n",
       "      <th>188382</th>\n",
       "      <td>Notch signaling pathway_Homo sapiens_88f83518-6194-11e5-8ac5-06603eb7f303</td>\n",
       "      <td>11.23793</td>\n",
       "      <td>0.01690</td>\n",
       "      <td>6</td>\n",
       "      <td>4</td>\n",
       "    </tr>\n",
       "    <tr>\n",
       "      <th>188584</th>\n",
       "      <td>Cell Cycle_Homo sapiens_WP179</td>\n",
       "      <td>14.70694</td>\n",
       "      <td>0.02988</td>\n",
       "      <td>8</td>\n",
       "      <td>4</td>\n",
       "    </tr>\n",
       "    <tr>\n",
       "      <th>189003</th>\n",
       "      <td>Cell Cycle, Mitotic_Homo sapiens_R-HSA-69278</td>\n",
       "      <td>27.72709</td>\n",
       "      <td>0.00159</td>\n",
       "      <td>22</td>\n",
       "      <td>4</td>\n",
       "    </tr>\n",
       "    <tr>\n",
       "      <th>189004</th>\n",
       "      <td>Interleukin receptor SHC signaling_Homo sapiens_R-HSA-912526</td>\n",
       "      <td>27.24209</td>\n",
       "      <td>0.00159</td>\n",
       "      <td>15</td>\n",
       "      <td>5</td>\n",
       "    </tr>\n",
       "  </tbody>\n",
       "</table>\n",
       "</div>"
      ],
      "text/plain": [
       "                                                                                                  term_name  \\\n",
       "189887                                                  negative regulation of transcription, DNA-templated   \n",
       "189000                                                                Cell Cycle_Homo sapiens_R-HSA-1640170   \n",
       "188379  Validated targets of C-MYC transcriptional repression_Homo sapiens_6bbdafa6-6196-11e5-8ac5-06603...   \n",
       "188581        XPodNet - protein-protein interactions in the podocyte expanded by STRING_Mus musculus_WP2309   \n",
       "188380                           Regulation of Telomerase_Homo sapiens_4dfe97ca-6195-11e5-8ac5-06603eb7f303   \n",
       "188582                                                    Retinoblastoma (RB) in Cancer_Homo sapiens_WP2446   \n",
       "189001                                                    Interleukin-2 signaling_Homo sapiens_R-HSA-451927   \n",
       "189002                                      Interleukin-3, 5 and GM-CSF signaling_Homo sapiens_R-HSA-512988   \n",
       "189889                                                    resolution of meiotic recombination intermediates   \n",
       "188583                                                           EGFR1 Signaling Pathway_Mus musculus_WP572   \n",
       "188381                   E2F transcription factor network_Homo sapiens_bb4d0fd3-6191-11e5-8ac5-06603eb7f303   \n",
       "188382                            Notch signaling pathway_Homo sapiens_88f83518-6194-11e5-8ac5-06603eb7f303   \n",
       "188584                                                                        Cell Cycle_Homo sapiens_WP179   \n",
       "189003                                                         Cell Cycle, Mitotic_Homo sapiens_R-HSA-69278   \n",
       "189004                                         Interleukin receptor SHC signaling_Homo sapiens_R-HSA-912526   \n",
       "\n",
       "        combined_score  adj_p_value  n_genes  rank  \n",
       "189887        68.26198      0.00160       22     1  \n",
       "189000        36.50732      0.00027       28     1  \n",
       "188379        15.36952      0.00957        7     1  \n",
       "188581        22.46025      0.01109       30     1  \n",
       "188380        14.71910      0.00957        7     2  \n",
       "188582        17.16690      0.01763        8     2  \n",
       "189001        30.22085      0.00159       16     2  \n",
       "189002        29.30395      0.00159       16     3  \n",
       "189889        29.55728      0.01649        4     3  \n",
       "188583        15.61893      0.04176       10     3  \n",
       "188381        14.33169      0.01007        7     3  \n",
       "188382        11.23793      0.01690        6     4  \n",
       "188584        14.70694      0.02988        8     4  \n",
       "189003        27.72709      0.00159       22     4  \n",
       "189004        27.24209      0.00159       15     5  "
      ]
     },
     "metadata": {},
     "output_type": "display_data"
    }
   ],
   "source": [
    "time_1_hour_prot = et.filter_dataframe(proteomics, \n",
    "                                       p_value=0.05,\n",
    "                                       combined_score=0.0, \n",
    "                                       sample_id='01hr', \n",
    "                                       db=process_dbs,\n",
    "                                      )\n",
    "display(time_1_hour_prot[print_cols].sort_values('rank').head(15))"
   ]
  },
  {
   "cell_type": "markdown",
   "metadata": {},
   "source": [
    "Since terms across databases might be redundant (\"Interleukin-3, 5 and GM-CSF signaling_Homo sapiens_R-HSA-512988\" and \"Interleukin receptor SHC signaling_Homo sapiens_R-HSA-912526\" have nearly a full overlap of genes), we want to eliminate duplicate terms and focus on the most enriched. For that we use the Jaccard Index. It is implmented in the find_similar_terms function in enrichment_tools (et)."
   ]
  },
  {
   "cell_type": "markdown",
   "metadata": {},
   "source": [
    "Now we can explore the top hits, which has been slimmed from 89 to 33 terms. Generally this is where the expert knowledge comes in. However, a quick search with each term and search terms of you molecule of interest tend to be useful. \n",
    "\n",
    "The first hit is 'negative regulation of transcription', which means that something caused genes not to be transcribed. Cisplatin causes DNA damage, thus negative regulaton of transcription makes sense. So does top hit 2, 'Cell Cycle_Homo sapiens_R-HSA-1640170'. \n",
    "\n",
    "A quick search for 'Interleukin-2 signaling' and 'Cisplatin' __[link](https://www.google.com/search?rlz=1C1CHBD_enUS721US721&ei=KzNeWuCxBsfq_AaSgYuYDQ&q=Interleukin-2+signaling+cisplatin&oq=Interleukin-2+signaling+cisplatin&gs_l=psy-ab.3..35i39k1.8097.9052.0.9196.10.10.0.0.0.0.145.897.7j3.10.0....0...1c.1.64.psy-ab..3.2.218....0.TInUjcZY740)__ returns a paper titled \"Cisplatin at clinically relevant concentrations enhances interleukin-2 synthesis by human primary blood lymphocytes.\" __[link](https://www.ncbi.nlm.nih.gov/pubmed/10211553)__\n",
    "\n",
    "\n",
    "We can link the two together to see how once might regulate the other by looking at the molecular interactions."
   ]
  },
  {
   "cell_type": "markdown",
   "metadata": {},
   "source": [
    "## Expected findings"
   ]
  },
  {
   "cell_type": "code",
   "execution_count": 7,
   "metadata": {
    "scrolled": true
   },
   "outputs": [
    {
     "name": "stdout",
     "output_type": "stream",
     "text": [
      "Number of rows went from 89 to 25\n"
     ]
    },
    {
     "data": {
      "text/html": [
       "<div>\n",
       "<style>\n",
       "    .dataframe thead tr:only-child th {\n",
       "        text-align: right;\n",
       "    }\n",
       "\n",
       "    .dataframe thead th {\n",
       "        text-align: left;\n",
       "    }\n",
       "\n",
       "    .dataframe tbody tr th {\n",
       "        vertical-align: top;\n",
       "    }\n",
       "</style>\n",
       "<table border=\"1\" class=\"dataframe\">\n",
       "  <thead>\n",
       "    <tr style=\"text-align: right;\">\n",
       "      <th></th>\n",
       "      <th>term_name</th>\n",
       "      <th>combined_score</th>\n",
       "      <th>adj_p_value</th>\n",
       "      <th>n_genes</th>\n",
       "      <th>rank</th>\n",
       "    </tr>\n",
       "  </thead>\n",
       "  <tbody>\n",
       "    <tr>\n",
       "      <th>189887</th>\n",
       "      <td>negative regulation of transcription, DNA-templated</td>\n",
       "      <td>68.26198</td>\n",
       "      <td>0.00160</td>\n",
       "      <td>22</td>\n",
       "      <td>1</td>\n",
       "    </tr>\n",
       "    <tr>\n",
       "      <th>189000</th>\n",
       "      <td>Cell Cycle_Homo sapiens_R-HSA-1640170</td>\n",
       "      <td>36.50732</td>\n",
       "      <td>0.00027</td>\n",
       "      <td>28</td>\n",
       "      <td>1</td>\n",
       "    </tr>\n",
       "    <tr>\n",
       "      <th>189001</th>\n",
       "      <td>Interleukin-2 signaling_Homo sapiens_R-HSA-451927</td>\n",
       "      <td>30.22085</td>\n",
       "      <td>0.00159</td>\n",
       "      <td>16</td>\n",
       "      <td>2</td>\n",
       "    </tr>\n",
       "    <tr>\n",
       "      <th>189889</th>\n",
       "      <td>resolution of meiotic recombination intermediates</td>\n",
       "      <td>29.55728</td>\n",
       "      <td>0.01649</td>\n",
       "      <td>4</td>\n",
       "      <td>3</td>\n",
       "    </tr>\n",
       "    <tr>\n",
       "      <th>189008</th>\n",
       "      <td>Signalling by NGF_Homo sapiens_R-HSA-166520</td>\n",
       "      <td>25.78307</td>\n",
       "      <td>0.00159</td>\n",
       "      <td>21</td>\n",
       "      <td>9</td>\n",
       "    </tr>\n",
       "    <tr>\n",
       "      <th>189893</th>\n",
       "      <td>mitotic cytokinesis</td>\n",
       "      <td>24.79824</td>\n",
       "      <td>0.03095</td>\n",
       "      <td>5</td>\n",
       "      <td>7</td>\n",
       "    </tr>\n",
       "    <tr>\n",
       "      <th>188581</th>\n",
       "      <td>XPodNet - protein-protein interactions in the podocyte expanded by STRING_Mus musculus_WP2309</td>\n",
       "      <td>22.46025</td>\n",
       "      <td>0.01109</td>\n",
       "      <td>30</td>\n",
       "      <td>1</td>\n",
       "    </tr>\n",
       "    <tr>\n",
       "      <th>189894</th>\n",
       "      <td>chloride transport</td>\n",
       "      <td>22.31045</td>\n",
       "      <td>0.02926</td>\n",
       "      <td>5</td>\n",
       "      <td>8</td>\n",
       "    </tr>\n",
       "    <tr>\n",
       "      <th>189032</th>\n",
       "      <td>Axon guidance_Homo sapiens_R-HSA-422475</td>\n",
       "      <td>20.50960</td>\n",
       "      <td>0.00159</td>\n",
       "      <td>22</td>\n",
       "      <td>33</td>\n",
       "    </tr>\n",
       "    <tr>\n",
       "      <th>188582</th>\n",
       "      <td>Retinoblastoma (RB) in Cancer_Homo sapiens_WP2446</td>\n",
       "      <td>17.16690</td>\n",
       "      <td>0.01763</td>\n",
       "      <td>8</td>\n",
       "      <td>2</td>\n",
       "    </tr>\n",
       "    <tr>\n",
       "      <th>188583</th>\n",
       "      <td>EGFR1 Signaling Pathway_Mus musculus_WP572</td>\n",
       "      <td>15.61893</td>\n",
       "      <td>0.04176</td>\n",
       "      <td>10</td>\n",
       "      <td>3</td>\n",
       "    </tr>\n",
       "    <tr>\n",
       "      <th>188379</th>\n",
       "      <td>Validated targets of C-MYC transcriptional repression_Homo sapiens_6bbdafa6-6196-11e5-8ac5-06603...</td>\n",
       "      <td>15.36952</td>\n",
       "      <td>0.00957</td>\n",
       "      <td>7</td>\n",
       "      <td>1</td>\n",
       "    </tr>\n",
       "    <tr>\n",
       "      <th>188380</th>\n",
       "      <td>Regulation of Telomerase_Homo sapiens_4dfe97ca-6195-11e5-8ac5-06603eb7f303</td>\n",
       "      <td>14.71910</td>\n",
       "      <td>0.00957</td>\n",
       "      <td>7</td>\n",
       "      <td>2</td>\n",
       "    </tr>\n",
       "    <tr>\n",
       "      <th>188584</th>\n",
       "      <td>Cell Cycle_Homo sapiens_WP179</td>\n",
       "      <td>14.70694</td>\n",
       "      <td>0.02988</td>\n",
       "      <td>8</td>\n",
       "      <td>4</td>\n",
       "    </tr>\n",
       "    <tr>\n",
       "      <th>189056</th>\n",
       "      <td>Deactivation of the beta-catenin transactivating complex_Homo sapiens_R-HSA-3769402</td>\n",
       "      <td>14.53132</td>\n",
       "      <td>0.00159</td>\n",
       "      <td>6</td>\n",
       "      <td>57</td>\n",
       "    </tr>\n",
       "    <tr>\n",
       "      <th>188381</th>\n",
       "      <td>E2F transcription factor network_Homo sapiens_bb4d0fd3-6191-11e5-8ac5-06603eb7f303</td>\n",
       "      <td>14.33169</td>\n",
       "      <td>0.01007</td>\n",
       "      <td>7</td>\n",
       "      <td>3</td>\n",
       "    </tr>\n",
       "    <tr>\n",
       "      <th>189059</th>\n",
       "      <td>Immune System_Homo sapiens_R-HSA-168256</td>\n",
       "      <td>12.58844</td>\n",
       "      <td>0.00899</td>\n",
       "      <td>43</td>\n",
       "      <td>60</td>\n",
       "    </tr>\n",
       "    <tr>\n",
       "      <th>188382</th>\n",
       "      <td>Notch signaling pathway_Homo sapiens_88f83518-6194-11e5-8ac5-06603eb7f303</td>\n",
       "      <td>11.23793</td>\n",
       "      <td>0.01690</td>\n",
       "      <td>6</td>\n",
       "      <td>4</td>\n",
       "    </tr>\n",
       "    <tr>\n",
       "      <th>189062</th>\n",
       "      <td>SUMO E3 ligases SUMOylate target proteins_Homo sapiens_R-HSA-3108232</td>\n",
       "      <td>9.93208</td>\n",
       "      <td>0.01335</td>\n",
       "      <td>7</td>\n",
       "      <td>63</td>\n",
       "    </tr>\n",
       "    <tr>\n",
       "      <th>189063</th>\n",
       "      <td>DNA Repair_Homo sapiens_R-HSA-73894</td>\n",
       "      <td>9.56920</td>\n",
       "      <td>0.03207</td>\n",
       "      <td>12</td>\n",
       "      <td>64</td>\n",
       "    </tr>\n",
       "    <tr>\n",
       "      <th>189067</th>\n",
       "      <td>Signaling by Rho GTPases_Homo sapiens_R-HSA-194315</td>\n",
       "      <td>8.89983</td>\n",
       "      <td>0.03604</td>\n",
       "      <td>14</td>\n",
       "      <td>68</td>\n",
       "    </tr>\n",
       "    <tr>\n",
       "      <th>189071</th>\n",
       "      <td>Unfolded Protein Response (UPR)_Homo sapiens_R-HSA-381119</td>\n",
       "      <td>8.07694</td>\n",
       "      <td>0.03207</td>\n",
       "      <td>6</td>\n",
       "      <td>72</td>\n",
       "    </tr>\n",
       "    <tr>\n",
       "      <th>189072</th>\n",
       "      <td>Processing of Capped Intron-Containing Pre-mRNA_Homo sapiens_R-HSA-72203</td>\n",
       "      <td>7.80571</td>\n",
       "      <td>0.04839</td>\n",
       "      <td>9</td>\n",
       "      <td>73</td>\n",
       "    </tr>\n",
       "    <tr>\n",
       "      <th>189085</th>\n",
       "      <td>Platelet Aggregation (Plug Formation)_Homo sapiens_R-HSA-76009</td>\n",
       "      <td>5.41289</td>\n",
       "      <td>0.03207</td>\n",
       "      <td>4</td>\n",
       "      <td>86</td>\n",
       "    </tr>\n",
       "    <tr>\n",
       "      <th>189087</th>\n",
       "      <td>Apoptotic cleavage of cellular proteins_Homo sapiens_R-HSA-111465</td>\n",
       "      <td>5.31945</td>\n",
       "      <td>0.03207</td>\n",
       "      <td>4</td>\n",
       "      <td>88</td>\n",
       "    </tr>\n",
       "  </tbody>\n",
       "</table>\n",
       "</div>"
      ],
      "text/plain": [
       "                                                                                                  term_name  \\\n",
       "189887                                                  negative regulation of transcription, DNA-templated   \n",
       "189000                                                                Cell Cycle_Homo sapiens_R-HSA-1640170   \n",
       "189001                                                    Interleukin-2 signaling_Homo sapiens_R-HSA-451927   \n",
       "189889                                                    resolution of meiotic recombination intermediates   \n",
       "189008                                                          Signalling by NGF_Homo sapiens_R-HSA-166520   \n",
       "189893                                                                                  mitotic cytokinesis   \n",
       "188581        XPodNet - protein-protein interactions in the podocyte expanded by STRING_Mus musculus_WP2309   \n",
       "189894                                                                                   chloride transport   \n",
       "189032                                                              Axon guidance_Homo sapiens_R-HSA-422475   \n",
       "188582                                                    Retinoblastoma (RB) in Cancer_Homo sapiens_WP2446   \n",
       "188583                                                           EGFR1 Signaling Pathway_Mus musculus_WP572   \n",
       "188379  Validated targets of C-MYC transcriptional repression_Homo sapiens_6bbdafa6-6196-11e5-8ac5-06603...   \n",
       "188380                           Regulation of Telomerase_Homo sapiens_4dfe97ca-6195-11e5-8ac5-06603eb7f303   \n",
       "188584                                                                        Cell Cycle_Homo sapiens_WP179   \n",
       "189056                  Deactivation of the beta-catenin transactivating complex_Homo sapiens_R-HSA-3769402   \n",
       "188381                   E2F transcription factor network_Homo sapiens_bb4d0fd3-6191-11e5-8ac5-06603eb7f303   \n",
       "189059                                                              Immune System_Homo sapiens_R-HSA-168256   \n",
       "188382                            Notch signaling pathway_Homo sapiens_88f83518-6194-11e5-8ac5-06603eb7f303   \n",
       "189062                                 SUMO E3 ligases SUMOylate target proteins_Homo sapiens_R-HSA-3108232   \n",
       "189063                                                                  DNA Repair_Homo sapiens_R-HSA-73894   \n",
       "189067                                                   Signaling by Rho GTPases_Homo sapiens_R-HSA-194315   \n",
       "189071                                            Unfolded Protein Response (UPR)_Homo sapiens_R-HSA-381119   \n",
       "189072                             Processing of Capped Intron-Containing Pre-mRNA_Homo sapiens_R-HSA-72203   \n",
       "189085                                       Platelet Aggregation (Plug Formation)_Homo sapiens_R-HSA-76009   \n",
       "189087                                    Apoptotic cleavage of cellular proteins_Homo sapiens_R-HSA-111465   \n",
       "\n",
       "        combined_score  adj_p_value  n_genes  rank  \n",
       "189887        68.26198      0.00160       22     1  \n",
       "189000        36.50732      0.00027       28     1  \n",
       "189001        30.22085      0.00159       16     2  \n",
       "189889        29.55728      0.01649        4     3  \n",
       "189008        25.78307      0.00159       21     9  \n",
       "189893        24.79824      0.03095        5     7  \n",
       "188581        22.46025      0.01109       30     1  \n",
       "189894        22.31045      0.02926        5     8  \n",
       "189032        20.50960      0.00159       22    33  \n",
       "188582        17.16690      0.01763        8     2  \n",
       "188583        15.61893      0.04176       10     3  \n",
       "188379        15.36952      0.00957        7     1  \n",
       "188380        14.71910      0.00957        7     2  \n",
       "188584        14.70694      0.02988        8     4  \n",
       "189056        14.53132      0.00159        6    57  \n",
       "188381        14.33169      0.01007        7     3  \n",
       "189059        12.58844      0.00899       43    60  \n",
       "188382        11.23793      0.01690        6     4  \n",
       "189062         9.93208      0.01335        7    63  \n",
       "189063         9.56920      0.03207       12    64  \n",
       "189067         8.89983      0.03604       14    68  \n",
       "189071         8.07694      0.03207        6    72  \n",
       "189072         7.80571      0.04839        9    73  \n",
       "189085         5.41289      0.03207        4    86  \n",
       "189087         5.31945      0.03207        4    88  "
      ]
     },
     "metadata": {},
     "output_type": "display_data"
    }
   ],
   "source": [
    "filtered_1hr = et.filter_similar_terms(time_1_hour_prot, threshold=.7)\n",
    "display(filtered_1hr[print_cols].head(25))"
   ]
  },
  {
   "cell_type": "code",
   "execution_count": 8,
   "metadata": {
    "scrolled": false
   },
   "outputs": [
    {
     "name": "stdout",
     "output_type": "stream",
     "text": [
      "('DNA Repair', 12)\n",
      "('Cell Cycle', 28)\n",
      "('Anti-transcription', 22)\n",
      "Looking for direct edges\n"
     ]
    }
   ],
   "source": [
    "shorten_names = {\n",
    "    'Cell Cycle_Homo sapiens_R-HSA-1640170':'Cell Cycle',\n",
    "    'negative regulation of transcription, DNA-templated': 'Anti-transcription',\n",
    "    'DNA Repair_Homo sapiens_R-HSA-73894' : 'DNA Repair',\n",
    "#     'Interleukin-2 signaling_Homo sapiens_R-HSA-451927': 'IL2',\n",
    "#     'resolution of meiotic recombination intermediates': 'Meiotic Recombination', \n",
    "#     'E2F transcription factor network_Homo sapiens_bb4d0fd3-6191-11e5-8ac5-06603eb7f303' : 'E2F tfs'\n",
    "                }\n",
    "renamed_1hr = filtered_1hr.copy()\n",
    "renamed_1hr['term_name'] = renamed_1hr['term_name'].replace(shorten_names)\n",
    "term_net_1, mol_net_1 = nt.create_subnetwork(shorten_names.values(), renamed_1hr, network, '1hr')\n"
   ]
  },
  {
   "cell_type": "code",
   "execution_count": 9,
   "metadata": {
    "scrolled": false
   },
   "outputs": [
    {
     "data": {
      "text/html": [
       "<!DOCTYPE html>\n",
       "<html>\n",
       "<head>\n",
       "    <meta charset=utf-8/>\n",
       "    <style type=\"text/css\">\n",
       "        body {font: 14px helvetica neue, helvetica, arial, sans-serif;}\n",
       "\n",
       "        #cy919459b3-138b-4952-b94c-9a96703ae29c{\n",
       "            height: 700px;\n",
       "            width: 90%;\n",
       "            border: 5px solid black;\n",
       "            box-sizing: border-box;\n",
       "            position: absolute;\n",
       "            top: 5px;\n",
       "            background: #FFFFFF;\n",
       "        }\n",
       "    </style>\n",
       "\n",
       "    <script>\n",
       "        (function () {\n",
       "            function render() {\n",
       "                $('#cy919459b3-138b-4952-b94c-9a96703ae29c').cytoscape({\n",
       "                    elements: {\n",
       "                        nodes: [{\"data\": {\"term\": \"DNA Repair\", \"id\": \"DNA Repair\", \"name\": \"DNA Repair\", \"label\": \"DNA Repair\"}}, {\"data\": {\"term\": \"Anti-transcription\", \"id\": \"Anti-transcription\", \"name\": \"Anti-transcription\", \"label\": \"Anti-transcription\"}}, {\"data\": {\"term\": \"Cell Cycle\", \"id\": \"Cell Cycle\", \"name\": \"Cell Cycle\", \"label\": \"Cell Cycle\"}}],\n",
       "                        edges: [{\"data\": {\"source\": \"DNA Repair\", \"target\": \"Anti-transcription\", \"weight\": 4, \"label\": \"4\"}}, {\"data\": {\"source\": \"DNA Repair\", \"target\": \"Cell Cycle\", \"weight\": 5, \"label\": \"5\"}}, {\"data\": {\"source\": \"Anti-transcription\", \"target\": \"Cell Cycle\", \"weight\": 3, \"label\": \"3\"}}, {\"data\": {\"source\": \"Cell Cycle\", \"target\": \"DNA Repair\", \"weight\": 1, \"label\": \"1\"}}, {\"data\": {\"source\": \"Cell Cycle\", \"target\": \"Anti-transcription\", \"weight\": 4, \"label\": \"4\"}}]\n",
       "                    },\n",
       "\n",
       "                    layout: {\n",
       "                        name: 'cose-bilkent'\n",
       "                    },\n",
       "\n",
       "                    boxSelectionEnabled: true,\n",
       "                    wheelSensitivity:.25,\n",
       "                    ready: function () {\n",
       "                        window.cy = this;\n",
       "                        cy.fit();\n",
       "                        cy.style().fromJson([{\"css\": {\"text-opacity\": 1.0, \"background-opacity\": 1.0, \"font-family\": \"SansSerif\", \"width\": \"mapData(weight, 0, 100, 20, 75)\", \"color\": \"rgb(0,153,234)\", \"border-width\": 3.0, \"height\": \"mapData(weight, 0, 100, 20, 75)\", \"content\": \"data(name)\", \"border-color\": \"rgb(51,51,51)\", \"shape\": \"ellipse\", \"border-opacity\": 1.0, \"font-size\": 9, \"text-wrap\": \"wrap\", \"text-halign\": \"center\", \"font-weight\": \"normal\", \"text-valign\": \"center\", \"text-max-width\": 95, \"background-color\": \"rgb(255,255,255)\"}, \"selector\": \"node\"}, {\"css\": {\"text-opacity\": 1.0, \"background-opacity\": 1.0, \"font-family\": \"SansSerif\", \"width\": \"mapData(weight, 0, 100, 20, 75)\", \"color\": \"rgb(0,153,234)\", \"border-width\": 3.0, \"height\": \"mapData(weight, 0, 100, 20, 75)\", \"content\": \"data(chemName)\", \"border-color\": \"rgb(51,51,51)\", \"shape\": \"ellipse\", \"border-opacity\": 1.0, \"font-size\": 9, \"text-wrap\": \"wrap\", \"text-halign\": \"center\", \"font-weight\": \"normal\", \"text-valign\": \"center\", \"text-max-width\": 95, \"background-color\": \"rgb(255,255,255)\"}, \"selector\": \"node[speciesType = 'compound']\"}, {\"css\": {\"text-halign\": \"center\", \"font-size\": 20, \"padding-right\": \"10px\", \"padding-bottom\": \"10px\", \"padding-top\": \"10px\", \"text-valign\": \"top\", \"shape\": \"ellipse\", \"background-color\": \"#bbb\", \"padding-left\": \"10px\"}, \"selector\": \"$node > node\"}, {\"css\": {\"background-color\": \"rgb(255,0,102)\"}, \"selector\": \"node:selected\"}, {\"css\": {\"opacity\": 1.0, \"text-opacity\": 1.0, \"font-size\": 12, \"target-arrow-shape\": \"triangle\", \"source-arrow-shape\": \"none\", \"color\": \"rgb(0,0,0)\", \"source-arrow-color\": \"rgb(0,0,0)\", \"line-color\": \"rgb(51,51,51)\", \"line-style\": \"solid\", \"font-family\": \"SansSerif\", \"target-arrow-color\": \"rgb(51,51,51)\", \"content\": \"data(interaction)\", \"width\": \"mapData(weight, 1, 10, 1, 5)\", \"curve-style\": \"bezier\", \"font-weight\": \"normal\"}, \"selector\": \"edge\"}, {\"css\": {\"target-arrow-shape\": \"tee\", \"curve-style\": \"bezier\"}, \"selector\": \"edge[interactionType *= 'inhibit'],edge[interactionType *= 'deactivat']\"}, {\"css\": {\"line-color\": \"rgb(255,0,0)\", \"label\": \"data(interactionType)\"}, \"selector\": \"edge:selected\"}]).update();\n",
       "                    }\n",
       "                });\n",
       "            }\n",
       "\n",
       "            var before_render = function () {\n",
       "                if (window['cytoscape'] === undefined) {\n",
       "                    console.log(\"Waiting for Cyjs...\");\n",
       "                    window.addEventListener(\"load_cytoscape\", before_render);\n",
       "                } else {\n",
       "                    console.log(\"Ready to render graph!\");\n",
       "                    render();\n",
       "                }\n",
       "            };\n",
       "            before_render();\n",
       "        })();\n",
       "        if (window['cytoscape'] === undefined) {\n",
       "    console.log('starting loading');\n",
       "\n",
       "    requirejs.config({\n",
       "\n",
       "        paths: {\n",
       "            'cytoscape': 'https://cdnjs.cloudflare.com/ajax/libs/cytoscape/2.7.23/cytoscape.min',\n",
       "            'cytoscape-qtip': 'https://cdn.rawgit.com/cytoscape/cytoscape.js-qtip/2.7.0/cytoscape-qtip',\n",
       "            'jquery': 'https://cdnjs.cloudflare.com/ajax/libs/jquery/2.2.4/jquery.min',\n",
       "            'qtip2': 'https://cdnjs.cloudflare.com/ajax/libs/qtip2/2.2.0/basic/jquery.qtip.min',\n",
       "            'cytoscape-cose-bilkent': 'https://cdn.rawgit.com/cytoscape/cytoscape.js-cose-bilkent/1.6.1/cytoscape-cose-bilkent'\n",
       "        }\n",
       "    });\n",
       "    window.$ = window.jQuery = require('jquery');\n",
       "\n",
       "    require(['cytoscape', 'cytoscape-qtip', 'jquery', 'cytoscape-cose-bilkent'],\n",
       "        function (cytoscape, cyqtip, jquery, regCose) {\n",
       "            console.log('Loading Cytoscape.js Module...');\n",
       "            cyqtip(cytoscape, jquery);\n",
       "            regCose(cytoscape);\n",
       "            window['cytoscape'] = cytoscape;\n",
       "\n",
       "            var event = document.createEvent(\"HTMLEvents\");\n",
       "            event.initEvent(\"load_cytoscape\", true, false);\n",
       "            window.dispatchEvent(event);\n",
       "        }\n",
       "    );\n",
       "}\n",
       "\n",
       "    </script>\n",
       "</head>\n",
       "\n",
       "<body>\n",
       "<div id=\"cy919459b3-138b-4952-b94c-9a96703ae29c\"></div>\n",
       "<!-- When only #uuid div is placed on this page,\n",
       "the height of output-box on ipynb will be 0px.\n",
       "One line below will prevent that. -->\n",
       "<div id=\"dummy\" style=\"width:100px;height:700px\"></div>\n",
       "</body>\n",
       "\n",
       "</html>"
      ],
      "text/plain": [
       "<IPython.core.display.HTML object>"
      ]
     },
     "metadata": {},
     "output_type": "display_data"
    }
   ],
   "source": [
    "view.display_graph(term_net_1)"
   ]
  },
  {
   "cell_type": "code",
   "execution_count": 10,
   "metadata": {
    "scrolled": false
   },
   "outputs": [
    {
     "data": {
      "text/html": [
       "<!DOCTYPE html>\n",
       "<html>\n",
       "<head>\n",
       "    <meta charset=utf-8/>\n",
       "    <style type=\"text/css\">\n",
       "        body {font: 14px helvetica neue, helvetica, arial, sans-serif;}\n",
       "\n",
       "        #cyc3428689-0b89-4d69-b2f2-234fa966485e{\n",
       "            height: 700px;\n",
       "            width: 90%;\n",
       "            border: 5px solid black;\n",
       "            box-sizing: border-box;\n",
       "            position: absolute;\n",
       "            top: 5px;\n",
       "            background: #FFFFFF;\n",
       "        }\n",
       "    </style>\n",
       "\n",
       "    <script>\n",
       "        (function () {\n",
       "            function render() {\n",
       "                $('#cyc3428689-0b89-4d69-b2f2-234fa966485e').cytoscape({\n",
       "                    elements: {\n",
       "                        nodes: [{\"data\": {\"termName\": \"Anti-transcription,Cell Cycle,DNA Repair\", \"terms\": \"Anti-transcription,Cell Cycle,DNA Repair\", \"id\": \"BRCA1\", \"parent\": \"Anti-transcription,Cell Cycle,DNA Repair\", \"name\": \"BRCA1\"}}, {\"data\": {\"termName\": \"Cell Cycle\", \"terms\": \"Cell Cycle\", \"id\": \"SMC1A\", \"parent\": \"Cell Cycle\", \"name\": \"SMC1A\"}}, {\"data\": {\"termName\": \"DNA Repair\", \"terms\": \"DNA Repair\", \"id\": \"SLX4\", \"parent\": \"DNA Repair\", \"name\": \"SLX4\"}}, {\"data\": {\"id\": \"Anti-transcription,Cell Cycle,DNA Repair\", \"name\": \"Anti-transcription,Cell Cycle,DNA Repair\"}}, {\"data\": {\"id\": \"Anti-transcription\", \"name\": \"Anti-transcription\"}}, {\"data\": {\"termName\": \"DNA Repair\", \"terms\": \"DNA Repair\", \"id\": \"ERCC4\", \"parent\": \"DNA Repair\", \"name\": \"ERCC4\"}}, {\"data\": {\"termName\": \"Cell Cycle\", \"terms\": \"Cell Cycle\", \"id\": \"CDC20\", \"parent\": \"Cell Cycle\", \"name\": \"CDC20\"}}, {\"data\": {\"termName\": \"Cell Cycle\", \"terms\": \"Cell Cycle\", \"id\": \"MAPK3\", \"parent\": \"Cell Cycle\", \"name\": \"MAPK3\"}}, {\"data\": {\"termName\": \"DNA Repair\", \"terms\": \"DNA Repair\", \"id\": \"PIAS1\", \"parent\": \"DNA Repair\", \"name\": \"PIAS1\"}}, {\"data\": {\"id\": \"Cell Cycle\", \"name\": \"Cell Cycle\"}}, {\"data\": {\"termName\": \"Anti-transcription\", \"terms\": \"Anti-transcription\", \"id\": \"RBM15\", \"parent\": \"Anti-transcription\", \"name\": \"RBM15\"}}, {\"data\": {\"id\": \"DNA Repair\", \"name\": \"DNA Repair\"}}, {\"data\": {\"termName\": \"Cell Cycle\", \"terms\": \"Cell Cycle\", \"id\": \"MYC\", \"parent\": \"Cell Cycle\", \"name\": \"MYC\"}}, {\"data\": {\"termName\": \"Anti-transcription\", \"terms\": \"Anti-transcription\", \"id\": \"MYB\", \"parent\": \"Anti-transcription\", \"name\": \"MYB\"}}, {\"data\": {\"termName\": \"Anti-transcription\", \"terms\": \"Anti-transcription\", \"id\": \"ILF3\", \"parent\": \"Anti-transcription\", \"name\": \"ILF3\"}}, {\"data\": {\"termName\": \"Anti-transcription\", \"terms\": \"Anti-transcription\", \"id\": \"SHC1\", \"parent\": \"Anti-transcription\", \"name\": \"SHC1\"}}],\n",
       "                        edges: [{\"data\": {\"source\": \"BRCA1\", \"target\": \"SMC1A\", \"databaseSource\": \"ReactomeFI\", \"interactionType\": \"activate|binding\"}}, {\"data\": {\"source\": \"BRCA1\", \"target\": \"RBM15\", \"databaseSource\": \"ReactomeFI\", \"interactionType\": \"expression\"}}, {\"data\": {\"source\": \"BRCA1\", \"target\": \"CDC20\", \"databaseSource\": \"ReactomeFI\", \"interactionType\": \"expression\"}}, {\"data\": {\"source\": \"SLX4\", \"target\": \"BRCA1\", \"databaseSource\": \"ReactomeFI\", \"interactionType\": \"catalyze\"}}, {\"data\": {\"source\": \"ERCC4\", \"target\": \"BRCA1\", \"databaseSource\": \"ReactomeFI\", \"interactionType\": \"catalyze\"}}, {\"data\": {\"source\": \"MAPK3\", \"target\": \"MYC\", \"databaseSource\": \"KEGG|ReactomeFI\", \"interactionType\": \"activate|phosphorylate\"}}, {\"data\": {\"source\": \"MAPK3\", \"target\": \"SHC1\", \"databaseSource\": \"ReactomeFI\", \"interactionType\": \"activate|binding\"}}, {\"data\": {\"source\": \"PIAS1\", \"target\": \"BRCA1\", \"pubmedId\": 20016594, \"databaseSource\": \"BioGrid|ReactomeFI\", \"interactionType\": \"sumoylate\"}}, {\"data\": {\"source\": \"MYC\", \"target\": \"BRCA1\", \"databaseSource\": \"ReactomeFI\", \"interactionType\": \"expression\"}}, {\"data\": {\"source\": \"MYC\", \"target\": \"ILF3\", \"databaseSource\": \"ReactomeFI\", \"interactionType\": \"expression\"}}, {\"data\": {\"source\": \"MYB\", \"target\": \"MYC\", \"databaseSource\": \"ReactomeFI\", \"interactionType\": \"expression\"}}]\n",
       "                    },\n",
       "\n",
       "                    layout: {\n",
       "                        name: 'cose-bilkent'\n",
       "                    },\n",
       "\n",
       "                    boxSelectionEnabled: true,\n",
       "                    wheelSensitivity:.25,\n",
       "                    ready: function () {\n",
       "                        window.cy = this;\n",
       "                        cy.fit();\n",
       "                        cy.style().fromJson([{\"css\": {\"text-opacity\": 1.0, \"background-opacity\": 1.0, \"font-family\": \"SansSerif\", \"width\": \"mapData(weight, 0, 100, 20, 75)\", \"color\": \"rgb(0,153,234)\", \"border-width\": 3.0, \"height\": \"mapData(weight, 0, 100, 20, 75)\", \"content\": \"data(name)\", \"border-color\": \"rgb(51,51,51)\", \"shape\": \"ellipse\", \"border-opacity\": 1.0, \"font-size\": 9, \"text-wrap\": \"wrap\", \"text-halign\": \"center\", \"font-weight\": \"normal\", \"text-valign\": \"center\", \"text-max-width\": 95, \"background-color\": \"rgb(255,255,255)\"}, \"selector\": \"node\"}, {\"css\": {\"text-opacity\": 1.0, \"background-opacity\": 1.0, \"font-family\": \"SansSerif\", \"width\": \"mapData(weight, 0, 100, 20, 75)\", \"color\": \"rgb(0,153,234)\", \"border-width\": 3.0, \"height\": \"mapData(weight, 0, 100, 20, 75)\", \"content\": \"data(chemName)\", \"border-color\": \"rgb(51,51,51)\", \"shape\": \"ellipse\", \"border-opacity\": 1.0, \"font-size\": 9, \"text-wrap\": \"wrap\", \"text-halign\": \"center\", \"font-weight\": \"normal\", \"text-valign\": \"center\", \"text-max-width\": 95, \"background-color\": \"rgb(255,255,255)\"}, \"selector\": \"node[speciesType = 'compound']\"}, {\"css\": {\"text-halign\": \"center\", \"font-size\": 20, \"padding-right\": \"10px\", \"padding-bottom\": \"10px\", \"padding-top\": \"10px\", \"text-valign\": \"top\", \"shape\": \"ellipse\", \"background-color\": \"#bbb\", \"padding-left\": \"10px\"}, \"selector\": \"$node > node\"}, {\"css\": {\"background-color\": \"rgb(255,0,102)\"}, \"selector\": \"node:selected\"}, {\"css\": {\"opacity\": 1.0, \"text-opacity\": 1.0, \"font-size\": 12, \"target-arrow-shape\": \"triangle\", \"source-arrow-shape\": \"none\", \"color\": \"rgb(0,0,0)\", \"source-arrow-color\": \"rgb(0,0,0)\", \"line-color\": \"rgb(51,51,51)\", \"line-style\": \"solid\", \"font-family\": \"SansSerif\", \"target-arrow-color\": \"rgb(51,51,51)\", \"content\": \"data(interaction)\", \"width\": \"mapData(weight, 1, 10, 1, 5)\", \"curve-style\": \"bezier\", \"font-weight\": \"normal\"}, \"selector\": \"edge\"}, {\"css\": {\"target-arrow-shape\": \"tee\", \"curve-style\": \"bezier\"}, \"selector\": \"edge[interactionType *= 'inhibit'],edge[interactionType *= 'deactivat']\"}, {\"css\": {\"line-color\": \"rgb(255,0,0)\", \"label\": \"data(interactionType)\"}, \"selector\": \"edge:selected\"}]).update();\n",
       "                    }\n",
       "                });\n",
       "            }\n",
       "\n",
       "            var before_render = function () {\n",
       "                if (window['cytoscape'] === undefined) {\n",
       "                    console.log(\"Waiting for Cyjs...\");\n",
       "                    window.addEventListener(\"load_cytoscape\", before_render);\n",
       "                } else {\n",
       "                    console.log(\"Ready to render graph!\");\n",
       "                    render();\n",
       "                }\n",
       "            };\n",
       "            before_render();\n",
       "        })();\n",
       "        if (window['cytoscape'] === undefined) {\n",
       "    console.log('starting loading');\n",
       "\n",
       "    requirejs.config({\n",
       "\n",
       "        paths: {\n",
       "            'cytoscape': 'https://cdnjs.cloudflare.com/ajax/libs/cytoscape/2.7.23/cytoscape.min',\n",
       "            'cytoscape-qtip': 'https://cdn.rawgit.com/cytoscape/cytoscape.js-qtip/2.7.0/cytoscape-qtip',\n",
       "            'jquery': 'https://cdnjs.cloudflare.com/ajax/libs/jquery/2.2.4/jquery.min',\n",
       "            'qtip2': 'https://cdnjs.cloudflare.com/ajax/libs/qtip2/2.2.0/basic/jquery.qtip.min',\n",
       "            'cytoscape-cose-bilkent': 'https://cdn.rawgit.com/cytoscape/cytoscape.js-cose-bilkent/1.6.1/cytoscape-cose-bilkent'\n",
       "        }\n",
       "    });\n",
       "    window.$ = window.jQuery = require('jquery');\n",
       "\n",
       "    require(['cytoscape', 'cytoscape-qtip', 'jquery', 'cytoscape-cose-bilkent'],\n",
       "        function (cytoscape, cyqtip, jquery, regCose) {\n",
       "            console.log('Loading Cytoscape.js Module...');\n",
       "            cyqtip(cytoscape, jquery);\n",
       "            regCose(cytoscape);\n",
       "            window['cytoscape'] = cytoscape;\n",
       "\n",
       "            var event = document.createEvent(\"HTMLEvents\");\n",
       "            event.initEvent(\"load_cytoscape\", true, false);\n",
       "            window.dispatchEvent(event);\n",
       "        }\n",
       "    );\n",
       "}\n",
       "\n",
       "    </script>\n",
       "</head>\n",
       "\n",
       "<body>\n",
       "<div id=\"cyc3428689-0b89-4d69-b2f2-234fa966485e\"></div>\n",
       "<!-- When only #uuid div is placed on this page,\n",
       "the height of output-box on ipynb will be 0px.\n",
       "One line below will prevent that. -->\n",
       "<div id=\"dummy\" style=\"width:100px;height:700px\"></div>\n",
       "</body>\n",
       "\n",
       "</html>"
      ],
      "text/plain": [
       "<IPython.core.display.HTML object>"
      ]
     },
     "metadata": {},
     "output_type": "display_data"
    }
   ],
   "source": [
    "view.display_graph(mol_net_1, add_parent=True)"
   ]
  },
  {
   "cell_type": "code",
   "execution_count": 11,
   "metadata": {},
   "outputs": [
    {
     "name": "stdout",
     "output_type": "stream",
     "text": [
      "12\n",
      "11\n",
      "Warning : set(['RP11-670E13.6', nan, 'HMDB04304', 'REM2', 'PROCA1', 'NR0B1', 'ZNF704', 'ZSWIM4', 'ZSWIM5', 'ZSWIM6', 'ZSWIM1', 'TMEM52', 'TMEM51', 'SSFA2', 'MIR6886', 'FAM84B', 'SP6', 'SP7', 'SPPL3', 'RRBP1', 'ERVK-9', 'HMDB11173', 'RP5-1050D4.5', 'HMDB13624', 'HMDB13626', 'PHLDA3', 'PHLDA2', 'XPO4', 'XPO7', 'AC133680.1', 'RASEF', 'AC004943.1', 'THSD4', 'FAM212A', 'uc_338', 'HPDL', 'HMDB05764', 'KCNH1', 'HMDB13716', 'ATAD5', 'HMDB34902', 'FAM134C', 'DCST2', 'HMDB29014', 'CTD-2033C11.1', 'TRERF1', 'TOPAZ1', 'SHROOM3', 'SHROOM2', 'NDUFAF7', 'HMDB29137', 'RP11-1H15.1', 'RP11-639F1.1', 'ATE1', 'HTR7P1', 'MIR555', 'C6orf183', 'CNOT6LP1', 'MOB2', 'LINC00672', 'RP11-435O5.2', 'RAB11FIP3', 'HMDB29117', 'HMDB01474', 'FAM20C', 'FGL1', 'MAGI1-IT1', 'IPO11', 'CHP1', 'HMDB00817', 'RBMXL3', 'SRBD1', 'ARL15', 'HMDB03355', 'CH507-42P11.8', 'SRD5A3-AS1', 'IFT81', 'KIF4B', 'KIF4A', 'CLIP2', 'HMDB33753', 'HMDB10719', 'SASH1', 'HMDB02320', 'RAB28', 'CCNJL', 'CYB5B', 'ACTR1B', 'WDR72', 'WDR74', 'TRIM10', 'SPRED3', 'PES1', 'RP11-575G13.2', 'ARL2BP', 'HMDB11719', 'NAALAD2', 'HMG20A', 'AF127936.7', 'RP11-1055B8.4', 'HMDB60729', 'RFX7', 'RABGAP1L', 'HMDB04225', 'TMEM40', 'FAM122A', 'NHLH1', 'RP5-1172N10.4', 'YTHDF2', 'YTHDF1', 'MIR1178', 'CTC-432M15.3', 'HMDB00489', 'PKDREJ', 'ZNF609', 'PPP1R9A', 'TNS1', 'FAM135A', 'ARID2', 'BOP1', 'EPS8L2', 'STK32B', 'ABTB2', 'GJA3', 'TLK1P1', 'HMDB13892', 'TRIM9', 'AP000648.5', 'TMC5', 'ANKRD13C', 'FAM168A', 'RP11-690D19.3', 'MLF2', 'ALCAM', 'AL356020.1', 'FAM21A', 'PHACTR4', 'SH3RF2', 'MTMR12', 'LARP4B', 'TET3', 'KIAA0020', 'HMDB29122', 'HMDB29126', 'HMDB04816', 'PCIF1', 'HMDB29125', 'HMDB28741', 'HMDB28740', 'HMDB28742', 'MIR4700', 'HMDB28744', 'ATXN2L', 'LRRC30', 'HAS1', 'SOWAHC', 'SH3PXD2B', 'SNORD61', 'FAM117B', 'SH3PXD2A', 'SVIL', 'KTN1', 'ZMAT1', 'HMDB12140', 'BMPER', 'HMDB12144', 'SMOC2', 'HMDB02746', 'RP11-463D19.2', 'BX322557.10', 'NINJ1', 'CROCC', 'RP5-965G21.3', 'HMDB05960', 'HMDB02249', 'CSDE1', 'IGLON5', 'SPAST', 'MIR4523', 'RP11-351D16.3', 'ZFX', 'ZFR', 'RP11-359E3.4', 'RP4-564F22.7', 'RP4-564F22.5', 'DCD', 'FAM46A', 'DLGAP4', 'MBNL2', 'C1orf226', 'TONSL', 'CDH24', 'R3HDM1', 'R3HDM2', 'BRD4', 'RBM43', 'RBM44', 'LRRFIP2', 'RBM47', 'AC078814.1', 'C3orf67', 'LARGE', 'FOXJ3', 'RP11-334C17.3', 'SEC16A', 'CMIP', 'PPM1G', 'PPM1H', 'HMDB13959', 'TSHZ1', 'PTPN9', 'RP11-705C15.3', 'THSD1', 'ZNF610', 'HMDB00473', 'GINS1', 'ST7-OT3_3', 'ST7-OT3_2', 'ST7-OT3_1', 'ZNF618', 'LRCH1', 'BMPR1APS1', 'BMPR1APS2', 'MYO1H', 'MYO1B', 'ADAMTS15', 'SNORD1A', 'RP11-14D22.2', 'SLC52A1', 'PGBD4', 'PGBD1', 'HMDB05766', 'RP11-110I1.12', 'RP11-399K21.11', 'SYNRG', 'KIF16B', 'LGALS9', 'ATXN10', 'FAM53C', 'RMND5A', 'AL049564.1', 'HMDB13773', 'G2E3', 'MIR6848', 'RPS6KC1', 'HN1', 'KIAA1217', 'KIAA1211', 'AGPAT9', 'RP11-1277A3.1', 'PEX19', 'KIAA1522', 'HMDB29111', 'LRRC20', 'LRRC29', 'HMDB01538', 'LRRC8C', 'SLC16A13', 'EYA4', 'PEAK1', 'RHPN2', 'LINC01270', 'RP5-984P4.6', 'HAVCR1', 'TM2D3', 'HMDB00875', 'HMDB12286', 'HMDB00871', 'OGFRL1', 'HMDB03371', 'HMDB28822', 'SMAP1', 'HMDB28823', 'RP11-1006G14.4', 'INMT-FAM188B', 'HMDB28824', 'RSBN1', 'SLC34A3', 'EVI5', 'HMDB10736', 'TDRD3', 'DOCK9-AS2', 'HMDB28985', 'HMDB28984', 'ABHD2', 'GPR3', 'HMDB02189', 'XPR1', 'HMDB13189', 'RP11-565P22.6', 'HMDB02186', 'CCNO', 'RASSF3', 'VMO1', 'HMDB11738', 'CTIF', 'NCKAP5', 'CHD1', 'NEBL', 'RP11-283I3.6', 'MIR630', 'RP11-399O19.9', 'SKIV2L', 'MIR7704', 'MIR7706', 'FLYWCH2', 'USP12PX', 'GATSL2', 'AC073043.1', 'GS1-114I9.3', 'HMDB13912', 'TMEM65', 'TCEB1P19', 'USP54', 'ASCC3', 'RNF121', 'MCPH1', 'RP11-734I18.1', 'SCML2', 'RP11-80H8.4', 'PKMP3', 'SRGAP2C', 'HMDB00468', 'ZNF622', 'HMDB06601', 'MIR452', 'FAM49B', 'NSA2', 'CTD-2186M15.3', 'RP11-175O19.4', 'ZNF488', 'TACC2', 'RP11-156E6.1', 'RP13-279N23.2', 'KIF20B', 'TMEM230', 'CTD-2535L24.2', 'HIVEP3', 'HDHD1', 'HDHD3', 'ANKHD1', 'KREMEN1', 'HMDB13988', 'SNORD22', 'SNORD25', 'SNORD27', 'SNORD26', 'SNORD28', 'HMDB00046', 'RP11-486G15.2', 'ZNF554', 'NACC2', 'KIAA0556', 'SCAF11', 'HOOK3', 'HMDB29107', 'LINC01468', 'TMEM164', 'HMDB28765', 'HMDB28763', 'MIR638', 'C18orf25', 'RP11-307N16.6', 'RPL35P6', 'IFFO2', 'PPAP2B', 'ZCCHC14', 'TRIM16L', 'PSPC1', 'RP11-54O7.17', 'CDRT1', 'HMDB01424', 'HMDB01420', 'DLG5', 'BLOC1S2', 'RP5-832C2.5', 'METTL10', 'chr22-38_28785274-29006793.1', 'METTL16', 'NPR3', 'SLC38A1', 'SLC38A2', 'SLC45A4', 'MTUS1', 'OSBPL8', 'CEP112', 'OSBPL3', 'TMEM184B', 'R3HCC1L', 'HMDB06040', 'HMDB06044', 'TEX2', 'NOVA2', 'HMDB02032', 'TANGO6', 'C1orf21', 'RP11-71H17.7', 'CHIC1', 'UACA', 'RP11-404P21.8', 'BRF1', 'DCDC2', 'DNAJC6', 'SND1-IT1', 'WDFY3', 'WDFY2', 'RN7SKP187', 'CEP85L', 'SLC2A13', 'MKRN3', 'ZNF837', 'SLC23A2', 'LHFPL2', 'RP1-292L20.3', 'SLC22A20', 'HMDB00736', 'RP11-48B3.4', 'HMDB00734', 'HMDB28974', 'KIF21B', 'AC005355.2', 'RP11-77H9.2', 'FRMPD2', 'HMDB00453', 'APOBEC3D', 'TBCC', 'SPAG17', 'TRPC4AP', 'MIR6132', 'LRRK1', 'GPX1P1', 'C15orf59', 'AFAP1', 'COBLL1', 'RGAG4', 'DDX10', 'CELP', 'KLF7', 'ST7', 'VWCE', 'N4BP2', 'ARFIP1', 'KIF18B', 'KLHDC7A', 'RP11-760D2.10', 'SNORD30', 'ADNP2', 'MAP3K19', 'AC009404.2', 'SESTD1', 'RP11-574K11.24', 'HMDB13312', 'TMEM177', 'TMEM171', 'GNL2', 'DNTTIP2', 'CDCA3', 'LRRC70', 'SETD5', 'FAM45BP', 'NOL10', 'JAKMIP3', 'HMDB12115', 'HMDB12114', 'FCHSD2', 'LEAP2', 'HMDB01434', 'SDE2', 'OSBPL11', 'AC017028.12', 'FA2H', 'UBTD2', 'UBTD1', 'DIXDC1', 'MIR8085', 'MESDC1', 'TBC1D3C', 'TBC1D3L', 'SCHIP1', 'MYCBPAP', 'RP1-228H13.5', 'AC021205.1', 'TULP4', 'C6orf141', 'COA4', 'PPP1R14D', 'RNF139-AS1', 'C9orf47', 'RNU6-810P', 'RP1-203P18.1', 'RP11-1084J3.3', 'HMDB02169', 'CDKAL1', 'RP11-1000B6.5', 'STXBP5', 'PAXIP1-AS1', 'STXBP6', 'HMDB00633', 'HMDB12249', 'ZNF18', 'HMDB12245', 'NUP50-AS1', 'HMDB12247', 'AAMP', 'HYPK', 'AP001350.4', 'TTC27', 'HMDB13034', 'HAS2', 'RNU2-15P', 'AC137055.1', 'SNORA51', 'TYW1B', 'KNSTRN', 'LRRFIP1', 'HMDB00709', 'RP11-50B3.1', 'COBL', 'RNF145', 'RP11-47I22.4', 'SF3B4', 'FAM188B', 'CEP55', 'SPECC1', 'HMDB11108', 'RERE', 'ELAC2', 'SCARA5', 'DDHD1', 'HMDB29942', 'HMDB36789', 'C3orf38', 'PACSIN2', 'SPECC1L-ADORA2A', 'ATP10B', 'TANC1', 'TANC2', 'CES3', 'PADI2', 'CYSRT1', 'SCML1', 'CTD-2571E19.3', 'FAM195B', 'AC017081.2', 'FKBP15', 'MIR7847', 'FAM3C', 'HMDB04624', 'PPP1R3G', 'OCIAD1', 'CYP4F11', 'CCDC91', 'RTN4IP1', 'ZNF574', 'RP11-363E7.4', 'CALM1,CALM2,CALM3', 'CTD-2639E6.9', 'HMDB29162', 'HMDB29160', 'ST7-AS1_2', 'GPATCH8', 'IQCJ-SCHIP1', 'GPATCH2', 'TMEM104', 'PSRC1', 'RP3-414A15.12', 'PRSS27', 'AMMECR1', 'CNST', 'RN7SL731P', 'HMDB29015', 'JADE3', 'JADE2', 'SNORD110', 'RP11-399J13.2', 'SMG1P7', 'AHNAK', 'TEKT5', 'AC009487.6', 'CAPN10-AS1', 'AC009506.2', 'DUXAP10', 'STK40', 'GFOD1', 'HMDB00848', 'AC015688.3', 'FRMD8', 'FRMD5', 'FRMD3', 'RP11-552M11.8', 'HMDB13206', 'LINC00205', 'HMDB02013', 'AGFG1', 'SGK223', 'HMDB00933', 'LHFP', 'BTBD19', 'BTBD11', 'DACT2', 'HMDB12325', 'HMDB12329', 'RP11-815I9.5', 'CTD-3014M21.1', 'WBP1L', 'HMDB13333', 'HMDB13338', 'EPB41L3', 'MKLN1', 'AC023855.1', 'WAC', 'PLEKHM1', 'PLEKHM3', 'HMDB03157', 'GMEB2', 'GMEB1', 'HMDB00621', 'FAM171A1', 'HMDB06270', 'SZRD1', 'HMDB01976', 'C9orf78', 'HMDB13025', 'EFHD2', 'SNORA40', 'GPRIN2', 'GPRIN3', 'GPRIN1', 'JARID2', 'EIF6', 'RBMS1', 'ATP11A', 'ANKRD17', 'ANKRD11', 'HMDB11678', 'ZC3H12C', 'TFAP2E', 'HMDB11677', 'HMDB28950', 'HMDB02396', 'TPST1', 'mascRNA-menRNA', 'CTB-31O20.2', 'PCNX', 'FAM53B', 'HMDB00430', 'MCM9', 'HMDB12489', 'EPC2', 'RNFT2', 'ACRC', 'CRIM1', 'HMDB01392', 'HMDB03843', 'HMDB13689', 'nan', 'FAM132A', 'MFHAS1', 'HBB', 'HMDB01151', 'HMDB00387', 'ATP9A', 'DHX15', 'HMDB00388', 'INAFM2', 'HYDIN', 'DGCR8', 'HMDB00544', 'DGCR2', 'DDX31', 'MICAL2', 'MICAL3', 'SUSD2', 'HMDB06720', 'NUFIP2', 'RP11-700P18.2', 'BRAT1', 'ZNF560', 'NIT1', 'ZNF843', 'HMDB29157', 'ACRBP', 'AL023806.1', 'PHF21A', 'DCLK2', 'AF127936.9', 'TMEM117', 'HMDB29064', 'AHNAK2', 'HMDB29101', 'MPDZ', 'HMDB00366', 'HMDB00991', 'CTD-2207O23.3', 'HMDB29026', 'MTFR2', 'MISP', 'PMP22', 'SLC25A46', 'CFAP99', 'STON2', 'PDZD8', 'RP11-377D9.3', 'JAZF1', 'RP11-255C15.3', 'CWF19L2', 'TNPO3', 'SGCD', 'CNKSR3', 'CNKSR2', 'GTDC1', 'LRRC8E', 'LRRC8D', 'ATP5G1P4', 'FERMT2', 'BCOR', 'ANKS1B', 'ANKS1A', 'HMDB13308', 'HMDB02141', 'COLCA2', 'HMDB03447', 'RP5-1050K3.3', 'PITPNM2', 'TBC1D14', 'KCTD1', 'HMDB06464', 'HMDB06460', 'TOLLIP-AS1', 'GLTSCR1L', 'RP11-395L14.18', 'FAM86B3P', 'FAM83D', 'CEBPA-AS1', 'RP11-132A1.4', 'CPNE8', 'EXOC6B', 'HMDB00897', 'HMDB00893', 'HMDB13016', 'ESF1', 'TMEM106B', 'ANLN', 'ZNF324B', 'RP11-150O12.3', 'PACS1', 'AP001505.10', 'RP11-960L18.1', 'RNF169', 'NEK1', 'HMDB00768', 'DGCR11', 'HMDB28924', 'HMDB05846', 'CTB-133G6.1', 'HMDB05842', 'HMDB05841', 'ZDHHC14', 'SCFD2', 'JPH2', 'HMDB41929', 'HMDB12654', 'RNU4-46P', 'RPF2', 'HMDB06488', 'LARP4', 'NATD1', 'LARP6', 'PCDHGC3', 'HMDB12166', 'IQCE', 'IQCJ', 'HMDB06620', 'SHCBP1', 'STRBP', 'HMDB00557', 'TC2N', 'SYAP1', 'POP1', 'RHBDD2', 'QSOX2', 'HMDB30964', 'MYO18A', 'HMDB05065', 'HMDB05066', 'BAZ2B', 'PKHD1L1', 'DNAI2', 'RP11-215E13.1', 'TADA2A', 'HMDB12874', 'RSBN1L', 'WT1-AS_1', 'HMDB29141', 'TMEM128', 'HMDB01566', 'RTTN', 'HMDB13658', 'HMDB13657', 'HMDB01365', 'FBXO34', 'ATXN2', 'KIAA0355', 'HMDB29031', 'HMDB29034', 'HMDB29037', 'AKAP12', 'AKAP10', 'SDPR', 'HMDB10220', 'RP5-877J2.1', 'BRWD3', 'DNM1P34', 'LASP1', 'HMDB13222', 'SCAF8', 'MIR4785', 'ARID5A', 'HMDB06001', 'MICALL2', 'NTN4', 'NTN5', 'MORC2', 'RBM6', 'WT1-AS', 'C1orf61', 'KAZN', 'HMDB13319', 'ESYT2', 'RP11-196G18.22', 'DYM', 'KLF12', 'HMDB41824', 'RP11-176D17.3', 'TTBK1', 'NRP2', 'DMXL2', 'HMDB12273', 'HMDB28806', 'HMDB28805', 'HMDB28808', 'HMDB06259', 'ZDBF2', 'RPGR', 'EVA1B', 'EVA1C', 'HMDB02939', 'TNRC6B', 'CTD-2323K18.1', 'CCSER2', 'HMDB03282', 'HMDB28932', 'HMDB28933', 'RNF208', 'HMDB28735', 'RP11-302M6.4', 'HMDB28938', 'HMDB28939', 'HMDB03405', 'HPCAL1', 'HMDB04705', 'HMDB04704', 'PYCRL', 'C16orf96', 'PLEKHA2', 'C16orf91', 'CEP295', 'ARFGAP2', 'RP11-209D14.2', 'UNC93B1', 'DHX35', 'NCKAP5L', 'NEK4', 'DDX59', 'HMDB00562', 'HMDB00560', 'DDX56', 'CSRNP2', 'FOCAD', 'WT1-AS_8', 'RP5-1028K7.2', 'WT1-AS_3', 'HMDB04670', 'WT1-AS_6', 'WT1-AS_7', 'METTL15P1', 'MIR935', 'HMDB10224', 'GLTPD2', 'HMDB10223', 'RP11-1094H24.4', 'NASP', 'SH3TC2', 'SH3TC1', 'LYNX1', 'RP13-516M14.4', 'RP13-516M14.2', 'RP13-516M14.1', 'TMEM133', 'TMEM131', 'HMDB28734', 'ZNF236', 'CCDC43', 'LAG3', 'SAMD4A', 'SAMD4B', 'RASSF10', 'HMDB13648', 'RP11-478B9.3', 'GAS2L3', 'CDKL5', 'FAM167A', 'HMDB13645', 'HMDB00346', 'ZNF438', 'HMDB00341', 'AL845472.1', 'FGD6', 'KRTAP5-2', 'HMDB29047', 'KRTAP5-9', 'HMDB29043', 'HMDB29042', 'HN1L', 'RP11-21L23.2', 'TLE1P1', 'C11orf86', 'RC3H1', 'RP13-582O9.5', 'AP000662.4', 'BASP1', 'FAM107B', 'SLC4A11', 'KIAA0232', 'LOH12CR1', 'RP11-573D15.2', 'RP11-134G8.10', 'MEGF9', 'SLC5A4', 'HMDB06031', 'NLGN3', 'ST7-OT4_4', 'LPHN2', 'HMDB02023', 'XXYLT1', 'ST7-OT4_1', 'ST7-OT4_2', 'ARHGAP42', 'C6orf106', 'CDYL', 'CTBP2P4', 'FCRL4', 'ZBTB6', 'RP11-456H18.2', 'TBC1D22B', 'VPS16', 'TBC1D22A', 'FIBP', 'PITPNC1', 'SLC6A1', 'C1orf123', 'HMDB41838', 'HMDB04814', 'LRRC16A', 'GPR39', 'PKDCC', 'HMDB31110', 'HMDB06246', 'HMDB28832', 'FMNL2', 'HMDB13075', 'CLN6', 'CLN3', 'HMDB13078', 'AL023284.1', 'LRRC1', 'HBA1,HBA2', 'C14orf28', 'USP32', 'HMDB11648', 'HMDB28902', 'HMDB12515', 'HMDB28906', 'HMDB12517', 'HMDB12516', 'SNHG1', 'PCYOX1L', 'C12orf4', 'DOCK5', 'HMDB41947', 'SEPT9', 'HMDB00401', 'RP11-553L6.5', 'FNBP1L', 'TNRC18', 'SLC9A8', 'BICC1', 'TRAM2', 'SYT14', 'ERICD', 'RP11-422P24.11', 'RALGPS2', 'EHBP1', 'CTC-512J14.5', 'HMDB13817', 'HMDB00579', 'BCCIP', 'DTNBP1', 'RP11-890B15.3', 'RP11-61K9.3', 'HMDB13818', '7SK', 'GNAQP1', 'RHBDF2', 'NVL', 'PHF2', 'HMDB04668', 'HMDB04669', 'HMDB04667', 'DSC3', 'MOB3B', 'AL162759.1', 'BCORL1', 'HMDB05049', 'HMDB05048', 'SLC10A3', 'SLC10A7', 'ZNF532', 'pk', 'CCDC34', 'PRRT4', 'ATL3', 'RUSC2', 'ZNF407', 'SLC35D2', 'MLNR', 'CCDC85C', 'HMDB29056', 'HMDB29057', 'DIP2B', 'DIP2C', 'HMDB29053', 'MPRIP', 'MID2', 'CYCTP', 'COPG1', 'ZCCHC3', 'ZCCHC7', 'HMDB02285', 'AP4E1', 'AC004893.11', 'HMDB13245', 'SLC7A5P1', 'HMDB13240', 'HMDB06023', 'SNRNP40', 'THAP5P1', 'ST7-OT4_3', 'AC096772.6', 'LINC01176', 'AC073046.25', 'S100A14', 'FSTL3', 'FAM193A', 'HMDB04980', 'HMDB04982', 'HMDB04988', 'C12orf43', 'GPR21', 'C12orf45', 'HMDB12210', 'MAGED2', 'ELFN2', 'LINC01003', 'RP1-63G5.5', 'NRDC', 'ANKRD32', 'AC068134.10', 'SPECC1L', 'PTGFRN', 'HMDB00753', 'ZNRF3-IT1', 'HMDB28916', 'HMDB28917', 'HMDB28910', 'HMDB28911', 'ZBTB39', 'RP11-305E6.4', 'HMDB13112', 'LZTS3', 'C1QL4', 'NHSL1', 'TRIM47', 'KIF3B', 'KIF3C', 'HMDB11749', 'RBM27', 'RFWD3', 'HMDB13806', 'TENM1', 'TBC1D9', 'GPR141', 'TBC1D5', 'RP11-385D13.1', 'HMDB29158', 'HMDB10203', 'HMDB10200', 'DTNB', 'HMDB10206', 'RP11-454F8.3', 'SYNE2', 'FMN2', 'CNTLN', 'HMDB04185', 'HMDB04186', 'BCL11B', 'CLPB', 'RP5-1085F17.3', '42256', 'C7orf71', 'PLCXD3', 'HMDB00324', 'WHAMM', 'TRMT10C', 'HMDB00322', 'TSSC1', 'HMDB29065', 'RP11-441O15.3', 'MAP7D3', 'RP11-79D8.2', 'TIAF1', 'C1QTNF9', 'PTPRS', 'C1QTNF3', 'ARHGAP19-SLIT1', 'CPD', 'HMDB13272', 'HMDB02044', 'CDC42SE2', 'PVRL3', 'WWP1P1', 'WDR7', 'SLC6A8', 'Y_RNA', 'HMDB02100', 'MON2', 'TGFB2-OT1', 'HMDB29089', 'HMDB12194', 'HMDB29081', 'HMDB29080', 'HMDB29083', 'PRR12', 'C9orf106', 'PRR18', 'CTD-2540B15.9', 'RP11-165J3.6', 'AL590708.3', 'AL590708.1', 'PUM2', 'PUM1', 'HMDB06226', 'CRYBA1', 'HMDB28856', 'HMDB28852', 'HMDB03318', 'EFTUD1', 'DDX10P2', 'SNX30', 'HMDB13292', 'HMDB32628', 'HMDB13297', 'PDLIM5', 'ASXL2', 'PDLIM2', 'HEATR5A', 'HEATR5B', 'FTO', 'TICRR', 'HMDB06351', 'ZC3H3', 'RNU2-2P', 'HMDB12533', 'ZC3H4', 'WDR35', 'WDR37', 'TTC39B', 'RP11-629O1.2', 'TMEM81', 'KB-1460A1.5', 'KLHL29', 'SLC4A7', 'SLC4A2', 'RP11-797H7.1', 'BRIX1', 'ASPM', 'C10orf12', 'BPHL', 'HMDB12986', 'GRAMD1B', 'GRAMD1A', 'MIR5572', 'KRTCAP2', 'RP4-555D20.1', 'RP4-555D20.4', 'TMEM8A', 'KIAA2026', 'TUBGCP3', 'NBEAL2', 'RALGAPA1P', 'IGSF3', 'HMDB04044', 'RP11-57H14.4', 'HMDB11180', 'HMDB11185', 'AC048380.1', 'RP11-253E3.3', 'NHS', 'TOX2', 'RP11-284F21.10', 'TLK2P1', 'LRWD1', 'SLC35F3', 'C7orf60', 'IER5', 'KIF13A', 'CMTM8', 'ZNF469', 'Metazoa_SRP', 'XXbac-B461K10.4', 'CYB561D1', '42067', 'MLPH', 'HMDB29074', 'RP11-862L9.2', 'RANBP20P', 'TSPAN14', 'HMDB03671', 'HPS5', 'PKP4', 'SLC25A15', 'SLC25A13', 'GPR126', 'RP11-1096G20.5', 'SLC12A4', 'SLC12A6', 'SPIN1', 'KIAA1644', 'AC113949.1', 'KIRREL3', 'CACHD1', 'PROSER3', 'CEP350', 'SLX4IP', 'ZNF280C', 'YEATS2', 'MAMLD1', 'HMDB11649', 'EFR3B', 'RP3-439F8.1', 'SLC29A4', 'HMDB01645', 'RNGTT', 'CASD1', 'RBMS1P1', 'HMDB12183', 'HMDB29097', 'MKL2', 'GS1-393G12.12', 'SAPCD2', 'MIR600HG', 'HMDB02203', 'HMDB28842', 'CD97', 'LINC00511', 'LINC01021', 'FOXL2NB', 'SNX29', 'NEIL3', 'HMDB13286', 'SNX27', 'SH3BP4', 'RP11-159D12.8', 'OXSR1', 'KIAA1549L', 'FILIP1', 'WDR26', 'HMDB13131', 'DBN1', 'WDR20', 'KLHL11', 'MIR7114', 'IGF2BP2', 'KIF1B', 'KIF1C', 'RP11-502I4.3', 'AC008623.1', 'IGIP', 'HMDB04326', 'ERCC5', 'HMDB00529', 'SNHG16', 'SNHG11', 'RP11-30P6.6', 'HMDB10567', 'RP11-77P6.2', 'FAM229A', 'C1QTNF3-AMACR', 'MFSD6', 'HMDB01007', 'HMDB13913', 'HMDB13914', 'DCBLD1', 'ZGRF1', 'AZIN1', 'GOLGB1', 'MCU', 'LIMCH1', 'UBAP1L', 'HSF5', 'ARFGEF2', 'AF274855.1', 'SLC30A1', 'MIR1292', 'POC1A', 'TSNARE1', 'HMDB28869', 'MST1P2', 'HMDB28688', 'SPEF1', 'HMDB03640', 'HMDB03646', 'FAM210B', 'ST7-OT4', 'HMDB29078', 'HMDB02144', 'SLC25A28', 'FLJ22447', 'ROR1', 'HPS6', 'ZNF277', 'ZNF275', 'COPB1', 'SYNM', 'SNORA71E', 'UNC119B', 'KIAA1671', 'RP11-855A2.2', 'HMDB03797', 'LINC01125', 'RP11-102K13.5', 'LINC01126', 'RP11-744A16.4', 'FNDC3A', 'FNDC3B', 'RP11-12J10.3', 'RP11-368J22.2', 'SGOL2', 'AC092620.2', 'MB21D2', 'CORO2B', 'RBFOX2', 'HMDB13815', 'MPRIPP1', 'C11orf68', 'NXNL2', 'SOGA1', 'PAPD5', 'C6orf57', 'KIAA0100', 'HMDB02271', 'TLDC1', 'ZFAT', 'HMDB03334', 'HMDB03333', 'HMDB03331', 'LINC01059', 'CTA-445C9.14', 'RP13-923O23.7', 'KIAA0922', 'HMDB00782', 'TPD52L1', 'BTAF1', 'OSBP2', 'NEAT1', 'HMDB12550', 'HMDB12553', 'BOD1L1', 'LINC00473', 'HMDB13141', 'TMTC2', 'C1orf168', 'KIRREL', 'C1orf216', 'PLEKHF1', 'AP000783.1', 'HMDB03484', 'HMDB28897', 'HMDB28810', 'CRYM-AS1', 'MAFG-AS1', 'DIS3L2', 'RP11-449H3.3', 'FAM43B', 'DMRTA1', 'ZNF710', 'HMDB12267', 'AC051649.12', 'CKAP4', 'HMDB01015', 'LDLRAD3', 'RP11-503N18.1', 'PROSER1', 'HMDB11169', 'NSMF', 'NAV2', 'PTBP3', 'FAM19A5', 'HMDB13639', 'RP4-591C20.9', 'TSPAN5', 'HMDB13631', 'NXN', 'TDP1', 'FAM193B', 'HMDB05047', 'DPY19L2P2', 'MIR1281', 'L3MBTL1', 'ZZEF1', 'GLIS3', 'PCMT1', 'C9orf3', 'GPBAR1', 'HMDB36114', 'HMDB13704', 'IGSF11', 'SLMAP', 'NBEA', 'PVRL4', 'HMDB28786', 'HMDB28783', 'FAM102B', 'FAM102A', 'SH2D4A', 'KLRAP1', 'CNTD2', 'HMDB02094', 'HMDB02098', 'CTC-463A16.1', 'RP4-555D20.2', 'BTBD9', 'DCAF4L1', 'FAM111B', 'GON4L', 'HMDB03431', 'SMIM3', 'INTS6P1', 'MIR5703', 'HIATL1', 'SSBP4', 'RP11-81A22.4', 'TCF20', 'CECR2', 'TSKU', 'PRUNE', 'SLC13A3', 'RP11-83N9.6', 'HMDB02263', 'STAU2', 'MGME1', 'CASC10', 'ANKRD33B', 'TXNDC17', 'RAB39B', 'CLEC16A', 'HJURP', 'FLG-AS1', 'AHDC1', 'HMDB13154', 'TTLL11', 'RP11-390F4.3', 'C6orf226', 'HMDB13159', 'LLNLR-268E12.1', 'RAB3D', 'HMDB02818', 'ARMC5', 'PLEKHG3', 'HMDB28928', 'RP11-361L15.4', 'RP11-849F2.9', 'SPATA5']) do not exist in graph\n",
      "Removing from list\n",
      "163\n",
      "194\n"
     ]
    }
   ],
   "source": [
    "print(len(mol_net_1.nodes()))\n",
    "print(len(mol_net_1.edges()))\n",
    "plus_neighbors = subgraph_gen.expand_neighbors(mol_net_1, nodes=[], down_stream=True, expand_all=True, include_list=exp_data.sig_species_over_time['06hr'])\n",
    "print(len(plus_neighbors.nodes()))\n",
    "print(len(plus_neighbors.edges()))\n",
    "\n",
    "# subgraph_gen.measured_networks_over_time(plus_neighbors, ['red', 'green', 'lightblue', 'purple'], 'first_time_point')"
   ]
  },
  {
   "cell_type": "code",
   "execution_count": 14,
   "metadata": {},
   "outputs": [
    {
     "data": {
      "text/html": [
       "<!doctype html>\n",
       "<html>\n",
       "<head>\n",
       "  <title>Network | Basic usage</title>\n",
       "</head>\n",
       "<body>\n",
       "<script type=\"text/javascript\">\n",
       "function setUpFrame() {\n",
       "    var frame = window.frames[\"cya22a3219-42e8-4121-a376-ccaba998c27d\"];\n",
       "    frame.runVis();\n",
       "}\n",
       "</script>\n",
       "<iframe name=\"cya22a3219-42e8-4121-a376-ccaba998c27d\" src=\"cya22a3219-42e8-4121-a376-ccaba998c27d.html\" width=\"100%;\" height=\"800px\"></iframe>\n",
       "</body>\n",
       "</html>"
      ],
      "text/plain": [
       "<IPython.core.display.HTML object>"
      ]
     },
     "metadata": {},
     "output_type": "display_data"
    }
   ],
   "source": [
    "view.render_graph(plus_neighbors)"
   ]
  },
  {
   "cell_type": "code",
   "execution_count": 13,
   "metadata": {},
   "outputs": [
    {
     "name": "stdout",
     "output_type": "stream",
     "text": [
      "28\n",
      "Warning : set(['ACD']) do not exist in graph\n",
      "Removing from list\n",
      "22\n",
      "23\n"
     ]
    }
   ],
   "source": [
    "cell_cycle = et.term_to_genes(df=renamed_1hr, term='Cell Cycle')\n",
    "print(len(cell_cycle))\n",
    "\n",
    "cell_cycle = subgraph_gen.shortest_paths_between_lists(\n",
    "    cell_cycle, max_length=2, pool=None\n",
    ")\n",
    "print(len(cell_cycle.nodes()))\n",
    "print(len(cell_cycle.edges()))"
   ]
  },
  {
   "cell_type": "code",
   "execution_count": null,
   "metadata": {
    "collapsed": true
   },
   "outputs": [],
   "source": [
    "# view.render_graph(negative_reg_transcription_network)\n",
    "subgraph_gen.measured_networks_over_time(mol_net_1, ['red', 'green', 'lightblue', 'purple'], 'transcription')"
   ]
  },
  {
   "cell_type": "code",
   "execution_count": null,
   "metadata": {
    "collapsed": true
   },
   "outputs": [],
   "source": [
    "# dna_genes = et.term_to_genes(df=proteomics, term='DNA Repair_Homo sapiens_R-HSA-73894')\n",
    "dna_genes = et.term_to_genes(df=renamed_1hr, term='DNA Repair')"
   ]
  },
  {
   "cell_type": "code",
   "execution_count": null,
   "metadata": {
    "collapsed": true,
    "scrolled": true
   },
   "outputs": [],
   "source": [
    "dna_network = subgraph_gen.shortest_paths_between_lists(\n",
    "    dna_genes, max_length=3\n",
    ")"
   ]
  },
  {
   "cell_type": "code",
   "execution_count": null,
   "metadata": {
    "collapsed": true
   },
   "outputs": [],
   "source": [
    "print(len(dna_network.nodes()))"
   ]
  },
  {
   "cell_type": "code",
   "execution_count": null,
   "metadata": {
    "collapsed": true,
    "scrolled": false
   },
   "outputs": [],
   "source": [
    "view.render_graph(dna_network)"
   ]
  },
  {
   "cell_type": "code",
   "execution_count": null,
   "metadata": {
    "collapsed": true,
    "scrolled": false
   },
   "outputs": [],
   "source": [
    "subgraph_gen.measured_networks_over_time(dna_network, ['red', 'green', 'lightblue', 'purple'], 'dna')"
   ]
  },
  {
   "cell_type": "code",
   "execution_count": null,
   "metadata": {
    "collapsed": true
   },
   "outputs": [],
   "source": [
    "from magine.plotting.species_plotting import plot_list_of_genes\n",
    "plot_list_of_genes(exp_data.data, dna_genes, save_name='dna_genes', image_format='png', plot_type='matplotlib')"
   ]
  },
  {
   "cell_type": "code",
   "execution_count": null,
   "metadata": {
    "collapsed": true,
    "scrolled": false
   },
   "outputs": [],
   "source": [
    "time_1_hour_prot = et.filter_dataframe(proteomics, \n",
    "                                       p_value=0.05,\n",
    "                                       combined_score=0.0, \n",
    "                                       sample_id='01hr', \n",
    "                                       db=process_dbs,\n",
    "                                      )\n",
    "kinases = et.filter_dataframe(proteomics, \n",
    "                              p_value=0.05, \n",
    "                              sample_id='01hr', \n",
    "                              combined_score=0.0, \n",
    "                              db='KEA_2015')\n",
    "kinases = et.remove_redundant(kinases)\n",
    "\n",
    "display(kinases[print_cols].head(20))"
   ]
  },
  {
   "cell_type": "markdown",
   "metadata": {},
   "source": [
    "## Exploring other top hits from 1 hour"
   ]
  },
  {
   "cell_type": "markdown",
   "metadata": {},
   "source": [
    "### Side effects of cisplatin\n",
    "Chemotherapy-induced peripheral neuropathy. __[link](https://www.frontiersin.org/articles/10.3389/fnins.2017.00481/full)__\n",
    "It is not well understood why cisplatin causes CIPN. Surprisely here, we see that Axon Guidance has a combined score of 20.5. 33 species are effected by cisplain that are linked with axon guidance. We are not neural experts and did not know that axon guidance was related to CIPN. Using MAGINE we were able to find ties between the two."
   ]
  },
  {
   "cell_type": "code",
   "execution_count": null,
   "metadata": {
    "collapsed": true,
    "scrolled": true
   },
   "outputs": [],
   "source": [
    "axon_guidance = et.term_to_genes(df=renamed_1hr, term='Axon guidance_Homo sapiens_R-HSA-422475')\n",
    "print(axon_guidance)"
   ]
  },
  {
   "cell_type": "code",
   "execution_count": null,
   "metadata": {
    "collapsed": true,
    "scrolled": false
   },
   "outputs": [],
   "source": [
    "g = subgraph_gen.neighbors_of_list(axon_guidance, up_stream=True, down_stream=False, max_dist=1, \n",
    "                                   include_only=exp_data.sig_species_over_time['01hr']\n",
    "                                  )\n",
    "nt.render_graph(g)"
   ]
  },
  {
   "cell_type": "code",
   "execution_count": null,
   "metadata": {
    "collapsed": true,
    "scrolled": false
   },
   "outputs": [],
   "source": [
    "chloride_transport = et.term_to_genes(df=renamed_1hr, term='chloride transport')\n",
    "print(chloride_transport)\n",
    "chl_trans = subgraph_gen.neighbors_of_list(chloride_transport, max_dist=2, \n",
    "#                                            include_only=exp_data.list_species\n",
    "                                          )\n",
    "nt.display_graph(chl_trans)"
   ]
  },
  {
   "cell_type": "markdown",
   "metadata": {},
   "source": [
    "# 6 hour time point"
   ]
  },
  {
   "cell_type": "code",
   "execution_count": null,
   "metadata": {
    "collapsed": true,
    "scrolled": true
   },
   "outputs": [],
   "source": [
    "time_6_hour_prot = et.filter_dataframe(proteomics, \n",
    "                                       p_value=0.05, \n",
    "                                       combined_score=0.0, \n",
    "                                       sample_id='06hr', \n",
    "                                       db=process_dbs\n",
    "                                      )\n",
    "slimmed = et.filter_similar_terms(time_6_hour_prot, threshold=.7)\n",
    "display(slimmed[print_cols].head(25))"
   ]
  },
  {
   "cell_type": "code",
   "execution_count": null,
   "metadata": {
    "collapsed": true
   },
   "outputs": [],
   "source": [
    "shorten_names = {\n",
    "    'protein sumoylation':'protein sumoylation',\n",
    "    'Activation of the AP-1 family of transcription factors_Homo sapiens_R-HSA-450341' : 'AP1 activation',\n",
    "    'response to cAMP' : 'response to cAMP',\n",
    "                }\n",
    "time_6_hour_prot['term_name'] = time_6_hour_prot['term_name'].replace(shorten_names)\n",
    "term_net_6, mol_net_6 = nt.create_subnetwork(shorten_names.values(),\n",
    "                                             time_6_hour_prot, \n",
    "                                             network,\n",
    "                                             '06hr')\n"
   ]
  },
  {
   "cell_type": "code",
   "execution_count": null,
   "metadata": {
    "collapsed": true
   },
   "outputs": [],
   "source": [
    "view.display_graph(term_net_6)"
   ]
  },
  {
   "cell_type": "code",
   "execution_count": null,
   "metadata": {
    "collapsed": true
   },
   "outputs": [],
   "source": [
    "view.render_graph(mol_net_6)"
   ]
  },
  {
   "cell_type": "code",
   "execution_count": null,
   "metadata": {
    "collapsed": true,
    "scrolled": false
   },
   "outputs": [],
   "source": [
    "# nt.find_neighbors(g=mol_net_1, start='ATR', up_stream=False, down_stream=True, max_dist=1, render=True)\n",
    "# nt.find_neighbors(g=mol_net_1, start='ATR', up_stream=True, down_stream=False, max_dist=3, render=True)"
   ]
  },
  {
   "cell_type": "code",
   "execution_count": null,
   "metadata": {
    "collapsed": true,
    "scrolled": true
   },
   "outputs": [],
   "source": [
    "time_24_hour_prot = et.filter_dataframe(proteomics, p_value=0.05, combined_score=0.0, category='proteomics_up', sample_id='24hr', db=process_dbs)\n",
    "slimmed = et.filter_similar_terms(time_24_hour_prot, threshold=.5)\n",
    "display(slimmed[print_cols].head(25))"
   ]
  },
  {
   "cell_type": "code",
   "execution_count": null,
   "metadata": {
    "collapsed": true
   },
   "outputs": [],
   "source": [
    "shorten_names = {\n",
    "                 'cellular response to DNA damage stimulus': 'DDR',\n",
    "                 'negative regulation of apoptotic process': 'negative regulation of apoptosis',\n",
    "                 'Apoptosis_Homo sapiens_R-HSA-109581' : 'Apoptosis',\n",
    "                }\n",
    "renamed = time_24_hour_prot.copy()\n",
    "time_24_hour_prot['term_name'] = time_24_hour_prot['term_name'].replace(shorten_names)\n",
    "term_net_24, mol_net_24 = nt.create_subnetwork(shorten_names.values(), time_24_hour_prot, network, '24hr', cytoscape_js=False)"
   ]
  },
  {
   "cell_type": "code",
   "execution_count": null,
   "metadata": {
    "collapsed": true
   },
   "outputs": [],
   "source": [
    "view.display_graph(term_net_24)"
   ]
  },
  {
   "cell_type": "code",
   "execution_count": null,
   "metadata": {
    "collapsed": true
   },
   "outputs": [],
   "source": [
    "view.display_graph(mol_net_24, add_parent=True )"
   ]
  },
  {
   "cell_type": "code",
   "execution_count": null,
   "metadata": {
    "collapsed": true
   },
   "outputs": [],
   "source": [
    "time_48_hour_prot = et.filter_dataframe(proteomics, p_value=0.05, combined_score=0.0, category='proteomics_up', sample_id='48hr', db=process_dbs)\n",
    "slimmed = et.filter_similar_terms(time_48_hour_prot, threshold=.5)\n",
    "display(slimmed[print_cols].head(25))"
   ]
  },
  {
   "cell_type": "code",
   "execution_count": null,
   "metadata": {
    "collapsed": true
   },
   "outputs": [],
   "source": [
    "shorten_names = {\n",
    "                 'membrane organization': 'Membrane Organization',\n",
    "                 'negative regulation of apoptotic process': 'negative regulation of apoptosis',\n",
    "                 'neutrophil degranulation' : 'neutrophil degranulation',\n",
    "                }\n",
    "time_48_hour_prot['term_name'] = time_48_hour_prot['term_name'].replace(shorten_names)\n",
    "term_net_48, mol_net_48 = nt.create_subnetwork(shorten_names.values(), time_48_hour_prot, network, '48hr')"
   ]
  },
  {
   "cell_type": "code",
   "execution_count": null,
   "metadata": {
    "collapsed": true
   },
   "outputs": [],
   "source": [
    "view.display_graph(term_net_48)"
   ]
  },
  {
   "cell_type": "code",
   "execution_count": null,
   "metadata": {
    "collapsed": true
   },
   "outputs": [],
   "source": [
    "view.render_graph(mol_net_48, add_parent=True)"
   ]
  },
  {
   "cell_type": "code",
   "execution_count": null,
   "metadata": {
    "collapsed": true
   },
   "outputs": [],
   "source": []
  }
 ],
 "metadata": {
  "anaconda-cloud": {},
  "kernelspec": {
   "display_name": "Python [conda env:magine_env]",
   "language": "python",
   "name": "conda-env-magine_env-py"
  },
  "language_info": {
   "codemirror_mode": {
    "name": "ipython",
    "version": 2
   },
   "file_extension": ".py",
   "mimetype": "text/x-python",
   "name": "python",
   "nbconvert_exporter": "python",
   "pygments_lexer": "ipython2",
   "version": "2.7.12"
  },
  "widgets": {
   "application/vnd.jupyter.widget-state+json": {
    "state": {},
    "version_major": 2,
    "version_minor": 0
   }
  }
 },
 "nbformat": 4,
 "nbformat_minor": 1
}

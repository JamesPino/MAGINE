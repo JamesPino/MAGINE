{
 "cells": [
  {
   "cell_type": "code",
   "execution_count": 1,
   "metadata": {
    "collapsed": true
   },
   "outputs": [],
   "source": [
    "import networkx as nx\n",
    "%matplotlib inline\n",
    "import sys\n",
    "sys.path.append('../..')"
   ]
  },
  {
   "cell_type": "code",
   "execution_count": 2,
   "metadata": {
    "collapsed": true
   },
   "outputs": [],
   "source": [
    "from magine.networks.visualization.notebook_tools import find_neighbors, render_graph, display_graph, render_graph"
   ]
  },
  {
   "cell_type": "code",
   "execution_count": 3,
   "metadata": {
    "collapsed": true
   },
   "outputs": [],
   "source": [
    "g = nx.read_gpickle('Data/cisplatin_based_network.p')"
   ]
  },
  {
   "cell_type": "code",
   "execution_count": 4,
   "metadata": {
    "collapsed": true,
    "scrolled": false
   },
   "outputs": [],
   "source": [
    "bax_n = find_neighbors(g, 'BAX', render=False)"
   ]
  },
  {
   "cell_type": "code",
   "execution_count": 5,
   "metadata": {
    "scrolled": false
   },
   "outputs": [
    {
     "data": {
      "text/html": [
       "<!DOCTYPE html>\n",
       "<html>\n",
       "<head>\n",
       "    <meta charset=utf-8/>\n",
       "    <style type=\"text/css\">\n",
       "        body {font: 14px helvetica neue, helvetica, arial, sans-serif;}\n",
       "\n",
       "        #cy6a600b70-8265-4fc6-9293-bff8d484aa7b{\n",
       "            height: 700px;\n",
       "            width: 90%;\n",
       "            border: 5px solid black;\n",
       "            box-sizing: border-box;\n",
       "            position: absolute;\n",
       "            top: 5px;\n",
       "            background: #FFFFFF;\n",
       "        }\n",
       "    </style>\n",
       "\n",
       "    <script>\n",
       "        (function () {\n",
       "            function render() {\n",
       "                $('#cy6a600b70-8265-4fc6-9293-bff8d484aa7b').cytoscape({\n",
       "                    elements: {\n",
       "                        nodes: [{\"data\": {\"sigMeasured\": \"red\", \"rnaseq\": \"red\", \"phsilac\": \"blue\", \"name\": \"BCL2L1\", \"timepoint01hr\": \"blue\", \"labelfree\": \"red\", \"speciesType\": \"gene\", \"C18\": \"blue\", \"timepoint48hr\": \"blue\", \"databaseSource\": \"BioGrid|KEGG|ReactomeFI\", \"timepoint06hr\": \"red\", \"silac\": \"red\", \"HILIC\": \"blue\", \"keggName\": \"hsa:598\", \"measured\": \"red\", \"id\": \"BCL2L1\", \"timepoint24hr\": \"red\"}}, {\"data\": {\"sigMeasured\": \"red\", \"rnaseq\": \"red\", \"phsilac\": \"blue\", \"name\": \"YY1\", \"timepoint01hr\": \"blue\", \"labelfree\": \"red\", \"speciesType\": \"gene\", \"C18\": \"blue\", \"timepoint48hr\": \"blue\", \"databaseSource\": \"BioGrid|ReactomeFI\", \"timepoint06hr\": \"blue\", \"silac\": \"blue\", \"HILIC\": \"blue\", \"measured\": \"red\", \"id\": \"YY1\", \"timepoint24hr\": \"red\"}}, {\"data\": {\"rnaseq\": \"red\", \"sigMeasured\": \"red\", \"phsilac\": \"blue\", \"name\": \"CYCS\", \"timepoint01hr\": \"blue\", \"labelfree\": \"red\", \"speciesType\": \"gene\", \"C18\": \"blue\", \"timepoint48hr\": \"blue\", \"timepoint24hr\": \"red\", \"timepoint06hr\": \"blue\", \"silac\": \"blue\", \"HILIC\": \"blue\", \"keggName\": \"hsa:54205\", \"measured\": \"red\", \"id\": \"CYCS\", \"databaseSource\": \"BioGrid|KEGG|ReactomeFI\"}}, {\"data\": {\"sigMeasured\": \"red\", \"rnaseq\": \"red\", \"phsilac\": \"red\", \"name\": \"MAPK14\", \"timepoint01hr\": \"blue\", \"labelfree\": \"red\", \"speciesType\": \"gene\", \"C18\": \"blue\", \"timepoint48hr\": \"blue\", \"databaseSource\": \"BioGrid|KEGG|ReactomeFI\", \"timepoint06hr\": \"red\", \"silac\": \"red\", \"HILIC\": \"blue\", \"keggName\": \"hsa:1432\", \"measured\": \"red\", \"id\": \"MAPK14\", \"timepoint24hr\": \"red\"}}, {\"data\": {\"sigMeasured\": \"red\", \"rnaseq\": \"red\", \"phsilac\": \"blue\", \"name\": \"BOK\", \"timepoint01hr\": \"blue\", \"labelfree\": \"blue\", \"speciesType\": \"gene\", \"C18\": \"blue\", \"timepoint48hr\": \"blue\", \"databaseSource\": \"ReactomeFI\", \"timepoint06hr\": \"blue\", \"silac\": \"blue\", \"HILIC\": \"blue\", \"measured\": \"red\", \"id\": \"BOK\", \"timepoint24hr\": \"red\"}}, {\"data\": {\"sigMeasured\": \"blue\", \"rnaseq\": \"red\", \"phsilac\": \"red\", \"name\": \"MAPK10\", \"timepoint01hr\": \"blue\", \"labelfree\": \"blue\", \"speciesType\": \"gene\", \"C18\": \"blue\", \"timepoint48hr\": \"blue\", \"databaseSource\": \"BioGrid|KEGG|ReactomeFI\", \"timepoint06hr\": \"blue\", \"silac\": \"blue\", \"HILIC\": \"blue\", \"keggName\": \"hsa:5602\", \"measured\": \"red\", \"id\": \"MAPK10\", \"timepoint24hr\": \"blue\"}}, {\"data\": {\"sigMeasured\": \"red\", \"rnaseq\": \"red\", \"phsilac\": \"red\", \"name\": \"DIABLO\", \"timepoint01hr\": \"blue\", \"labelfree\": \"red\", \"speciesType\": \"gene\", \"C18\": \"blue\", \"timepoint48hr\": \"blue\", \"databaseSource\": \"BioGrid|KEGG|ReactomeFI\", \"timepoint06hr\": \"blue\", \"silac\": \"red\", \"HILIC\": \"blue\", \"keggName\": \"hsa:56616\", \"measured\": \"red\", \"id\": \"DIABLO\", \"timepoint24hr\": \"red\"}}, {\"data\": {\"sigMeasured\": \"red\", \"rnaseq\": \"red\", \"phsilac\": \"blue\", \"name\": \"MAPK12\", \"timepoint01hr\": \"blue\", \"labelfree\": \"blue\", \"speciesType\": \"gene\", \"C18\": \"blue\", \"timepoint48hr\": \"blue\", \"databaseSource\": \"BioGrid|KEGG|ReactomeFI\", \"timepoint06hr\": \"blue\", \"silac\": \"blue\", \"HILIC\": \"blue\", \"keggName\": \"hsa:6300\", \"measured\": \"red\", \"id\": \"MAPK12\", \"timepoint24hr\": \"red\"}}, {\"data\": {\"sigMeasured\": \"blue\", \"rnaseq\": \"red\", \"phsilac\": \"blue\", \"name\": \"MAPK13\", \"timepoint01hr\": \"blue\", \"labelfree\": \"blue\", \"speciesType\": \"gene\", \"C18\": \"blue\", \"timepoint48hr\": \"blue\", \"databaseSource\": \"BioGrid|KEGG|ReactomeFI\", \"timepoint06hr\": \"blue\", \"silac\": \"blue\", \"HILIC\": \"blue\", \"keggName\": \"hsa:5603\", \"measured\": \"red\", \"id\": \"MAPK13\", \"timepoint24hr\": \"blue\"}}, {\"data\": {\"sigMeasured\": \"red\", \"rnaseq\": \"red\", \"phsilac\": \"red\", \"name\": \"GSN\", \"timepoint01hr\": \"blue\", \"labelfree\": \"red\", \"speciesType\": \"gene\", \"C18\": \"blue\", \"timepoint48hr\": \"red\", \"databaseSource\": \"BioGrid|KEGG|ReactomeFI\", \"timepoint06hr\": \"blue\", \"silac\": \"red\", \"HILIC\": \"blue\", \"keggName\": \"hsa:2934\", \"measured\": \"red\", \"id\": \"GSN\", \"timepoint24hr\": \"red\"}}, {\"data\": {\"sigMeasured\": \"red\", \"rnaseq\": \"red\", \"phsilac\": \"red\", \"name\": \"BCL2L11\", \"timepoint01hr\": \"blue\", \"labelfree\": \"blue\", \"speciesType\": \"gene\", \"C18\": \"blue\", \"timepoint48hr\": \"blue\", \"databaseSource\": \"BioGrid|KEGG|ReactomeFI\", \"timepoint06hr\": \"red\", \"silac\": \"blue\", \"HILIC\": \"blue\", \"keggName\": \"hsa:10018\", \"measured\": \"red\", \"id\": \"BCL2L11\", \"timepoint24hr\": \"red\"}}, {\"data\": {\"sigMeasured\": \"red\", \"rnaseq\": \"red\", \"phsilac\": \"red\", \"name\": \"BID\", \"timepoint01hr\": \"blue\", \"labelfree\": \"red\", \"speciesType\": \"gene\", \"C18\": \"blue\", \"timepoint48hr\": \"blue\", \"databaseSource\": \"BioGrid|KEGG|ReactomeFI\", \"timepoint06hr\": \"blue\", \"silac\": \"red\", \"HILIC\": \"blue\", \"keggName\": \"hsa:637\", \"measured\": \"red\", \"id\": \"BID\", \"timepoint24hr\": \"red\"}}, {\"data\": {\"sigMeasured\": \"red\", \"rnaseq\": \"red\", \"phsilac\": \"blue\", \"name\": \"PRNP\", \"timepoint01hr\": \"blue\", \"labelfree\": \"blue\", \"speciesType\": \"gene\", \"C18\": \"blue\", \"timepoint48hr\": \"blue\", \"databaseSource\": \"BioGrid|KEGG|ReactomeFI\", \"timepoint06hr\": \"blue\", \"silac\": \"red\", \"HILIC\": \"blue\", \"keggName\": \"hsa:5621\", \"measured\": \"red\", \"id\": \"PRNP\", \"timepoint24hr\": \"red\"}}, {\"data\": {\"sigMeasured\": \"red\", \"rnaseq\": \"red\", \"phsilac\": \"red\", \"name\": \"CAPN2\", \"timepoint01hr\": \"blue\", \"labelfree\": \"red\", \"speciesType\": \"gene\", \"C18\": \"blue\", \"timepoint48hr\": \"red\", \"databaseSource\": \"BioGrid|KEGG|ReactomeFI\", \"timepoint06hr\": \"blue\", \"silac\": \"red\", \"HILIC\": \"blue\", \"keggName\": \"hsa:824\", \"measured\": \"red\", \"id\": \"CAPN2\", \"timepoint24hr\": \"red\"}}, {\"data\": {\"sigMeasured\": \"red\", \"rnaseq\": \"red\", \"phsilac\": \"red\", \"name\": \"CAPN1\", \"timepoint01hr\": \"blue\", \"labelfree\": \"red\", \"speciesType\": \"gene\", \"C18\": \"blue\", \"timepoint48hr\": \"blue\", \"databaseSource\": \"BioGrid|KEGG|ReactomeFI\", \"timepoint06hr\": \"blue\", \"silac\": \"red\", \"HILIC\": \"blue\", \"keggName\": \"hsa:823\", \"measured\": \"red\", \"id\": \"CAPN1\", \"timepoint24hr\": \"red\"}}, {\"data\": {\"sigMeasured\": \"red\", \"rnaseq\": \"red\", \"phsilac\": \"red\", \"name\": \"MAPK8\", \"timepoint01hr\": \"blue\", \"labelfree\": \"blue\", \"speciesType\": \"gene\", \"C18\": \"blue\", \"timepoint48hr\": \"blue\", \"databaseSource\": \"BioGrid|KEGG|ReactomeFI\", \"timepoint06hr\": \"blue\", \"silac\": \"red\", \"HILIC\": \"blue\", \"keggName\": \"hsa:5599\", \"measured\": \"red\", \"id\": \"MAPK8\", \"timepoint24hr\": \"red\"}}, {\"data\": {\"sigMeasured\": \"red\", \"rnaseq\": \"red\", \"phsilac\": \"red\", \"name\": \"MAPK9\", \"timepoint01hr\": \"blue\", \"labelfree\": \"red\", \"speciesType\": \"gene\", \"C18\": \"blue\", \"timepoint48hr\": \"blue\", \"databaseSource\": \"BioGrid|KEGG|ReactomeFI\", \"timepoint06hr\": \"red\", \"silac\": \"blue\", \"HILIC\": \"blue\", \"keggName\": \"hsa:5601\", \"measured\": \"red\", \"id\": \"MAPK9\", \"timepoint24hr\": \"red\"}}, {\"data\": {\"sigMeasured\": \"red\", \"rnaseq\": \"red\", \"phsilac\": \"red\", \"name\": \"SIRT1\", \"timepoint01hr\": \"blue\", \"labelfree\": \"red\", \"speciesType\": \"gene\", \"C18\": \"blue\", \"timepoint48hr\": \"red\", \"databaseSource\": \"BioGrid|KEGG|ReactomeFI\", \"timepoint06hr\": \"blue\", \"silac\": \"red\", \"HILIC\": \"blue\", \"keggName\": \"hsa:23411\", \"measured\": \"red\", \"id\": \"SIRT1\", \"timepoint24hr\": \"red\"}}, {\"data\": {\"sigMeasured\": \"blue\", \"rnaseq\": \"red\", \"phsilac\": \"red\", \"name\": \"RAD21\", \"timepoint01hr\": \"blue\", \"labelfree\": \"blue\", \"speciesType\": \"gene\", \"C18\": \"blue\", \"timepoint48hr\": \"blue\", \"databaseSource\": \"BioGrid|KEGG|ReactomeFI\", \"timepoint06hr\": \"blue\", \"silac\": \"blue\", \"HILIC\": \"blue\", \"keggName\": \"hsa:5885\", \"measured\": \"red\", \"id\": \"RAD21\", \"timepoint24hr\": \"blue\"}}, {\"data\": {\"sigMeasured\": \"red\", \"rnaseq\": \"red\", \"phsilac\": \"red\", \"name\": \"BAX\", \"timepoint01hr\": \"blue\", \"labelfree\": \"red\", \"speciesType\": \"gene\", \"C18\": \"blue\", \"timepoint48hr\": \"blue\", \"databaseSource\": \"KEGG|ReactomeFI\", \"timepoint06hr\": \"blue\", \"silac\": \"red\", \"HILIC\": \"blue\", \"keggName\": \"hsa:581\", \"measured\": \"red\", \"id\": \"BAX\", \"timepoint24hr\": \"red\"}}, {\"data\": {\"sigMeasured\": \"red\", \"rnaseq\": \"red\", \"phsilac\": \"red\", \"name\": \"EP300\", \"timepoint01hr\": \"blue\", \"labelfree\": \"blue\", \"speciesType\": \"gene\", \"C18\": \"blue\", \"timepoint48hr\": \"red\", \"databaseSource\": \"BioGrid|KEGG|ReactomeFI\", \"timepoint06hr\": \"red\", \"silac\": \"blue\", \"HILIC\": \"blue\", \"keggName\": \"hsa:2033\", \"measured\": \"red\", \"id\": \"EP300\", \"timepoint24hr\": \"red\"}}, {\"data\": {\"sigMeasured\": \"red\", \"rnaseq\": \"red\", \"phsilac\": \"red\", \"name\": \"TP53\", \"timepoint01hr\": \"blue\", \"labelfree\": \"blue\", \"speciesType\": \"gene\", \"C18\": \"blue\", \"timepoint48hr\": \"red\", \"databaseSource\": \"BioGrid|KEGG|ReactomeFI\", \"timepoint06hr\": \"red\", \"silac\": \"red\", \"HILIC\": \"blue\", \"keggName\": \"hsa:7157\", \"measured\": \"red\", \"id\": \"TP53\", \"timepoint24hr\": \"red\"}}, {\"data\": {\"sigMeasured\": \"red\", \"rnaseq\": \"red\", \"phsilac\": \"blue\", \"name\": \"CASP3\", \"timepoint01hr\": \"blue\", \"labelfree\": \"red\", \"speciesType\": \"gene\", \"C18\": \"blue\", \"timepoint48hr\": \"blue\", \"databaseSource\": \"BioGrid|KEGG|ReactomeFI\", \"timepoint06hr\": \"blue\", \"silac\": \"red\", \"HILIC\": \"blue\", \"keggName\": \"hsa:836\", \"measured\": \"red\", \"id\": \"CASP3\", \"timepoint24hr\": \"red\"}}, {\"data\": {\"sigMeasured\": \"blue\", \"rnaseq\": \"red\", \"phsilac\": \"red\", \"name\": \"MAX\", \"timepoint01hr\": \"blue\", \"labelfree\": \"blue\", \"speciesType\": \"gene\", \"C18\": \"blue\", \"timepoint48hr\": \"blue\", \"databaseSource\": \"BioGrid|KEGG|ReactomeFI\", \"timepoint06hr\": \"blue\", \"silac\": \"blue\", \"HILIC\": \"blue\", \"keggName\": \"hsa:4149\", \"measured\": \"red\", \"id\": \"MAX\", \"timepoint24hr\": \"blue\"}}, {\"data\": {\"sigMeasured\": \"blue\", \"rnaseq\": \"blue\", \"phsilac\": \"blue\", \"name\": \"PRKACG\", \"timepoint01hr\": \"blue\", \"labelfree\": \"blue\", \"speciesType\": \"gene\", \"C18\": \"blue\", \"timepoint48hr\": \"blue\", \"databaseSource\": \"BioGrid|KEGG|ReactomeFI\", \"timepoint06hr\": \"blue\", \"silac\": \"blue\", \"HILIC\": \"blue\", \"keggName\": \"hsa:5568\", \"measured\": \"blue\", \"id\": \"PRKACG\", \"timepoint24hr\": \"blue\"}}, {\"data\": {\"sigMeasured\": \"red\", \"rnaseq\": \"red\", \"phsilac\": \"red\", \"name\": \"PRKACA\", \"timepoint01hr\": \"blue\", \"labelfree\": \"red\", \"speciesType\": \"gene\", \"C18\": \"blue\", \"timepoint48hr\": \"blue\", \"databaseSource\": \"BioGrid|KEGG|ReactomeFI\", \"timepoint06hr\": \"blue\", \"silac\": \"blue\", \"HILIC\": \"blue\", \"keggName\": \"hsa:5566\", \"measured\": \"red\", \"id\": \"PRKACA\", \"timepoint24hr\": \"red\"}}, {\"data\": {\"sigMeasured\": \"red\", \"rnaseq\": \"red\", \"phsilac\": \"red\", \"name\": \"PRKACB\", \"timepoint01hr\": \"blue\", \"labelfree\": \"blue\", \"speciesType\": \"gene\", \"C18\": \"blue\", \"timepoint48hr\": \"blue\", \"databaseSource\": \"BioGrid|KEGG|ReactomeFI\", \"timepoint06hr\": \"blue\", \"silac\": \"blue\", \"HILIC\": \"blue\", \"keggName\": \"hsa:5567\", \"measured\": \"red\", \"id\": \"PRKACB\", \"timepoint24hr\": \"red\"}}, {\"data\": {\"rnaseq\": \"red\", \"sigMeasured\": \"blue\", \"phsilac\": \"blue\", \"name\": \"BCL2\", \"timepoint01hr\": \"blue\", \"labelfree\": \"blue\", \"speciesType\": \"gene\", \"C18\": \"blue\", \"timepoint48hr\": \"blue\", \"timepoint24hr\": \"blue\", \"timepoint06hr\": \"blue\", \"silac\": \"blue\", \"HILIC\": \"blue\", \"keggName\": \"hsa:596\", \"measured\": \"red\", \"id\": \"BCL2\", \"databaseSource\": \"BioGrid|KEGG|ReactomeFI\"}}, {\"data\": {\"sigMeasured\": \"red\", \"rnaseq\": \"red\", \"phsilac\": \"red\", \"name\": \"AIFM1\", \"timepoint01hr\": \"blue\", \"labelfree\": \"red\", \"speciesType\": \"gene\", \"C18\": \"blue\", \"timepoint48hr\": \"blue\", \"databaseSource\": \"BioGrid|KEGG|ReactomeFI\", \"timepoint06hr\": \"blue\", \"silac\": \"red\", \"HILIC\": \"blue\", \"keggName\": \"hsa:9131\", \"measured\": \"red\", \"id\": \"AIFM1\", \"timepoint24hr\": \"red\"}}, {\"data\": {\"sigMeasured\": \"red\", \"rnaseq\": \"red\", \"phsilac\": \"blue\", \"name\": \"MAPK11\", \"timepoint01hr\": \"blue\", \"labelfree\": \"blue\", \"speciesType\": \"gene\", \"C18\": \"blue\", \"timepoint48hr\": \"blue\", \"databaseSource\": \"BioGrid|KEGG|ReactomeFI\", \"timepoint06hr\": \"blue\", \"silac\": \"blue\", \"HILIC\": \"blue\", \"keggName\": \"hsa:5600\", \"measured\": \"red\", \"id\": \"MAPK11\", \"timepoint24hr\": \"red\"}}],\n",
       "                        edges: [{\"data\": {\"source\": \"BCL2L1\", \"target\": \"BAX\", \"databaseSource\": \"KEGG|ReactomeFI\", \"interactionType\": \"binding|inhibit\"}}, {\"data\": {\"source\": \"YY1\", \"target\": \"BAX\", \"databaseSource\": \"ReactomeFI\", \"interactionType\": \"expression\"}}, {\"data\": {\"source\": \"CYCS\", \"target\": \"BAX\", \"databaseSource\": \"KEGG\", \"interactionType\": \"activate|indirect\"}}, {\"data\": {\"source\": \"MAPK14\", \"target\": \"BAX\", \"databaseSource\": \"KEGG\", \"interactionType\": \"activate|indirect\"}}, {\"data\": {\"source\": \"BOK\", \"target\": \"BAX\", \"databaseSource\": \"ReactomeFI\", \"interactionType\": \"catalyze\"}}, {\"data\": {\"source\": \"MAPK10\", \"target\": \"BAX\", \"databaseSource\": \"KEGG\", \"interactionType\": \"activate|indirect\"}}, {\"data\": {\"source\": \"MAPK12\", \"target\": \"BAX\", \"databaseSource\": \"KEGG\", \"interactionType\": \"activate|indirect\"}}, {\"data\": {\"source\": \"MAPK13\", \"target\": \"BAX\", \"databaseSource\": \"KEGG\", \"interactionType\": \"activate|indirect\"}}, {\"data\": {\"source\": \"GSN\", \"target\": \"BAX\", \"databaseSource\": \"ReactomeFI\", \"interactionType\": \"inhibit\"}}, {\"data\": {\"source\": \"BCL2L11\", \"target\": \"BAX\", \"databaseSource\": \"KEGG|ReactomeFI\", \"interactionType\": \"activate\"}}, {\"data\": {\"source\": \"BID\", \"target\": \"BAX\", \"databaseSource\": \"KEGG\", \"interactionType\": \"activate|indirect\"}}, {\"data\": {\"source\": \"PRNP\", \"target\": \"BAX\", \"databaseSource\": \"KEGG\", \"interactionType\": \"indirect|inhibit\"}}, {\"data\": {\"source\": \"MAPK8\", \"target\": \"BAX\", \"databaseSource\": \"KEGG\", \"interactionType\": \"activate|indirect\"}}, {\"data\": {\"source\": \"MAPK9\", \"target\": \"BAX\", \"databaseSource\": \"KEGG\", \"interactionType\": \"activate|indirect\"}}, {\"data\": {\"source\": \"SIRT1\", \"target\": \"BAX\", \"databaseSource\": \"KEGG|ReactomeFI\", \"interactionType\": \"binding|inhibit\"}}, {\"data\": {\"source\": \"RAD21\", \"target\": \"BAX\", \"databaseSource\": \"ReactomeFI\", \"interactionType\": \"expression\"}}, {\"data\": {\"source\": \"BAX\", \"target\": \"CASP3\", \"databaseSource\": \"KEGG\", \"interactionType\": \"activate|indirect\"}}, {\"data\": {\"source\": \"BAX\", \"target\": \"CYCS\", \"databaseSource\": \"KEGG\", \"interactionType\": \"activate|indirect\"}}, {\"data\": {\"source\": \"BAX\", \"target\": \"CAPN2\", \"databaseSource\": \"KEGG|ReactomeFI\", \"interactionType\": \"activate\"}}, {\"data\": {\"source\": \"BAX\", \"target\": \"CAPN1\", \"databaseSource\": \"KEGG|ReactomeFI\", \"interactionType\": \"activate\"}}, {\"data\": {\"source\": \"BAX\", \"target\": \"BCL2\", \"databaseSource\": \"KEGG\", \"interactionType\": \"inhibit\"}}, {\"data\": {\"source\": \"BAX\", \"target\": \"AIFM1\", \"databaseSource\": \"KEGG|ReactomeFI\", \"interactionType\": \"activate\"}}, {\"data\": {\"source\": \"BAX\", \"target\": \"DIABLO\", \"databaseSource\": \"ReactomeFI\", \"interactionType\": \"activate\"}}, {\"data\": {\"source\": \"EP300\", \"target\": \"BAX\", \"databaseSource\": \"ReactomeFI\", \"interactionType\": \"expression\"}}, {\"data\": {\"source\": \"TP53\", \"target\": \"BAX\", \"databaseSource\": \"KEGG|ReactomeFI\", \"interactionType\": \"activate|expression|indirect\"}}, {\"data\": {\"source\": \"MAX\", \"target\": \"BAX\", \"databaseSource\": \"ReactomeFI\", \"interactionType\": \"expression\"}}, {\"data\": {\"source\": \"PRKACG\", \"target\": \"BAX\", \"databaseSource\": \"KEGG\", \"interactionType\": \"inhibit|phosphorylate\"}}, {\"data\": {\"source\": \"PRKACA\", \"target\": \"BAX\", \"databaseSource\": \"KEGG\", \"interactionType\": \"inhibit|phosphorylate\"}}, {\"data\": {\"source\": \"PRKACB\", \"target\": \"BAX\", \"databaseSource\": \"KEGG\", \"interactionType\": \"inhibit|phosphorylate\"}}, {\"data\": {\"source\": \"BCL2\", \"target\": \"BAX\", \"databaseSource\": \"KEGG|ReactomeFI\", \"interactionType\": \"binding|inhibit\"}}, {\"data\": {\"source\": \"MAPK11\", \"target\": \"BAX\", \"databaseSource\": \"KEGG\", \"interactionType\": \"activate|indirect\"}}]\n",
       "                    },\n",
       "\n",
       "                    layout: {\n",
       "                        name: 'cose-bilkent'\n",
       "                    },\n",
       "\n",
       "                    boxSelectionEnabled: true,\n",
       "                    wheelSensitivity:.25,\n",
       "                    ready: function () {\n",
       "                        window.cy = this;\n",
       "                        cy.fit();\n",
       "                        cy.style().fromJson([{\"css\": {\"text-opacity\": 1.0, \"background-opacity\": 1.0, \"font-family\": \"SansSerif\", \"width\": \"mapData(weight, 0, 100, 20, 75)\", \"color\": \"rgb(0,153,234)\", \"border-width\": 3.0, \"height\": \"mapData(weight, 0, 100, 20, 75)\", \"content\": \"data(name)\", \"border-color\": \"rgb(51,51,51)\", \"shape\": \"ellipse\", \"border-opacity\": 1.0, \"font-size\": 9, \"text-wrap\": \"wrap\", \"text-halign\": \"center\", \"font-weight\": \"normal\", \"text-valign\": \"center\", \"text-max-width\": 95, \"background-color\": \"rgb(255,255,255)\"}, \"selector\": \"node\"}, {\"css\": {\"text-opacity\": 1.0, \"background-opacity\": 1.0, \"font-family\": \"SansSerif\", \"width\": \"mapData(weight, 0, 100, 20, 75)\", \"color\": \"rgb(0,153,234)\", \"border-width\": 3.0, \"height\": \"mapData(weight, 0, 100, 20, 75)\", \"content\": \"data(chemName)\", \"border-color\": \"rgb(51,51,51)\", \"shape\": \"ellipse\", \"border-opacity\": 1.0, \"font-size\": 9, \"text-wrap\": \"wrap\", \"text-halign\": \"center\", \"font-weight\": \"normal\", \"text-valign\": \"center\", \"text-max-width\": 95, \"background-color\": \"rgb(255,255,255)\"}, \"selector\": \"node[speciesType = 'compound']\"}, {\"css\": {\"text-halign\": \"center\", \"font-size\": 20, \"padding-right\": \"10px\", \"padding-bottom\": \"10px\", \"padding-top\": \"10px\", \"text-valign\": \"top\", \"shape\": \"ellipse\", \"background-color\": \"#bbb\", \"padding-left\": \"10px\"}, \"selector\": \"$node > node\"}, {\"css\": {\"background-color\": \"rgb(255,0,102)\"}, \"selector\": \"node:selected\"}, {\"css\": {\"opacity\": 1.0, \"text-opacity\": 1.0, \"font-size\": 12, \"target-arrow-shape\": \"triangle\", \"source-arrow-shape\": \"none\", \"color\": \"rgb(0,0,0)\", \"source-arrow-color\": \"rgb(0,0,0)\", \"line-color\": \"rgb(51,51,51)\", \"line-style\": \"solid\", \"font-family\": \"SansSerif\", \"target-arrow-color\": \"rgb(51,51,51)\", \"content\": \"data(interaction)\", \"width\": \"mapData(weight, 1, 10, 1, 5)\", \"curve-style\": \"bezier\", \"font-weight\": \"normal\"}, \"selector\": \"edge\"}, {\"css\": {\"target-arrow-shape\": \"tee\", \"curve-style\": \"bezier\"}, \"selector\": \"edge[interactionType *= 'inhibit'],edge[interactionType *= 'deactivat']\"}, {\"css\": {\"line-color\": \"rgb(255,0,0)\", \"label\": \"data(interactionType)\"}, \"selector\": \"edge:selected\"}]).update();\n",
       "                    }\n",
       "                });\n",
       "            }\n",
       "\n",
       "            var before_render = function () {\n",
       "                if (window['cytoscape'] === undefined) {\n",
       "                    console.log(\"Waiting for Cyjs...\");\n",
       "                    window.addEventListener(\"load_cytoscape\", before_render);\n",
       "                } else {\n",
       "                    console.log(\"Ready to render graph!\");\n",
       "                    render();\n",
       "                }\n",
       "            };\n",
       "            before_render();\n",
       "        })();\n",
       "        if (window['cytoscape'] === undefined) {\n",
       "    console.log('starting loading');\n",
       "\n",
       "    requirejs.config({\n",
       "\n",
       "        paths: {\n",
       "            'cytoscape': 'https://cdnjs.cloudflare.com/ajax/libs/cytoscape/2.7.23/cytoscape.min',\n",
       "            'cytoscape-qtip': 'https://cdn.rawgit.com/cytoscape/cytoscape.js-qtip/2.7.0/cytoscape-qtip',\n",
       "            'jquery': 'https://cdnjs.cloudflare.com/ajax/libs/jquery/2.2.4/jquery.min',\n",
       "            'qtip2': 'https://cdnjs.cloudflare.com/ajax/libs/qtip2/2.2.0/basic/jquery.qtip.min',\n",
       "            'cytoscape-cose-bilkent': 'https://cdn.rawgit.com/cytoscape/cytoscape.js-cose-bilkent/1.6.1/cytoscape-cose-bilkent'\n",
       "        }\n",
       "    });\n",
       "    window.$ = window.jQuery = require('jquery');\n",
       "\n",
       "    require(['cytoscape', 'cytoscape-qtip', 'jquery', 'cytoscape-cose-bilkent'],\n",
       "        function (cytoscape, cyqtip, jquery, regCose) {\n",
       "            console.log('Loading Cytoscape.js Module...');\n",
       "            cyqtip(cytoscape, jquery);\n",
       "            regCose(cytoscape);\n",
       "            window['cytoscape'] = cytoscape;\n",
       "\n",
       "            var event = document.createEvent(\"HTMLEvents\");\n",
       "            event.initEvent(\"load_cytoscape\", true, false);\n",
       "            window.dispatchEvent(event);\n",
       "        }\n",
       "    );\n",
       "}\n",
       "\n",
       "    </script>\n",
       "</head>\n",
       "\n",
       "<body>\n",
       "<div id=\"cy6a600b70-8265-4fc6-9293-bff8d484aa7b\"></div>\n",
       "<!-- When only #uuid div is placed on this page,\n",
       "the height of output-box on ipynb will be 0px.\n",
       "One line below will prevent that. -->\n",
       "<div id=\"dummy\" style=\"width:100px;height:700px\"></div>\n",
       "</body>\n",
       "\n",
       "</html>"
      ],
      "text/plain": [
       "<IPython.core.display.HTML object>"
      ]
     },
     "metadata": {},
     "output_type": "display_data"
    }
   ],
   "source": [
    "display_graph(bax_n)"
   ]
  },
  {
   "cell_type": "code",
   "execution_count": 6,
   "metadata": {},
   "outputs": [
    {
     "data": {
      "text/html": [
       "<!doctype html>\n",
       "<html>\n",
       "<head>\n",
       "  <title>Network | Basic usage</title>\n",
       "</head>\n",
       "<body>\n",
       "<script type=\"text/javascript\">\n",
       "function setUpFrame() {\n",
       "    var frame = window.frames[\"cy7a1297a0-236b-4934-bd02-d5d4dbe8ae77\"];\n",
       "    frame.runVis();\n",
       "}\n",
       "</script>\n",
       "<iframe name=\"cy7a1297a0-236b-4934-bd02-d5d4dbe8ae77\" src=\"cy7a1297a0-236b-4934-bd02-d5d4dbe8ae77.html\" width=\"100%;\" height=\"800px\"></iframe>\n",
       "</body>\n",
       "</html>"
      ],
      "text/plain": [
       "<IPython.core.display.HTML object>"
      ]
     },
     "metadata": {},
     "output_type": "display_data"
    }
   ],
   "source": [
    "render_graph(bax_n)"
   ]
  },
  {
   "cell_type": "code",
   "execution_count": 7,
   "metadata": {
    "collapsed": true,
    "scrolled": false
   },
   "outputs": [],
   "source": [
    "nx.write_gml(bax_n, 'test.gml')\n",
    "# smarcal1 = find_neighbors(g, 'DIABLO', render=False)\n",
    "# render_graph(smarcal1)"
   ]
  },
  {
   "cell_type": "code",
   "execution_count": null,
   "metadata": {
    "collapsed": true
   },
   "outputs": [],
   "source": []
  }
 ],
 "metadata": {
  "kernelspec": {
   "display_name": "Python [conda env:magine_env]",
   "language": "python",
   "name": "conda-env-magine_env-py"
  },
  "language_info": {
   "codemirror_mode": {
    "name": "ipython",
    "version": 2
   },
   "file_extension": ".py",
   "mimetype": "text/x-python",
   "name": "python",
   "nbconvert_exporter": "python",
   "pygments_lexer": "ipython2",
   "version": "2.7.12"
  }
 },
 "nbformat": 4,
 "nbformat_minor": 2
}

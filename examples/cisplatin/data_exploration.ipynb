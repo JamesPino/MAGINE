{
 "cells": [
  {
   "cell_type": "code",
   "execution_count": null,
   "metadata": {},
   "outputs": [],
   "source": [
    "import sys\n",
    "sys.path.append(\"../..\")\n",
    "from IPython.display import display\n",
    "%matplotlib inline"
   ]
  },
  {
   "cell_type": "code",
   "execution_count": null,
   "metadata": {},
   "outputs": [],
   "source": [
    "import pandas as pd\n",
    "import matplotlib.pyplot as plt\n",
    "import seaborn as sns\n",
    "from scipy.stats import pearsonr, spearmanr\n",
    "import numpy as np\n",
    "\n",
    "import magine.data.tools as dt\n",
    "\n",
    "from magine.plotting.heatmaps import  heatmap_from_array\n",
    "from magine.plotting.wordcloud_tools import create_wordcloud\n",
    "from magine.plotting.venn_diagram_maker import create_venn2, create_venn3\n",
    "from magine.plotting.species_plotting import plot_species"
   ]
  },
  {
   "cell_type": "code",
   "execution_count": null,
   "metadata": {},
   "outputs": [],
   "source": [
    "# load the experimental data\n",
    "from exp_data import exp_data\n"
   ]
  },
  {
   "cell_type": "markdown",
   "metadata": {},
   "source": [
    "# Visualize experimental data\n"
   ]
  },
  {
   "cell_type": "code",
   "execution_count": null,
   "metadata": {},
   "outputs": [],
   "source": [
    "display(exp_data.create_table_of_data())\n",
    "display(exp_data.create_table_of_data(sig=True))\n",
    "display(exp_data.create_table_of_data(sig=True, unique=True))"
   ]
  },
  {
   "cell_type": "code",
   "execution_count": null,
   "metadata": {
    "scrolled": false
   },
   "outputs": [],
   "source": [
    "v_plot = exp_data.label_free.volcano_plot(save_name='lf_volcano')\n",
    "hist_plot = exp_data.create_histogram_measurements('label_free', 'hist')"
   ]
  },
  {
   "cell_type": "code",
   "execution_count": null,
   "metadata": {
    "scrolled": false
   },
   "outputs": [],
   "source": [
    "data = exp_data.data.copy()\n",
    "data = data[data['source'].isin(['label_free', 'rna_seq'])]\n",
    "data = dt.log2_normalize_df(data, 'fold_change')"
   ]
  },
  {
   "cell_type": "code",
   "execution_count": null,
   "metadata": {},
   "outputs": [],
   "source": [
    "g = sns.PairGrid(data,\n",
    "                 x_vars=['sample_id'],\n",
    "                 y_vars=['fold_change', 'p_value'],\n",
    "                 hue='source',\n",
    "                 aspect=1.25, size=3.5)\n",
    "g.map(sns.violinplot, palette=\"pastel\", split=True,);\n",
    "g.fig.savefig('violin_plot-lf_rna_over_time.png', dpi=300)"
   ]
  },
  {
   "cell_type": "code",
   "execution_count": null,
   "metadata": {},
   "outputs": [],
   "source": [
    "lf = exp_data.label_free.copy()\n",
    "lf.log2_normalize_df(inplace=True)\n",
    "\n",
    "g = sns.PairGrid(lf,\n",
    "                 x_vars=['sample_id'],\n",
    "                 y_vars=['fold_change', 'p_value'],\n",
    "                 hue='source',\n",
    "                 aspect=1.25,\n",
    "                 size=3.5\n",
    "                )\n",
    "\n",
    "g.map(sns.violinplot, palette=\"pastel\", split=True, order=sorted(lf['sample_id'].unique()));\n",
    "g.fig.savefig('violin_plot_lf.png', dpi=300)\n"
   ]
  },
  {
   "cell_type": "code",
   "execution_count": null,
   "metadata": {},
   "outputs": [],
   "source": [
    "rna_seq = exp_data.rna_seq.copy()\n",
    "for i, j in zip(rna_seq.sample_ids, rna_seq.up_by_sample):\n",
    "    print(i, len(j))\n",
    "for i, j in zip(rna_seq.sample_ids, rna_seq.down_by_sample):\n",
    "    print(i, len(j))\n",
    "    \n",
    "exp_data.time_series_volcano(exp_data_type='rna_seq', save_name='rna_seq_volcano_over_time')"
   ]
  },
  {
   "cell_type": "code",
   "execution_count": null,
   "metadata": {},
   "outputs": [],
   "source": [
    "rna_seq.volcano_plot('rna_seq_volcano');\n",
    "rna_seq.log2_normalize_df(inplace=True)\n",
    "g = sns.PairGrid(rna_seq,\n",
    "                 x_vars=['sample_id'],\n",
    "                 y_vars=['fold_change', 'p_value'],\n",
    "                 hue='source',\n",
    "                 aspect=1.25,\n",
    "                 size=4.5\n",
    "                )\n",
    "\n",
    "g.map(sns.violinplot, palette=\"pastel\", split=True, order=sorted(rna_seq['sample_id'].unique()));\n",
    "g.fig.savefig('violin_plot_rna_seq.png', dpi=300)"
   ]
  },
  {
   "cell_type": "code",
   "execution_count": null,
   "metadata": {},
   "outputs": [],
   "source": [
    "def create_pie(data, s_name):\n",
    "    x = len(data.id_list)\n",
    "    y = len(data.sig.id_list)\n",
    "    total = x+y\n",
    "    explode=(0.05, 0.05)\n",
    "    labels=[\"Measured\", \"Significant\"]\n",
    "    fig = plt.figure(figsize=(3,3))\n",
    "    ax = fig.add_subplot(111)\n",
    "    wedges, texts, autotexts = ax.pie([x,y], explode=explode, \n",
    "                                      textprops={'fontsize':16},\n",
    "                                      autopct=lambda(p): '{:.0f}'.format(p * total / 100),\n",
    "                                      shadow=True, startangle=140)\n",
    "    \n",
    "    plt.setp(autotexts, size=20)\n",
    "    plt.axis('equal')\n",
    "    plt.savefig('{}_pie.png'.format(s_name), dpi=300, bbox_inches='tight')\n",
    "    plt.show()\n",
    "    plt.close()\n",
    "create_pie(exp_data.label_free, 'lf')\n",
    "create_pie(exp_data.rna, 'rna_seq')\n",
    "create_pie(exp_data.silac, 'silac')\n",
    "create_pie(exp_data.ph_silac, 'ph_silac')"
   ]
  },
  {
   "cell_type": "code",
   "execution_count": null,
   "metadata": {},
   "outputs": [],
   "source": [
    "met = exp_data.compounds.copy()\n",
    "proteins = exp_data.proteins.copy()\n",
    "rna_seq = exp_data.rna.copy()"
   ]
  },
  {
   "cell_type": "code",
   "execution_count": null,
   "metadata": {},
   "outputs": [],
   "source": [
    "met_sig = met.filter_by_minimum_sig_columns(\n",
    "    index='identifier', \n",
    "    columns='sample_id', \n",
    "    min_terms=4\n",
    ")\n",
    "fig = heatmap_from_array(met_sig, cluster_row=True, convert_to_log=True, \n",
    "                         index='label', values='fold_change', \n",
    "                         columns='sample_id', div_colors=True,\n",
    "                         fig_size=(8, 12), num_colors=11)\n",
    "\n",
    "\n",
    "plt.savefig('metabolomics_clustered.png', dpi=300, bbox_inches='tight')"
   ]
  },
  {
   "cell_type": "code",
   "execution_count": null,
   "metadata": {
    "scrolled": false
   },
   "outputs": [],
   "source": [
    "proteins.loc[proteins['fold_change']>10, 'fold_change']=10\n",
    "proteins.loc[proteins['fold_change']<-10, 'fold_change']=-10\n",
    "\n",
    "proteins_sig = proteins.filter_by_minimum_sig_columns(\n",
    "    index='label', \n",
    "    columns='sample_id', \n",
    "    min_terms=3\n",
    ")\n",
    "fig = heatmap_from_array(proteins_sig, cluster_row=True, convert_to_log=True, \n",
    "                         index='identifier', values='fold_change', \n",
    "                         columns='sample_id', div_colors=True, fig_size=(8, 8),  num_colors=11)\n",
    "\n",
    "fig.fig.savefig('proteins_clustered_time.png', dpi=250, bbox_inches='tight')"
   ]
  },
  {
   "cell_type": "code",
   "execution_count": null,
   "metadata": {
    "scrolled": false
   },
   "outputs": [],
   "source": [
    "fig = heatmap_from_array(rna_seq.sig, convert_to_log=True, cluster_row=False, \n",
    "                         index='identifier', values='fold_change', \n",
    "                         columns='sample_id', div_colors=True, fig_size=(8, 8), num_colors=21)"
   ]
  },
  {
   "cell_type": "code",
   "execution_count": null,
   "metadata": {},
   "outputs": [],
   "source": [
    "create_venn2(exp_data.rna.sig.id_list,\n",
    "             exp_data.proteins.sig.id_list, \n",
    "             'RNA', 'Protein', 'venn_rna_and_protein');"
   ]
  },
  {
   "cell_type": "code",
   "execution_count": null,
   "metadata": {},
   "outputs": [],
   "source": [
    "lf = exp_data.label_free.sig.id_list\n",
    "silac = exp_data.silac.sig.id_list\n",
    "phsilac = exp_data.ph_silac.sig.id_list\n",
    "\n",
    "create_venn3(lf, silac, phsilac, \n",
    "             'LF', 'SILAC', 'ph-SILAC', 'venn_proteomics');"
   ]
  },
  {
   "cell_type": "code",
   "execution_count": null,
   "metadata": {},
   "outputs": [],
   "source": [
    "hilic = exp_data.HILIC.sig.id_list\n",
    "rplc = exp_data.C18.sig.id_list\n",
    "\n",
    "create_venn2(hilic, rplc, 'HILIC', 'RPLC', 'venn_metabolomics');"
   ]
  },
  {
   "cell_type": "code",
   "execution_count": null,
   "metadata": {},
   "outputs": [],
   "source": [
    "exp_data.species.plot_species(\n",
    "    ['VDAC1', 'TRIM28', 'DKC1'], \n",
    "    plot_type='matplotlib', \n",
    "    save_name='proteins_timecoure_example', \n",
    "    image_format='png'\n",
    ");"
   ]
  },
  {
   "cell_type": "code",
   "execution_count": null,
   "metadata": {},
   "outputs": [],
   "source": [
    "%load_ext autoreload\n",
    "%autoreload 2"
   ]
  },
  {
   "cell_type": "code",
   "execution_count": null,
   "metadata": {},
   "outputs": [],
   "source": [
    "for i in exp_data.rna.sig.by_sample:\n",
    "    print(len(i))\n",
    "print(exp_data.rna.sig.sample_ids)"
   ]
  },
  {
   "cell_type": "code",
   "execution_count": null,
   "metadata": {},
   "outputs": [],
   "source": [
    "from magine.enrichment.enrichr import Enrichr\n",
    "\n",
    "\n",
    "e = Enrichr()"
   ]
  },
  {
   "cell_type": "code",
   "execution_count": null,
   "metadata": {},
   "outputs": [],
   "source": [
    "down_tf = e.run_samples(exp_data.rna.sig.down_by_sample,\n",
    "                        sample_ids=exp_data.rna.sig.sample_ids,\n",
    "                   database='ENCODE_and_ChEA_Consensus_TFs_from_ChIP-X')"
   ]
  },
  {
   "cell_type": "code",
   "execution_count": null,
   "metadata": {},
   "outputs": [],
   "source": [
    "down_tf['significant_flag'] = False\n",
    "crit = (down_tf['adj_p_value']<0.05) & (down_tf['combined_score']>1) \n",
    "down_tf.loc[crit, 'significant_flag'] = True\n",
    "\n",
    "down_tf.filter_by_minimum_sig_columns(columns='sample_id', min_terms=1, inplace=True)\n",
    "\n",
    "down_tf.remove_redundant(level='all', inplace=True)\n",
    "down_tf.dist_matrix(level='all');\n",
    "down_tf.sort_values('combined_score', inplace=True, ascending=False)"
   ]
  },
  {
   "cell_type": "code",
   "execution_count": null,
   "metadata": {},
   "outputs": [],
   "source": [
    "down_tf.head(15)"
   ]
  },
  {
   "cell_type": "markdown",
   "metadata": {},
   "source": [
    "# UBTF down regulation is necessary for cisplatin induced apoptosis\n",
    "*Here we show that displacement of UBF and ablation of rRNA synthesis are very early effects of cisplatin treatment, and that in the absence of cisplatin, elimination of UBF protein is sufficient to induce fully penetrant apoptotic cell death.*\n",
    "\n",
    "https://www.ncbi.nlm.nih.gov/pmc/articles/PMC4695006/\n"
   ]
  },
  {
   "cell_type": "code",
   "execution_count": null,
   "metadata": {},
   "outputs": [],
   "source": [
    "df = e.run(down_tf.term_to_genes('ubtf_encode'))\n",
    "df.head(15)"
   ]
  },
  {
   "cell_type": "code",
   "execution_count": null,
   "metadata": {},
   "outputs": [],
   "source": [
    "fig = heatmap_from_array(down_tf, convert_to_log=True, cluster_row=False, \n",
    "                         index='term_name', values='combined_score', \n",
    "                         columns='sample_id', div_colors=True, \n",
    "                         annotate_sig=True,\n",
    "                         fig_size=(8, 12), num_colors=11)"
   ]
  },
  {
   "cell_type": "code",
   "execution_count": null,
   "metadata": {},
   "outputs": [],
   "source": [
    "for i in exp_data.rna.sig.up_by_sample:\n",
    "    print(len(i))\n",
    "    "
   ]
  },
  {
   "cell_type": "code",
   "execution_count": null,
   "metadata": {},
   "outputs": [],
   "source": [
    "up_tf = e.run_samples(exp_data.rna.sig.up_by_sample,\n",
    "                   sample_ids=exp_data.rna.sig.sample_ids,\n",
    "                   database='ENCODE_and_ChEA_Consensus_TFs_from_ChIP-X')\n",
    "\n",
    "\n",
    "up_tf['significant_flag'] = False\n",
    "crit = (up_tf['adj_p_value']<=0.05) & (up_tf['combined_score']>1) \n",
    "up_tf.loc[crit, 'significant_flag'] = True\n",
    "\n",
    "up_tf.filter_by_minimum_sig_columns(columns='sample_id', min_terms=1, inplace=True)\n",
    "\n",
    "up_tf.remove_redundant(level='all', inplace=True)\n",
    "up_tf.dist_matrix(level='all');\n",
    "up_tf.sort_values('combined_score', inplace=True, ascending=False)\n",
    "up_tf.head(10)\n",
    "\n",
    "fig = heatmap_from_array(up_tf, convert_to_log=True, cluster_row=False, \n",
    "                         index='term_name', values='combined_score', \n",
    "                         columns='sample_id', div_colors=True, \n",
    "                         annotate_sig=True,\n",
    "                         fig_size=(8, 12), num_colors=11)"
   ]
  },
  {
   "cell_type": "code",
   "execution_count": null,
   "metadata": {},
   "outputs": [],
   "source": []
  }
 ],
 "metadata": {
  "kernelspec": {
   "display_name": "Python 2",
   "language": "python",
   "name": "python2"
  },
  "language_info": {
   "codemirror_mode": {
    "name": "ipython",
    "version": 2
   },
   "file_extension": ".py",
   "mimetype": "text/x-python",
   "name": "python",
   "nbconvert_exporter": "python",
   "pygments_lexer": "ipython2",
   "version": "2.7.15"
  }
 },
 "nbformat": 4,
 "nbformat_minor": 2
}

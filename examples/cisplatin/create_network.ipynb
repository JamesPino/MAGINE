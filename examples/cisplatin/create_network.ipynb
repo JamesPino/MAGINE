{
 "cells": [
  {
   "cell_type": "markdown",
   "metadata": {},
   "source": [
    "# Creating a data driven network\n",
    "\n",
    "This example shows how we create and add annotations to a data driven network."
   ]
  },
  {
   "cell_type": "code",
   "execution_count": 1,
   "metadata": {},
   "outputs": [
    {
     "data": {
      "text/plain": [
       "u'/home/pinojc/PycharmProjects/Magine/examples/cisplatin'"
      ]
     },
     "execution_count": 1,
     "metadata": {},
     "output_type": "execute_result"
    }
   ],
   "source": [
    "import sys\n",
    "import os\n",
    "import networkx as nx\n",
    "from IPython.display import display\n",
    "%matplotlib inline\n",
    "\n",
    "sys.path.append(\"../..\")\n",
    "\n"
   ]
  },
  {
   "cell_type": "code",
   "execution_count": 2,
   "metadata": {},
   "outputs": [],
   "source": [
    "from exp_data import exp_data\n",
    "from magine.networks.utils import add_attribute_to_network\n",
    "from magine.networks.network_generator import build_network\n",
    "from magine.networks.utils import add_data_to_graph"
   ]
  },
  {
   "cell_type": "markdown",
   "metadata": {},
   "source": [
    "Creating list of seed species and background species for network"
   ]
  },
  {
   "cell_type": "code",
   "execution_count": 3,
   "metadata": {},
   "outputs": [],
   "source": [
    "measured = exp_data.species.id_list\n",
    "sig_measured = exp_data.species.sig.id_list"
   ]
  },
  {
   "cell_type": "markdown",
   "metadata": {},
   "source": [
    "Now we will create the network. We pass the seed and background list to the network as well as flags turning on all of the network databases. We also trim source/sink nodes (optional). This basically cleans up dangling nodes that are not in our seed or background lists."
   ]
  },
  {
   "cell_type": "code",
   "execution_count": 5,
   "metadata": {},
   "outputs": [
    {
     "name": "stdout",
     "output_type": "stream",
     "text": [
      "Trimming network"
     ]
    },
    {
     "name": "stdout",
     "output_type": "stream",
     "text": [
      "\n"
     ]
    },
    {
     "name": "stdout",
     "output_type": "stream",
     "text": [
      "Network has 13411 nodes and 184535 edges"
     ]
    },
    {
     "name": "stdout",
     "output_type": "stream",
     "text": [
      "\n"
     ]
    },
    {
     "name": "stdout",
     "output_type": "stream",
     "text": [
      "Found 8226 of 15776 seed species in network"
     ]
    },
    {
     "name": "stdout",
     "output_type": "stream",
     "text": [
      "\n"
     ]
    },
    {
     "name": "stdout",
     "output_type": "stream",
     "text": [
      "Found 10197 of 23725 background species in network"
     ]
    },
    {
     "name": "stdout",
     "output_type": "stream",
     "text": [
      "\n"
     ]
    }
   ],
   "source": [
    "network = build_network(\n",
    "    seed_species=sig_measured,  # seed species\n",
    "    all_measured_list=measured,  # all data measured\n",
    "    use_biogrid=True,  # expand with biogrid\n",
    "    use_hmdb=True,  # expand with hmdb\n",
    "    use_reactome=True,  # expand with reactome\n",
    "    use_signor=True,  # expand with signor\n",
    "    trim_source_sink=True,  # remove all source and sink nodes not measured\n",
    "    save_name='Networks/cisplatin_network'\n",
    ")"
   ]
  },
  {
   "cell_type": "markdown",
   "metadata": {},
   "source": [
    "Now that we have a network generated, we will add attributes to the network. This way we can visualize these attributes."
   ]
  },
  {
   "cell_type": "code",
   "execution_count": 13,
   "metadata": {},
   "outputs": [],
   "source": [
    "network = add_data_to_graph(network, exp_data)\n",
    "\n",
    "save_name = 'cisplatin_network_w_attributes'\n",
    "\n",
    "# write to GML for cytoscape or other program\n",
    "nx.write_gml(network, os.path.join('Networks', save_name+'.gml'))\n",
    "\n",
    "# write to gpickle for fast loading in python\n",
    "nx.write_gpickle(network, os.path.join('Networks', save_name+'.p'))"
   ]
  }
 ],
 "metadata": {
  "kernelspec": {
   "display_name": "Python 2",
   "language": "python",
   "name": "python2"
  },
  "language_info": {
   "codemirror_mode": {
    "name": "ipython",
    "version": 2
   },
   "file_extension": ".py",
   "mimetype": "text/x-python",
   "name": "python",
   "nbconvert_exporter": "python",
   "pygments_lexer": "ipython2",
   "version": "2.7.15"
  }
 },
 "nbformat": 4,
 "nbformat_minor": 2
}

{
 "cells": [
  {
   "cell_type": "code",
   "execution_count": null,
   "metadata": {},
   "outputs": [],
   "source": [
    "# load general tools\n",
    "import sys\n",
    "sys.path.append(\"../..\")\n",
    "from IPython.display import display\n",
    "%matplotlib inline\n",
    "import networkx as nx\n",
    "import matplotlib.pyplot as plt\n",
    "import pandas as pd\n",
    "pd.set_option('display.precision', 2)\n",
    "pd.set_option('display.max_colwidth', 50)"
   ]
  },
  {
   "cell_type": "code",
   "execution_count": null,
   "metadata": {},
   "outputs": [],
   "source": [
    "# load magine specific tools\n",
    "import magine.networks.ontology_network as nt\n",
    "import magine.networks.visualization.notebooks.view as view\n",
    "from magine.enrichment import load_enrichment_csv\n",
    "from magine.plotting.heatmaps import heatmap_from_array\n",
    "from magine.plotting.venn_diagram_maker import create_venn2\n",
    "from magine.plotting.wordcloud_tools import create_wordcloud\n"
   ]
  },
  {
   "cell_type": "markdown",
   "metadata": {},
   "source": [
    "# Exploring enrichment output"
   ]
  },
  {
   "cell_type": "markdown",
   "metadata": {},
   "source": [
    "Here we load in the results from enrichR"
   ]
  },
  {
   "cell_type": "code",
   "execution_count": null,
   "metadata": {},
   "outputs": [],
   "source": [
    "enrichment_array = load_enrichment_csv('Data/cisplatin_enrichment.csv.gz', index_col=0)\n",
    "enrichment_array['significant_flag'] = False\n",
    "enrichment_array.loc[enrichment_array['adj_p_value']<=0.05, 'significant_flag'] = True"
   ]
  },
  {
   "cell_type": "code",
   "execution_count": null,
   "metadata": {},
   "outputs": [],
   "source": [
    "display(enrichment_array.head(5))"
   ]
  },
  {
   "cell_type": "code",
   "execution_count": null,
   "metadata": {},
   "outputs": [],
   "source": [
    "# clean up printing by selecting fewer columns\n",
    "cols = ['term_name', 'rank', 'combined_score', 'n_genes', 'genes', 'sample_id']"
   ]
  },
  {
   "cell_type": "code",
   "execution_count": null,
   "metadata": {},
   "outputs": [],
   "source": [
    "display(enrichment_array[cols].head(5))"
   ]
  },
  {
   "cell_type": "markdown",
   "metadata": {},
   "source": [
    "## Data stats"
   ]
  },
  {
   "cell_type": "code",
   "execution_count": null,
   "metadata": {},
   "outputs": [],
   "source": [
    "# column types\n",
    "print(enrichment_array.dtypes)"
   ]
  },
  {
   "cell_type": "code",
   "execution_count": null,
   "metadata": {},
   "outputs": [],
   "source": [
    "# databases \n",
    "print(sorted(enrichment_array['db'].unique()))"
   ]
  },
  {
   "cell_type": "code",
   "execution_count": null,
   "metadata": {},
   "outputs": [],
   "source": [
    "# filter only sig terms\n",
    "sig = enrichment_array[enrichment_array['significant_flag']].copy()"
   ]
  },
  {
   "cell_type": "markdown",
   "metadata": {
    "collapsed": true
   },
   "source": [
    "## Filtering and searching the dataframe"
   ]
  },
  {
   "cell_type": "code",
   "execution_count": null,
   "metadata": {
    "scrolled": true
   },
   "outputs": [],
   "source": [
    "# Filter by terms\n",
    "d = sig.filter_based_on_words(['death'])\n",
    "display(d.sort_values('combined_score', ascending=False).head(5))"
   ]
  },
  {
   "cell_type": "code",
   "execution_count": null,
   "metadata": {},
   "outputs": [],
   "source": [
    "drug_dbs = ['DrugMatrix', 'Drug_Perturbations_from_GEO_2014']\n",
    "drug = enrichment_array.filter_multi(\n",
    "    p_value=0.05,\n",
    "    combined_score=0.0, \n",
    "    db=drug_dbs,\n",
    "    rank=100,\n",
    "    #category='rna_up',\n",
    ")"
   ]
  },
  {
   "cell_type": "code",
   "execution_count": null,
   "metadata": {},
   "outputs": [],
   "source": [
    "word_cloud = create_wordcloud(drug)\n",
    "word_cloud.plot('wc_drug_dbs_example.png');"
   ]
  },
  {
   "cell_type": "code",
   "execution_count": null,
   "metadata": {},
   "outputs": [],
   "source": [
    "word_cloud.data.head(10)"
   ]
  },
  {
   "cell_type": "markdown",
   "metadata": {},
   "source": [
    "# Single database exploration\n",
    "\n",
    "Here we will focus on the Reactome enrichment."
   ]
  },
  {
   "cell_type": "code",
   "execution_count": null,
   "metadata": {},
   "outputs": [],
   "source": [
    "\n",
    "reactome_only = enrichment_array.filter_multi(\n",
    "    p_value=0.05, # only sig pvalues\n",
    "    combined_score=0.0, # score threshold of positive values \n",
    "    db='Reactome_2016', # Only reactome db\n",
    "    category='proteomics_up', # from this category\n",
    ")"
   ]
  },
  {
   "cell_type": "code",
   "execution_count": null,
   "metadata": {},
   "outputs": [],
   "source": [
    "# This just cleans up the term name\n",
    "display(reactome_only['term_name'].head(5))\n",
    "reactome_only['term_name'] = reactome_only['term_name'].str.split('_').str.get(0)\n",
    "display(reactome_only['term_name'].head(5))"
   ]
  },
  {
   "cell_type": "code",
   "execution_count": null,
   "metadata": {},
   "outputs": [],
   "source": [
    "# we can use a word cloud to view what terms are enriched\n",
    "word_cloud = create_wordcloud(reactome_only)\n",
    "word_cloud.plot('wc_example.png');"
   ]
  },
  {
   "cell_type": "code",
   "execution_count": null,
   "metadata": {
    "scrolled": false
   },
   "outputs": [],
   "source": [
    "display(reactome_only.head(15))"
   ]
  },
  {
   "cell_type": "code",
   "execution_count": null,
   "metadata": {},
   "outputs": [],
   "source": [
    "# let's look at the sizes of genes per term\n",
    "plt.hist(reactome_only['n_genes'], bins=20)\n",
    "display(reactome_only.describe())"
   ]
  },
  {
   "cell_type": "code",
   "execution_count": null,
   "metadata": {
    "scrolled": true
   },
   "outputs": [],
   "source": [
    "display(reactome_only.sort_values('n_genes', ascending=False)[cols].head(30))\n",
    "display(reactome_only.sort_values('n_genes', ascending=False)[cols].head(30)['term_name'].values)"
   ]
  },
  {
   "cell_type": "code",
   "execution_count": null,
   "metadata": {},
   "outputs": [],
   "source": [
    "# Manually select terms with large number of genes that are not useful.\n",
    "# This is based on person intuition. \"Gene expression\" and \"metabolism\" might be useful for some, but \n",
    "# here I will elimate as they are not descriptive enough to explain what the drug is doing.\n",
    "\n",
    "not_useful = ['gene expression', 'metabolism', \n",
    "              'metabolism of proteins', \n",
    "              'immune system', \n",
    "              'disease', ''\n",
    "              'processing of capped intron-containing pre-mrna',\n",
    "              'developmental biology',\n",
    "              'infectious disease', \n",
    "              'metabolism of amino acids and derivatives',\n",
    "              'major pathway of rrna processing in the nucleolus',\n",
    "              'influenza life cycle', \n",
    "             ]\n",
    "reactome_only = reactome_only.loc[~reactome_only['term_name'].isin(not_useful)]\n",
    "\n",
    "display(reactome_only.sort_values('n_genes', ascending=False)[cols].head(15))"
   ]
  },
  {
   "cell_type": "code",
   "execution_count": null,
   "metadata": {},
   "outputs": [],
   "source": [
    "# Now lets look at the first time point. \n",
    "\n",
    "test_df = reactome_only.filter_multi(sample_id='01hr')\n",
    "display(test_df.head(10)[cols])\n",
    "display(test_df.head(10)[cols].term_name.values)"
   ]
  },
  {
   "cell_type": "markdown",
   "metadata": {},
   "source": [
    "There are 76 enriched terms. If we look at the top ranked terms, we see that some fo them have similar descriptions \"Interlekin...\". If we look at the gene list, we can also see that some of the genes are similar. To see if there are redundant terms that are enriched, we can calculate their similarity with the Jaccard Index (intersection over union).\n",
    "![width=50](https://wikimedia.org/api/rest_v1/media/math/render/svg/eaef5aa86949f49e7dc6b9c8c3dd8b233332c9e7)\n",
    "<img src=\"https://upload.wikimedia.org/wikipedia/commons/c/c7/Intersection_over_Union_-_visual_equation.png\" alt=\"Drawing\" style=\"width: 300px;\"/>"
   ]
  },
  {
   "cell_type": "code",
   "execution_count": null,
   "metadata": {},
   "outputs": [],
   "source": [
    "test_df.dist_matrix(fig_size=(12,12));"
   ]
  },
  {
   "cell_type": "code",
   "execution_count": null,
   "metadata": {},
   "outputs": [],
   "source": [
    "# Valculate the Jaccard Index and returns a ranked dataframe of terms and scores.\n",
    "# Higher scores means more similar terms\n",
    "d = test_df.find_similar_terms('cell cycle')\n",
    "display(d.head(10))"
   ]
  },
  {
   "cell_type": "code",
   "execution_count": null,
   "metadata": {},
   "outputs": [],
   "source": [
    "d = test_df.find_similar_terms('interleukin-2 signaling')\n",
    "display(d.head(20))"
   ]
  },
  {
   "cell_type": "code",
   "execution_count": null,
   "metadata": {
    "scrolled": false
   },
   "outputs": [],
   "source": [
    "d = test_df.find_similar_terms('mapk family signaling cascades')\n",
    "display(d.head(10))"
   ]
  },
  {
   "cell_type": "markdown",
   "metadata": {},
   "source": [
    "We can do this for all terms and view the results in a distance matrix."
   ]
  },
  {
   "cell_type": "markdown",
   "metadata": {},
   "source": [
    "The dark red represents terms that are highly similar. We can filter all highly similar terms from the matrix."
   ]
  },
  {
   "cell_type": "code",
   "execution_count": null,
   "metadata": {},
   "outputs": [],
   "source": [
    "test_df.remove_redundant(threshold=.7, level='sample', inplace=True)\n",
    "test_df.dist_matrix();"
   ]
  },
  {
   "cell_type": "code",
   "execution_count": null,
   "metadata": {},
   "outputs": [],
   "source": [
    "test_df[cols].head(25)"
   ]
  },
  {
   "cell_type": "code",
   "execution_count": null,
   "metadata": {},
   "outputs": [],
   "source": [
    "heatmap_from_array(test_df, convert_to_log=True, fig_size=(4, 6), linewidths=.05);"
   ]
  },
  {
   "cell_type": "markdown",
   "metadata": {},
   "source": [
    "## Across all time points"
   ]
  },
  {
   "cell_type": "code",
   "execution_count": null,
   "metadata": {},
   "outputs": [],
   "source": [
    "reactome_all_time = reactome_only.remove_redundant(threshold=.6, level='sample')\n",
    "\n",
    "reactome_all_time.dist_matrix();"
   ]
  },
  {
   "cell_type": "code",
   "execution_count": null,
   "metadata": {},
   "outputs": [],
   "source": [
    "display(reactome_all_time[cols].head(20))"
   ]
  },
  {
   "cell_type": "code",
   "execution_count": null,
   "metadata": {},
   "outputs": [],
   "source": [
    "reactome_all_time.find_similar_terms('mrna splicing - major pathway').head(10)"
   ]
  },
  {
   "cell_type": "code",
   "execution_count": null,
   "metadata": {},
   "outputs": [],
   "source": [
    "reactome_all_time.find_similar_terms('formation of incision complex in gg-ner').head(10)"
   ]
  },
  {
   "cell_type": "code",
   "execution_count": null,
   "metadata": {},
   "outputs": [],
   "source": [
    "reactome_all_time[reactome_all_time['term_name'] == 'dna repair']"
   ]
  },
  {
   "cell_type": "code",
   "execution_count": null,
   "metadata": {},
   "outputs": [],
   "source": [
    "reactome_all_time.filter_by_minimum_sig_columns(\n",
    "    index='term_name', columns='sample_id', min_terms=2,\n",
    "    inplace=True\n",
    ")\n",
    "\n",
    "heatmap_from_array(reactome_all_time, \n",
    "                   convert_to_log=True, \n",
    "                   fig_size=(6, 14), \n",
    "                   cluster_row=False, \n",
    "                   annotate_sig=True);"
   ]
  },
  {
   "cell_type": "code",
   "execution_count": null,
   "metadata": {},
   "outputs": [],
   "source": [
    "network = nx.read_gpickle('Data/cisplatin_based_network.p')"
   ]
  },
  {
   "cell_type": "code",
   "execution_count": null,
   "metadata": {},
   "outputs": [],
   "source": [
    "hits = ['cell cycle', \n",
    "        'dna repair', \n",
    "        'apoptosis',\n",
    "        'interleukin-2 signaling',\n",
    "        #'apoptotic cleavage of cellular proteins',\n",
    "#         'transcriptional regulation by tp53', \n",
    "#         'vxpx cargo-targeting to cilium',\n",
    "        ]\n",
    "\n",
    "subset = reactome_only.loc[reactome_only['term_name'].isin(hits)].copy()\n",
    "display(subset.head(10))\n",
    "print(subset['term_name'].unique())"
   ]
  },
  {
   "cell_type": "code",
   "execution_count": null,
   "metadata": {
    "scrolled": true
   },
   "outputs": [],
   "source": [
    "term_net, mol_net = nt.create_subnetwork( \n",
    "    subset, network, subset['term_name'],  'entire_network', create_only=True\n",
    ")"
   ]
  },
  {
   "cell_type": "code",
   "execution_count": null,
   "metadata": {},
   "outputs": [],
   "source": [
    "view.render_graph(term_net)"
   ]
  },
  {
   "cell_type": "code",
   "execution_count": null,
   "metadata": {
    "scrolled": false
   },
   "outputs": [],
   "source": [
    "view.display_graph(mol_net, add_parent=True)"
   ]
  },
  {
   "cell_type": "code",
   "execution_count": null,
   "metadata": {
    "scrolled": false
   },
   "outputs": [],
   "source": [
    "view.render_graph(mol_net, add_parent=True)"
   ]
  },
  {
   "cell_type": "code",
   "execution_count": null,
   "metadata": {},
   "outputs": [],
   "source": [
    "from exp_data import exp_data"
   ]
  },
  {
   "cell_type": "code",
   "execution_count": null,
   "metadata": {},
   "outputs": [],
   "source": [
    "from magine.networks.subgraphs import Subgraph\n",
    "net_sub = Subgraph(network)"
   ]
  },
  {
   "cell_type": "code",
   "execution_count": null,
   "metadata": {},
   "outputs": [],
   "source": [
    "print(len(mol_net))\n",
    "print(isinstance(exp_data.compounds.id_list, (list, set)))\n",
    "\n",
    "new_g = net_sub.expand_neighbors(mol_net, \n",
    "                                 nodes=list(mol_net.nodes), upstream=True, downstream=True,\n",
    "                                 include_only=exp_data.compounds.id_list)\n",
    "print(len(new_g))"
   ]
  },
  {
   "cell_type": "code",
   "execution_count": null,
   "metadata": {},
   "outputs": [],
   "source": [
    "vpx = reactome_only.term_to_genes('vxpx cargo-targeting to cilium',)\n",
    "vpx_network = net_sub.paths_between_list(vpx)\n",
    "new_g = net_sub.expand_neighbors(nodes=list(vpx_network.nodes), upstream=True, downstream=True,\n",
    "                                 include_only=exp_data.compounds.id_list)\n",
    "print(len(new_g.nodes()))\n",
    "print(len(new_g.edges()))"
   ]
  },
  {
   "cell_type": "code",
   "execution_count": null,
   "metadata": {
    "scrolled": false
   },
   "outputs": [],
   "source": [
    "view.render_graph(new_g)"
   ]
  },
  {
   "cell_type": "code",
   "execution_count": null,
   "metadata": {},
   "outputs": [],
   "source": [
    "from magine.networks.visualization.igraph_tools import paint_network_overtime"
   ]
  },
  {
   "cell_type": "code",
   "execution_count": null,
   "metadata": {
    "scrolled": false
   },
   "outputs": [],
   "source": [
    "paint_network_overtime(new_g, exp_data=exp_data, save_name='metabolites', color_list='red')"
   ]
  },
  {
   "cell_type": "code",
   "execution_count": null,
   "metadata": {
    "scrolled": false
   },
   "outputs": [],
   "source": [
    "print(reactome_only.shape)\n",
    "\n",
    "at_least_2 = reactome_only.filter_by_minimum_sig_columns(\n",
    "    columns='sample_id',\n",
    "    min_terms=3\n",
    ")\n",
    "\n",
    "at_least_2.remove_redundant(inplace=True, level='dataframe')\n",
    "\n",
    "at_least_2.dist_matrix(fig_size=(8, 8), level='dataframe')\n",
    "\n",
    "\n",
    "heatmap_from_array(\n",
    "    at_least_2,\n",
    "    cluster_row=True, \n",
    "    annotate_sig=True, \n",
    "    fig_size=(8, 14)\n",
    ");"
   ]
  },
  {
   "cell_type": "code",
   "execution_count": null,
   "metadata": {},
   "outputs": [],
   "source": [
    "go_only = enrichment_array.filter_multi(\n",
    "    p_value=0.05, # only sig pvalues\n",
    "    combined_score=0.0, \n",
    "    db=['GO_Biological_Process_2017b',\n",
    "        'GO_Molecular_Function_2017b',\n",
    "        'GO_Cellular_Component_2017b'],\n",
    "    category='proteomics_up'\n",
    ")\n",
    "\n",
    "print(go_only.shape)\n",
    "at_least_2 = go_only.filter_by_minimum_sig_columns(\n",
    "    index='term_name', \n",
    "    columns='sample_id',\n",
    "    min_terms=3\n",
    ")\n",
    "print(at_least_2.shape)\n",
    "at_least_2.remove_redundant(inplace=True)\n",
    "print(at_least_2.shape)\n",
    "heatmap_from_array(at_least_2,convert_to_log=True,\n",
    "                   annotate_sig=True, fig_size=(6,16));"
   ]
  },
  {
   "cell_type": "code",
   "execution_count": null,
   "metadata": {},
   "outputs": [],
   "source": [
    "fig = heatmap_from_array(reactome_only,\n",
    "                         convert_to_log=True,\n",
    "                         fig_size=(8, 8))\n",
    "\n",
    "fig.savefig('enrichment.png', dpi=300, bbox_inches='tight')"
   ]
  },
  {
   "cell_type": "code",
   "execution_count": null,
   "metadata": {},
   "outputs": [],
   "source": [
    "\n",
    "fig = heatmap_from_array(reactome_only, \n",
    "                         convert_to_log=True, \n",
    "                         cluster_col=False, \n",
    "                         cluster_row=True, \n",
    "                         fig_size=(8, 8))\n",
    "\n",
    "fig.savefig('cluster_enrichment.png', dpi=300, bbox_inches='tight')"
   ]
  },
  {
   "cell_type": "code",
   "execution_count": null,
   "metadata": {},
   "outputs": [],
   "source": [
    "drug_df = enrichment_array.filter_multi(\n",
    "    p_value=0.05,\n",
    "    combined_score=0.0,\n",
    "    rank=25,\n",
    "    db=['DrugMatrix', 'Drug_Perturbations_from_GEO_2014']\n",
    ")\n",
    "create_wordcloud(drug_df).plot(save_name='word_cloud_rna_drug_dbs');"
   ]
  },
  {
   "cell_type": "code",
   "execution_count": null,
   "metadata": {
    "scrolled": false
   },
   "outputs": [],
   "source": [
    "sig_array = enrichment_array.filter_multi(\n",
    "    p_value=0.05, \n",
    "    combined_score=5.0, \n",
    "    rank=25,\n",
    "    db='GO_Biological_Process_2017b',\n",
    "    category='proteomics_up'\n",
    ")\n",
    "\n",
    "create_wordcloud(sig_array).plot(save_name='wordcloud_array_go');\n",
    "\n",
    "sig_array.remove_redundant(threshold=0.9, inplace=True, level='dataframe')\n",
    "sig_array.dist_matrix();\n",
    "fig = heatmap_from_array(sig_array, \n",
    "                         convert_to_log=True, \n",
    "                         cluster_col=False, \n",
    "                         cluster_row=True, \n",
    "                         fig_size=(8, 14), annotate_sig=True)\n",
    "\n",
    "fig.savefig('go_bp_cluster_enrichment.png', dpi=300, bbox_inches='tight')"
   ]
  },
  {
   "cell_type": "code",
   "execution_count": null,
   "metadata": {},
   "outputs": [],
   "source": [
    "sig_array = enrichment_array.filter_multi(\n",
    "    p_value=0.05, \n",
    "    combined_score=5.0, \n",
    "    rank=25,\n",
    "    db='KEGG_2016'\n",
    ")\n",
    "sig_array.remove_redundant(inplace=True, threshold=0.7)\n",
    "wordcloud = create_wordcloud(sig_array)\n",
    "wordcloud.plot(save_name='wordcloud_array_kegg')"
   ]
  },
  {
   "cell_type": "code",
   "execution_count": null,
   "metadata": {},
   "outputs": [],
   "source": [
    "sig_array = enrichment_array.filter_multi(\n",
    "    p_value=0.05, \n",
    "    combined_score=5.0, \n",
    "    rank=25,\n",
    "    db='WikiPathways_2016'\n",
    ")\n",
    "sig_array.remove_redundant(inplace=True, threshold=0.7)\n",
    "\n",
    "create_wordcloud(sig_array).plot(save_name='wordcloud_array_wiki');\n",
    "\n",
    "fig = heatmap_from_array(sig_array, \n",
    "                         convert_to_log=True, \n",
    "                         cluster_col=False, \n",
    "                         cluster_row=True, \n",
    "                         fig_size=(8, 8))\n",
    "\n",
    "fig.savefig('enrichment_example3.png', dpi=300, bbox_inches='tight')"
   ]
  }
 ],
 "metadata": {
  "kernelspec": {
   "display_name": "Python 2",
   "language": "python",
   "name": "python2"
  },
  "language_info": {
   "codemirror_mode": {
    "name": "ipython",
    "version": 2
   },
   "file_extension": ".py",
   "mimetype": "text/x-python",
   "name": "python",
   "nbconvert_exporter": "python",
   "pygments_lexer": "ipython2",
   "version": "2.7.15"
  }
 },
 "nbformat": 4,
 "nbformat_minor": 2
}

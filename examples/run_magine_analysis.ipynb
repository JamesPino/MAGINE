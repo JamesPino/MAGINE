{
 "cells": [
  {
   "cell_type": "markdown",
   "metadata": {
    "collapsed": false
   },
   "source": [
    "#Cisplatin example for MAGINE"
   ]
  },
  {
   "cell_type": "markdown",
   "metadata": {},
   "source": [
    "Data formatting\n",
    "To use the full extent of MAGINE, we require the data files to be in a simple format.\n",
    "Column names below are required\n",
    "\n",
    "* gene (approved gene symbol)\n",
    "* protein (includes PTMs)\n",
    "* compound  (HMDB)\n",
    "* name (compound name)\n",
    "* fold\\_change \n",
    "* species\\_type (gene or metabolite)\n",
    "* significant\\_flag (i.e. True or False)\n",
    "* time (i.e time point)\n",
    "* data\\_type (platform i.e. SILAC, RNASeq, HPLC)\n",
    " \t"
   ]
  },
  {
   "cell_type": "code",
   "execution_count": 13,
   "metadata": {
    "collapsed": false
   },
   "outputs": [
    {
     "name": "stdout",
     "output_type": "stream",
     "text": [
      "examples\\Data\\norris_et_al_2017_cisplatin_data.csv.gz\n"
     ]
    },
    {
     "name": "stdout",
     "output_type": "stream",
     "text": [
      "compound                        object\ndata_type                       object\ngene                            object\nname                            object\np_value_group_1_and_group_2    float64\nprotein                         object\nsignificant_flag                  bool\nspecies_type                    object\ntime                             int64\ntime_points                      int64\ntreated_control_fold_change    float64\ndtype: object\n"
     ]
    }
   ],
   "source": [
    "import pandas as pd\n",
    "import os\n",
    "file_path = os.path.join('examples',\n",
    "                         'Data','norris_et_al_2017_cisplatin_data.csv.gz')\n",
    "print(file_path)\n",
    "data = pd.read_csv(file_path, low_memory=False)\n",
    "print(data.dtypes)"
   ]
  },
  {
   "cell_type": "code",
   "execution_count": 14,
   "metadata": {
    "collapsed": false
   },
   "outputs": [
    {
     "data": {
      "text/html": [
       "<div>\n",
       "<table border=\"1\" class=\"dataframe\">\n",
       "  <thead>\n",
       "    <tr style=\"text-align: right;\">\n",
       "      <th></th>\n",
       "      <th>compound</th>\n",
       "      <th>data_type</th>\n",
       "      <th>gene</th>\n",
       "      <th>name</th>\n",
       "      <th>p_value_group_1_and_group_2</th>\n",
       "      <th>protein</th>\n",
       "      <th>significant_flag</th>\n",
       "      <th>species_type</th>\n",
       "      <th>time</th>\n",
       "      <th>time_points</th>\n",
       "      <th>treated_control_fold_change</th>\n",
       "    </tr>\n",
       "  </thead>\n",
       "  <tbody>\n",
       "    <tr>\n",
       "      <th>0</th>\n",
       "      <td>NaN</td>\n",
       "      <td>LF</td>\n",
       "      <td>ATXN2</td>\n",
       "      <td>NaN</td>\n",
       "      <td>0.0008</td>\n",
       "      <td>ATXN2_LF</td>\n",
       "      <td>True</td>\n",
       "      <td>protein</td>\n",
       "      <td>1</td>\n",
       "      <td>1</td>\n",
       "      <td>-1.56</td>\n",
       "    </tr>\n",
       "    <tr>\n",
       "      <th>1</th>\n",
       "      <td>NaN</td>\n",
       "      <td>LF</td>\n",
       "      <td>DAZAP1</td>\n",
       "      <td>NaN</td>\n",
       "      <td>0.0098</td>\n",
       "      <td>DAZAP1_LF</td>\n",
       "      <td>True</td>\n",
       "      <td>protein</td>\n",
       "      <td>1</td>\n",
       "      <td>1</td>\n",
       "      <td>-2.35</td>\n",
       "    </tr>\n",
       "    <tr>\n",
       "      <th>2</th>\n",
       "      <td>NaN</td>\n",
       "      <td>LF</td>\n",
       "      <td>HNRNPA1</td>\n",
       "      <td>NaN</td>\n",
       "      <td>0.0116</td>\n",
       "      <td>HNRNPA1_S(ph)_6_LF</td>\n",
       "      <td>True</td>\n",
       "      <td>protein</td>\n",
       "      <td>1</td>\n",
       "      <td>1</td>\n",
       "      <td>-1.98</td>\n",
       "    </tr>\n",
       "    <tr>\n",
       "      <th>3</th>\n",
       "      <td>NaN</td>\n",
       "      <td>LF</td>\n",
       "      <td>PRDX3</td>\n",
       "      <td>NaN</td>\n",
       "      <td>0.0120</td>\n",
       "      <td>PRDX3_LF</td>\n",
       "      <td>False</td>\n",
       "      <td>protein</td>\n",
       "      <td>1</td>\n",
       "      <td>1</td>\n",
       "      <td>-1.46</td>\n",
       "    </tr>\n",
       "    <tr>\n",
       "      <th>4</th>\n",
       "      <td>NaN</td>\n",
       "      <td>LF</td>\n",
       "      <td>HP1BP3</td>\n",
       "      <td>NaN</td>\n",
       "      <td>0.0180</td>\n",
       "      <td>HP1BP3_LF</td>\n",
       "      <td>True</td>\n",
       "      <td>protein</td>\n",
       "      <td>1</td>\n",
       "      <td>1</td>\n",
       "      <td>-1.60</td>\n",
       "    </tr>\n",
       "  </tbody>\n",
       "</table>\n",
       "</div>"
      ],
      "text/plain": [
       "<div>\n",
       "<table border=\"1\" class=\"dataframe\">\n",
       "  <thead>\n",
       "    <tr style=\"text-align: right;\">\n",
       "      <th></th>\n",
       "      <th>compound</th>\n",
       "      <th>data_type</th>\n",
       "      <th>gene</th>\n",
       "      <th>name</th>\n",
       "      <th>p_value_group_1_and_group_2</th>\n",
       "      <th>protein</th>\n",
       "      <th>significant_flag</th>\n",
       "      <th>species_type</th>\n",
       "      <th>time</th>\n",
       "      <th>time_points</th>\n",
       "      <th>treated_control_fold_change</th>\n",
       "    </tr>\n",
       "  </thead>\n",
       "  <tbody>\n",
       "    <tr>\n",
       "      <th>0</th>\n",
       "      <td>NaN</td>\n",
       "      <td>LF</td>\n",
       "      <td>ATXN2</td>\n",
       "      <td>NaN</td>\n",
       "      <td>0.0008</td>\n",
       "      <td>ATXN2_LF</td>\n",
       "      <td>True</td>\n",
       "      <td>protein</td>\n",
       "      <td>1</td>\n",
       "      <td>1</td>\n",
       "      <td>-1.56</td>\n",
       "    </tr>\n",
       "    <tr>\n",
       "      <th>1</th>\n",
       "      <td>NaN</td>\n",
       "      <td>LF</td>\n",
       "      <td>DAZAP1</td>\n",
       "      <td>NaN</td>\n",
       "      <td>0.0098</td>\n",
       "      <td>DAZAP1_LF</td>\n",
       "      <td>True</td>\n",
       "      <td>protein</td>\n",
       "      <td>1</td>\n",
       "      <td>1</td>\n",
       "      <td>-2.35</td>\n",
       "    </tr>\n",
       "    <tr>\n",
       "      <th>2</th>\n",
       "      <td>NaN</td>\n",
       "      <td>LF</td>\n",
       "      <td>HNRNPA1</td>\n",
       "      <td>NaN</td>\n",
       "      <td>0.0116</td>\n",
       "      <td>HNRNPA1_S(ph)_6_LF</td>\n",
       "      <td>True</td>\n",
       "      <td>protein</td>\n",
       "      <td>1</td>\n",
       "      <td>1</td>\n",
       "      <td>-1.98</td>\n",
       "    </tr>\n",
       "    <tr>\n",
       "      <th>3</th>\n",
       "      <td>NaN</td>\n",
       "      <td>LF</td>\n",
       "      <td>PRDX3</td>\n",
       "      <td>NaN</td>\n",
       "      <td>0.0120</td>\n",
       "      <td>PRDX3_LF</td>\n",
       "      <td>False</td>\n",
       "      <td>protein</td>\n",
       "      <td>1</td>\n",
       "      <td>1</td>\n",
       "      <td>-1.46</td>\n",
       "    </tr>\n",
       "    <tr>\n",
       "      <th>4</th>\n",
       "      <td>NaN</td>\n",
       "      <td>LF</td>\n",
       "      <td>HP1BP3</td>\n",
       "      <td>NaN</td>\n",
       "      <td>0.0180</td>\n",
       "      <td>HP1BP3_LF</td>\n",
       "      <td>True</td>\n",
       "      <td>protein</td>\n",
       "      <td>1</td>\n",
       "      <td>1</td>\n",
       "      <td>-1.60</td>\n",
       "    </tr>\n",
       "  </tbody>\n",
       "</table>\n",
       "</div>"
      ]
     },
     "execution_count": 14,
     "metadata": {},
     "output_type": "execute_result"
    }
   ],
   "source": [
    "data.head(5)"
   ]
  },
  {
   "cell_type": "markdown",
   "metadata": {},
   "source": [
    "Note that the first 5 data points are species_type=protein, thus NaN fill the missing columns for compound as expected."
   ]
  },
  {
   "cell_type": "code",
   "execution_count": 16,
   "metadata": {
    "collapsed": false
   },
   "outputs": [],
   "source": [
    "from magine.data.datatypes import ExperimentalData\n",
    "exp_data = ExperimentalData(data)"
   ]
  },
  {
   "cell_type": "code",
   "execution_count": 17,
   "metadata": {
    "collapsed": false
   },
   "outputs": [
    {
     "data": {
      "text/plain": [
       "11948"
      ]
     },
     "execution_count": 17,
     "metadata": {},
     "output_type": "execute_result"
    }
   ],
   "source": [
    "exp_data.n_sig_species"
   ]
  },
  {
   "cell_type": "code",
   "execution_count": 19,
   "metadata": {
    "collapsed": true
   },
   "outputs": [],
   "source": [
    ""
   ]
  },
  {
   "cell_type": "code",
   "execution_count": 20,
   "metadata": {
    "collapsed": false
   },
   "outputs": [
    {
     "name": "stdout",
     "output_type": "stream",
     "text": [
      "Loading class data"
     ]
    },
    {
     "name": "stdout",
     "output_type": "stream",
     "text": [
      "\n"
     ]
    },
    {
     "name": "stdout",
     "output_type": "stream",
     "text": [
      "Started converting kegg genes to HGNC"
     ]
    },
    {
     "name": "stdout",
     "output_type": "stream",
     "text": [
      "\n"
     ]
    },
    {
     "name": "stdout",
     "output_type": "stream",
     "text": [
      "Loading class data"
     ]
    },
    {
     "name": "stdout",
     "output_type": "stream",
     "text": [
      "\n"
     ]
    },
    {
     "name": "stdout",
     "output_type": "stream",
     "text": [
      "225 mappings not found from kegg to gene name"
     ]
    },
    {
     "name": "stdout",
     "output_type": "stream",
     "text": [
      "\n"
     ]
    },
    {
     "name": "stdout",
     "output_type": "stream",
     "text": [
      "Started to check for miRNAs"
     ]
    },
    {
     "name": "stdout",
     "output_type": "stream",
     "text": [
      "\n"
     ]
    },
    {
     "name": "stdout",
     "output_type": "stream",
     "text": [
      "11 mappings not found after HGNC mapping"
     ]
    },
    {
     "name": "stdout",
     "output_type": "stream",
     "text": [
      "\n"
     ]
    },
    {
     "name": "stdout",
     "output_type": "stream",
     "text": [
      "Found 2679 nodes in REACTOME not in KEGG"
     ]
    },
    {
     "name": "stdout",
     "output_type": "stream",
     "text": [
      "\n"
     ]
    },
    {
     "name": "stdout",
     "output_type": "stream",
     "text": [
      "Added 59897 edges from REACTOME"
     ]
    },
    {
     "name": "stdout",
     "output_type": "stream",
     "text": [
      "\n"
     ]
    },
    {
     "name": "stdout",
     "output_type": "stream",
     "text": [
      "Nodes before Reactome expansion = 11183, after = 13507"
     ]
    },
    {
     "name": "stdout",
     "output_type": "stream",
     "text": [
      "\n"
     ]
    },
    {
     "name": "stdout",
     "output_type": "stream",
     "text": [
      "Trimming network"
     ]
    },
    {
     "name": "stdout",
     "output_type": "stream",
     "text": [
      "\n"
     ]
    },
    {
     "name": "stdout",
     "output_type": "stream",
     "text": [
      "Number of edges 121987"
     ]
    },
    {
     "name": "stdout",
     "output_type": "stream",
     "text": [
      "\n"
     ]
    },
    {
     "name": "stdout",
     "output_type": "stream",
     "text": [
      "Number of nodes 9999"
     ]
    },
    {
     "name": "stdout",
     "output_type": "stream",
     "text": [
      "\n"
     ]
    }
   ],
   "source": [
    ""
   ]
  },
  {
   "cell_type": "code",
   "execution_count": 21,
   "metadata": {
    "collapsed": true
   },
   "outputs": [
    {
     "name": "stdout",
     "output_type": "stream",
     "text": [
      "Creating enrichment array"
     ]
    },
    {
     "name": "stdout",
     "output_type": "stream",
     "text": [
      "\n"
     ]
    },
    {
     "name": "stdout",
     "output_type": "stream",
     "text": [
      "Genes not in GO = set(['RGAG1', 'TEX33', 'CCDC142', 'AMN1', 'C1orf146', 'LEPRE1', 'KIAA1211', 'FAM219A'])"
     ]
    },
    {
     "name": "stdout",
     "output_type": "stream",
     "text": [
      "\n"
     ]
    },
    {
     "name": "stdout",
     "output_type": "stream",
     "text": [
      "Number of genes given = 255. Number of genes in GO = 247"
     ]
    },
    {
     "name": "stdout",
     "output_type": "stream",
     "text": [
      "\n"
     ]
    },
    {
     "name": "stdout",
     "output_type": "stream",
     "text": [
      "Genes not in GO = set(['SDE2', 'FAM45B', 'C6orf183', 'C7orf71', 'SZRD1', 'CCDC34', 'C17orf85', 'C16orf96', 'KIAA1522', 'C15orf59', 'C18orf25', 'PROSER3', 'KIAA1671'])"
     ]
    },
    {
     "name": "stdout",
     "output_type": "stream",
     "text": [
      "\n"
     ]
    },
    {
     "name": "stdout",
     "output_type": "stream",
     "text": [
      "Number of genes given = 463. Number of genes in GO = 450"
     ]
    },
    {
     "name": "stdout",
     "output_type": "stream",
     "text": [
      "\n"
     ]
    },
    {
     "name": "stdout",
     "output_type": "stream",
     "text": [
      "Genes not in GO = set(['SDE2', 'HEATR6', 'NHP2L1', 'C18orf25', 'PPAP2B', 'AKAP2', 'LRRC30', 'CCDC171', 'SZRD1', 'FAM98C', 'Putative uncharacterized protein LOC645739', 'C17orf85', 'UBFD1', 'FBXL13', 'KIAA1598', 'KIAA1671', 'QRICH2', 'C11orf84', 'SMEK1', 'C12orf45', 'MSANTD2'])"
     ]
    },
    {
     "name": "stdout",
     "output_type": "stream",
     "text": [
      "\n"
     ]
    },
    {
     "name": "stdout",
     "output_type": "stream",
     "text": [
      "Number of genes given = 963. Number of genes in GO = 942"
     ]
    },
    {
     "name": "stdout",
     "output_type": "stream",
     "text": [
      "\n"
     ]
    },
    {
     "name": "stdout",
     "output_type": "stream",
     "text": [
      "Genes not in GO = set(['SDE2', 'HIST1H4A; HIST1H4B; HIST1H4C; HIST1H4D; HIST1H4E; HIST1H4F; HIST1H4H; HIST1H4I; HIST1H4J; HIST1H4K; HIST1H4L; HIST2H4A; HIST2H4B; HIST4H4', 'AKAP2', 'C1orf106', 'C5orf22', 'C12orf45', 'SZRD1', 'H3F3A; H3F3B', 'KIAA1279', 'Ig kappa chain V-II region FR', 'C11orf84', 'NHP2L1', 'SMEK1', 'MROH8', 'B3GALTL', 'CCDC176', 'LRRIQ4', 'LCHN', 'KLHL15'])"
     ]
    },
    {
     "name": "stdout",
     "output_type": "stream",
     "text": [
      "\n"
     ]
    },
    {
     "name": "stdout",
     "output_type": "stream",
     "text": [
      "Number of genes given = 1123. Number of genes in GO = 1104"
     ]
    },
    {
     "name": "stdout",
     "output_type": "stream",
     "text": [
      "\n"
     ]
    },
    {
     "name": "stdout",
     "output_type": "stream",
     "text": [
      "Saving enrichment array to cisplatin_proteomics_up"
     ]
    },
    {
     "name": "stdout",
     "output_type": "stream",
     "text": [
      "\n"
     ]
    },
    {
     "name": "stdout",
     "output_type": "stream",
     "text": [
      "Creating enrichment array"
     ]
    },
    {
     "name": "stdout",
     "output_type": "stream",
     "text": [
      "\n"
     ]
    },
    {
     "name": "stdout",
     "output_type": "stream",
     "text": [
      "Genes not in GO = set(['TTC13', 'Putative short transient receptor potential channel 2-like protein', 'KIAA1210', 'GPR112', 'FAM149A'])"
     ]
    },
    {
     "name": "stdout",
     "output_type": "stream",
     "text": [
      "\n"
     ]
    },
    {
     "name": "stdout",
     "output_type": "stream",
     "text": [
      "Number of genes given = 280. Number of genes in GO = 275"
     ]
    },
    {
     "name": "stdout",
     "output_type": "stream",
     "text": [
      "\n"
     ]
    },
    {
     "name": "stdout",
     "output_type": "stream",
     "text": [
      "Genes not in GO = set(['HEATR5A', 'NHSL1', 'KAL1', 'KIAA1522', 'FAM21B', 'C12orf45', 'C9orf106'])"
     ]
    },
    {
     "name": "stdout",
     "output_type": "stream",
     "text": [
      "\n"
     ]
    },
    {
     "name": "stdout",
     "output_type": "stream",
     "text": [
      "Number of genes given = 479. Number of genes in GO = 472"
     ]
    },
    {
     "name": "stdout",
     "output_type": "stream",
     "text": [
      "\n"
     ]
    },
    {
     "name": "stdout",
     "output_type": "stream",
     "text": [
      "Genes not in GO = set(['CRAMP1L', 'GPRIN3', 'QSER1', 'KIAA1522', 'FAM219A', 'LPHN2', 'FAM149A', 'RUNDC1', 'C1orf195', 'ERICH1', 'FAM110D', 'HEATR6', 'SPATS2', 'HEATR5A', 'KIAA0020', 'MAP7D2', 'ANKRD24', 'FAM21B', 'Uncharacterized protein FLJ45252', 'C12orf45', 'CMSS1', 'FHDC1', 'C22orf42', 'SOWAHC', 'FAM178A'])"
     ]
    },
    {
     "name": "stdout",
     "output_type": "stream",
     "text": [
      "\n"
     ]
    },
    {
     "name": "stdout",
     "output_type": "stream",
     "text": [
      "Number of genes given = 1105. Number of genes in GO = 1080"
     ]
    },
    {
     "name": "stdout",
     "output_type": "stream",
     "text": [
      "\n"
     ]
    },
    {
     "name": "stdout",
     "output_type": "stream",
     "text": [
      "Genes not in GO = set(['C1orf106', 'Uncharacterized protein FLJ45252', 'GPRIN3', 'C17orf104', 'KIAA1279', 'SAAL1', 'KIAA1522', 'CCDC142', 'LEPRE1', 'CDKN2AIPNL', 'UBAP2', 'FAM177A1', 'C12orf77', 'TSR3', 'DAK', 'C9orf66', 'FAM21B', 'RPS17L', 'LRRIQ1', 'HEATR6', 'SPATS2', 'LPHN2', 'HEATR5A', 'KIAA0020', 'SH3BP5L', 'MAP7D2', 'ZC3HAV1L', 'FAM193A', 'C19orf53', 'KIAA1598', 'PLEKHA6', 'SOWAHC', 'C14orf142', 'FAM178A'])"
     ]
    },
    {
     "name": "stdout",
     "output_type": "stream",
     "text": [
      "\n"
     ]
    },
    {
     "name": "stdout",
     "output_type": "stream",
     "text": [
      "Number of genes given = 1540. Number of genes in GO = 1506"
     ]
    },
    {
     "name": "stdout",
     "output_type": "stream",
     "text": [
      "\n"
     ]
    },
    {
     "name": "stdout",
     "output_type": "stream",
     "text": [
      "Saving enrichment array to cisplatin_proteomics_down"
     ]
    },
    {
     "name": "stdout",
     "output_type": "stream",
     "text": [
      "\n"
     ]
    },
    {
     "name": "stdout",
     "output_type": "stream",
     "text": [
      "Creating enrichment array"
     ]
    },
    {
     "name": "stdout",
     "output_type": "stream",
     "text": [
      "\n"
     ]
    },
    {
     "name": "stdout",
     "output_type": "stream",
     "text": [
      "Genes not in GO = set(['FAM149A', 'RGAG1', 'TEX33', 'Putative short transient receptor potential channel 2-like protein', 'KIAA1211', 'TTC13', 'CCDC142', 'AMN1', 'C1orf146', 'LEPRE1', 'KIAA1210', 'GPR112', 'FAM219A'])"
     ]
    },
    {
     "name": "stdout",
     "output_type": "stream",
     "text": [
      "\n"
     ]
    },
    {
     "name": "stdout",
     "output_type": "stream",
     "text": [
      "Number of genes given = 522. Number of genes in GO = 509"
     ]
    },
    {
     "name": "stdout",
     "output_type": "stream",
     "text": [
      "\n"
     ]
    },
    {
     "name": "stdout",
     "output_type": "stream",
     "text": [
      "Genes not in GO = set(['SDE2', 'FAM45B', 'C6orf183', 'SZRD1', 'HEATR5A', 'C7orf71', 'KIAA1671', 'NHSL1', 'CCDC34', 'C17orf85', 'C16orf96', 'KAL1', 'KIAA1522', 'FAM21B', 'C15orf59', 'C18orf25', 'PROSER3', 'C12orf45', 'C9orf106'])"
     ]
    },
    {
     "name": "stdout",
     "output_type": "stream",
     "text": [
      "\n"
     ]
    },
    {
     "name": "stdout",
     "output_type": "stream",
     "text": [
      "Number of genes given = 863. Number of genes in GO = 844"
     ]
    },
    {
     "name": "stdout",
     "output_type": "stream",
     "text": [
      "\n"
     ]
    },
    {
     "name": "stdout",
     "output_type": "stream",
     "text": [
      "Genes not in GO = set(['FAM98C', 'PPAP2B', 'Uncharacterized protein FLJ45252', 'C1orf195', 'GPRIN3', 'KIAA1671', 'NHP2L1', 'KIAA1522', 'FAM219A', 'LPHN2', 'C18orf25', 'FAM149A', 'C22orf42', 'KIAA1598', 'Putative uncharacterized protein LOC645739', 'RUNDC1', 'CRAMP1L', 'FBXL13', 'FAM21B', 'HEATR5A', 'ERICH1', 'FAM110D', 'HEATR6', 'QSER1', 'QRICH2', 'KIAA0020', 'C17orf85', 'MAP7D2', 'ANKRD24', 'C11orf84', 'SPATS2', 'C12orf45', 'CMSS1', 'SDE2', 'FHDC1', 'AKAP2', 'LRRC30', 'CCDC171', 'SZRD1', 'UBFD1', 'SOWAHC', 'SMEK1', 'FAM178A', 'MSANTD2'])"
     ]
    },
    {
     "name": "stdout",
     "output_type": "stream",
     "text": [
      "\n"
     ]
    },
    {
     "name": "stdout",
     "output_type": "stream",
     "text": [
      "Number of genes given = 1840. Number of genes in GO = 1796"
     ]
    },
    {
     "name": "stdout",
     "output_type": "stream",
     "text": [
      "\n"
     ]
    },
    {
     "name": "stdout",
     "output_type": "stream",
     "text": [
      "Genes not in GO = set(['C1orf106', 'Uncharacterized protein FLJ45252', 'RPS17L', 'C17orf104', 'KIAA1279', 'SAAL1', 'SPATS2', 'KIAA1522', 'MROH8', 'CCDC142', 'LEPRE1', 'CDKN2AIPNL', 'LPHN2', 'FAM177A1', 'C12orf77', 'C5orf22', 'TSR3', 'DAK', 'C9orf66', 'FAM21B', 'GPRIN3', 'B3GALTL', 'LRRIQ1', 'LRRIQ4', 'HEATR6', 'C19orf53', 'NHP2L1', 'KLHL15', 'Ig kappa chain V-II region FR', 'UBAP2', 'HEATR5A', 'KIAA0020', 'SH3BP5L', 'MAP7D2', 'ZC3HAV1L', 'KIAA1598', 'C11orf84', 'C12orf45', 'FAM193A', 'SDE2', 'HIST1H4A; HIST1H4B; HIST1H4C; HIST1H4D; HIST1H4E; HIST1H4F; HIST1H4H; HIST1H4I; HIST1H4J; HIST1H4K; HIST1H4L; HIST2H4A; HIST2H4B; HIST4H4', 'H3F3A; H3F3B', 'AKAP2', 'SZRD1', 'CCDC176', 'PLEKHA6', 'SOWAHC', 'SMEK1', 'C14orf142', 'LCHN', 'FAM178A'])"
     ]
    },
    {
     "name": "stdout",
     "output_type": "stream",
     "text": [
      "\n"
     ]
    },
    {
     "name": "stdout",
     "output_type": "stream",
     "text": [
      "Number of genes given = 2374. Number of genes in GO = 2323"
     ]
    },
    {
     "name": "stdout",
     "output_type": "stream",
     "text": [
      "\n"
     ]
    },
    {
     "name": "stdout",
     "output_type": "stream",
     "text": [
      "Saving enrichment array to cisplatin_proteomics_both"
     ]
    },
    {
     "name": "stdout",
     "output_type": "stream",
     "text": [
      "\n"
     ]
    },
    {
     "name": "stdout",
     "output_type": "stream",
     "text": [
      "Processing : cisplatin_proteomics_up"
     ]
    },
    {
     "name": "stdout",
     "output_type": "stream",
     "text": [
      "\n"
     ]
    },
    {
     "name": "stdout",
     "output_type": "stream",
     "text": [
      "Starting to create plots for each GO term"
     ]
    },
    {
     "name": "stdout",
     "output_type": "stream",
     "text": [
      "\n"
     ]
    }
   ],
   "source": [
    ""
   ]
  }
 ],
 "metadata": {
  "anaconda-cloud": {},
  "kernelspec": {
   "display_name": "Python [default]",
   "language": "python",
   "name": "python2"
  },
  "language_info": {
   "codemirror_mode": {
    "name": "ipython",
    "version": 2
   },
   "file_extension": ".py",
   "mimetype": "text/x-python",
   "name": "python",
   "nbconvert_exporter": "python",
   "pygments_lexer": "ipython2",
   "version": "2.7.12"
  }
 },
 "nbformat": 4,
 "nbformat_minor": 0
}

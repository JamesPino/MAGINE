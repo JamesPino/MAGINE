{
 "cells": [
  {
   "cell_type": "markdown",
   "metadata": {
    "collapsed": false
   },
   "source": [
    "#Cisplatin example for MAGINE"
   ]
  },
  {
   "cell_type": "markdown",
   "metadata": {},
   "source": [
    "Data formatting\n",
    "To use the full extent of MAGINE, we require the data files to be in a simple format.\n",
    "Column names below are required\n",
    "\n",
    "* gene (approved gene symbol)\n",
    "* protein (includes PTMs)\n",
    "* compound  (HMDB)\n",
    "* name (compound name)\n",
    "* fold\\_change \n",
    "* species\\_type (gene or metabolite)\n",
    "* significant\\_flag (i.e. True or False)\n",
    "* time (i.e time point)\n",
    "* data\\_type (platform i.e. SILAC, RNASeq, HPLC)\n",
    " \t"
   ]
  },
  {
   "cell_type": "code",
   "execution_count": 1,
   "metadata": {
    "collapsed": false
   },
   "outputs": [
    {
     "name": "stdout",
     "output_type": "stream",
     "text": [
      "compound                        object\n",
      "data_type                       object\n",
      "gene                            object\n",
      "name                            object\n",
      "p_value_group_1_and_group_2    float64\n",
      "protein                         object\n",
      "significant_flag                  bool\n",
      "species_type                    object\n",
      "time                             int64\n",
      "time_points                      int64\n",
      "treated_control_fold_change    float64\n",
      "dtype: object\n"
     ]
    }
   ],
   "source": [
    "import pandas as pd\n",
    "\n",
    "data = pd.read_csv('Data/norris_et_al_2017_cisplatin_data.csv.gz', low_memory=False)\n",
    "print(data.dtypes)"
   ]
  },
  {
   "cell_type": "code",
   "execution_count": null,
   "metadata": {
    "collapsed": false
   },
   "outputs": [
    {
     "data": {
      "text/html": [
       "<div>\n",
       "<table border=\"1\" class=\"dataframe\">\n",
       "  <thead>\n",
       "    <tr style=\"text-align: right;\">\n",
       "      <th></th>\n",
       "      <th>compound</th>\n",
       "      <th>data_type</th>\n",
       "      <th>gene</th>\n",
       "      <th>name</th>\n",
       "      <th>p_value_group_1_and_group_2</th>\n",
       "      <th>protein</th>\n",
       "      <th>significant_flag</th>\n",
       "      <th>species_type</th>\n",
       "      <th>time</th>\n",
       "      <th>time_points</th>\n",
       "      <th>treated_control_fold_change</th>\n",
       "    </tr>\n",
       "  </thead>\n",
       "  <tbody>\n",
       "    <tr>\n",
       "      <th>0</th>\n",
       "      <td>NaN</td>\n",
       "      <td>LF</td>\n",
       "      <td>ATXN2</td>\n",
       "      <td>NaN</td>\n",
       "      <td>0.0008</td>\n",
       "      <td>ATXN2_LF</td>\n",
       "      <td>True</td>\n",
       "      <td>protein</td>\n",
       "      <td>1</td>\n",
       "      <td>1</td>\n",
       "      <td>-1.56</td>\n",
       "    </tr>\n",
       "    <tr>\n",
       "      <th>1</th>\n",
       "      <td>NaN</td>\n",
       "      <td>LF</td>\n",
       "      <td>DAZAP1</td>\n",
       "      <td>NaN</td>\n",
       "      <td>0.0098</td>\n",
       "      <td>DAZAP1_LF</td>\n",
       "      <td>True</td>\n",
       "      <td>protein</td>\n",
       "      <td>1</td>\n",
       "      <td>1</td>\n",
       "      <td>-2.35</td>\n",
       "    </tr>\n",
       "    <tr>\n",
       "      <th>2</th>\n",
       "      <td>NaN</td>\n",
       "      <td>LF</td>\n",
       "      <td>HNRNPA1</td>\n",
       "      <td>NaN</td>\n",
       "      <td>0.0116</td>\n",
       "      <td>HNRNPA1_S(ph)_6_LF</td>\n",
       "      <td>True</td>\n",
       "      <td>protein</td>\n",
       "      <td>1</td>\n",
       "      <td>1</td>\n",
       "      <td>-1.98</td>\n",
       "    </tr>\n",
       "    <tr>\n",
       "      <th>3</th>\n",
       "      <td>NaN</td>\n",
       "      <td>LF</td>\n",
       "      <td>PRDX3</td>\n",
       "      <td>NaN</td>\n",
       "      <td>0.0120</td>\n",
       "      <td>PRDX3_LF</td>\n",
       "      <td>False</td>\n",
       "      <td>protein</td>\n",
       "      <td>1</td>\n",
       "      <td>1</td>\n",
       "      <td>-1.46</td>\n",
       "    </tr>\n",
       "    <tr>\n",
       "      <th>4</th>\n",
       "      <td>NaN</td>\n",
       "      <td>LF</td>\n",
       "      <td>HP1BP3</td>\n",
       "      <td>NaN</td>\n",
       "      <td>0.0180</td>\n",
       "      <td>HP1BP3_LF</td>\n",
       "      <td>True</td>\n",
       "      <td>protein</td>\n",
       "      <td>1</td>\n",
       "      <td>1</td>\n",
       "      <td>-1.60</td>\n",
       "    </tr>\n",
       "  </tbody>\n",
       "</table>\n",
       "</div>"
      ],
      "text/plain": [
       "  compound data_type     gene name  p_value_group_1_and_group_2  \\\n",
       "0      NaN        LF    ATXN2  NaN                       0.0008   \n",
       "1      NaN        LF   DAZAP1  NaN                       0.0098   \n",
       "2      NaN        LF  HNRNPA1  NaN                       0.0116   \n",
       "3      NaN        LF    PRDX3  NaN                       0.0120   \n",
       "4      NaN        LF   HP1BP3  NaN                       0.0180   \n",
       "\n",
       "              protein significant_flag species_type  time  time_points  \\\n",
       "0            ATXN2_LF             True      protein     1            1   \n",
       "1           DAZAP1_LF             True      protein     1            1   \n",
       "2  HNRNPA1_S(ph)_6_LF             True      protein     1            1   \n",
       "3            PRDX3_LF            False      protein     1            1   \n",
       "4           HP1BP3_LF             True      protein     1            1   \n",
       "\n",
       "   treated_control_fold_change  \n",
       "0                        -1.56  \n",
       "1                        -2.35  \n",
       "2                        -1.98  \n",
       "3                        -1.46  \n",
       "4                        -1.60  "
      ]
     },
     "execution_count": 2,
     "metadata": {},
     "output_type": "execute_result"
    }
   ],
   "source": [
    "data.head(5)"
   ]
  },
  {
   "cell_type": "markdown",
   "metadata": {},
   "source": [
    "Note that the first 5 data points are species_type=protein, thus NaN fill the missing columns for compound as expected."
   ]
  },
  {
   "cell_type": "code",
   "execution_count": null,
   "metadata": {
    "collapsed": false
   },
   "outputs": [],
   "source": [
    "from magine.data_handler import ExperimentalData\n",
    "exp_data = ExperimentalData(data)"
   ]
  },
  {
   "cell_type": "code",
   "execution_count": null,
   "metadata": {
    "collapsed": false
   },
   "outputs": [],
   "source": [
    "exp_data.n_sig_species"
   ]
  },
  {
   "cell_type": "code",
   "execution_count": null,
   "metadata": {
    "collapsed": true
   },
   "outputs": [],
   "source": [
    "from magine import Analyzer"
   ]
  },
  {
   "cell_type": "code",
   "execution_count": null,
   "metadata": {
    "collapsed": false
   },
   "outputs": [],
   "source": [
    "mag_analyzer = Analyzer(exp_data, output_directory='cisplatin_out', save_name='cisplatin', build_network=True)"
   ]
  },
  {
   "cell_type": "code",
   "execution_count": null,
   "metadata": {
    "collapsed": true
   },
   "outputs": [],
   "source": []
  }
 ],
 "metadata": {
  "anaconda-cloud": {},
  "kernelspec": {
   "display_name": "Python [default]",
   "language": "python",
   "name": "python2"
  },
  "language_info": {
   "codemirror_mode": {
    "name": "ipython",
    "version": 2
   },
   "file_extension": ".py",
   "mimetype": "text/x-python",
   "name": "python",
   "nbconvert_exporter": "python",
   "pygments_lexer": "ipython2",
   "version": "2.7.12"
  }
 },
 "nbformat": 4,
 "nbformat_minor": 0
}

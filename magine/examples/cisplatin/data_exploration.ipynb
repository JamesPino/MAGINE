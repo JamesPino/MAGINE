{
 "cells": [
  {
   "cell_type": "markdown",
   "metadata": {},
   "source": [
    "# ExperimentalData exploration"
   ]
  },
  {
   "cell_type": "code",
   "execution_count": 1,
   "metadata": {},
   "outputs": [],
   "source": [
    "from IPython.display import display\n",
    "%matplotlib inline\n",
    "import matplotlib.pyplot as plt"
   ]
  },
  {
   "cell_type": "code",
   "execution_count": 2,
   "metadata": {},
   "outputs": [],
   "source": [
    "import pandas as pd\n",
    "import seaborn as sns\n",
    "import numpy as np\n",
    "\n",
    "import magine.data.tools as dt\n",
    "\n",
    "from magine.plotting.wordcloud_tools import create_wordcloud\n",
    "from magine.plotting.venn_diagram_maker import create_venn2, create_venn3"
   ]
  },
  {
   "cell_type": "code",
   "execution_count": 3,
   "metadata": {},
   "outputs": [],
   "source": [
    "# load the experimental data\n",
    "from exp_data import exp_data"
   ]
  },
  {
   "cell_type": "markdown",
   "metadata": {},
   "source": [
    "## ExperimentalData class structure"
   ]
  },
  {
   "cell_type": "code",
   "execution_count": 4,
   "metadata": {},
   "outputs": [
    {
     "name": "stdout",
     "output_type": "stream",
     "text": [
      "Help on ExperimentalData in module magine.data.experimental_data object:\n",
      "\n",
      "class ExperimentalData(builtins.object)\n",
      " |  Manages all experimental data\n",
      " |  \n",
      " |  Methods defined here:\n",
      " |  \n",
      " |  __getitem__(self, name)\n",
      " |  \n",
      " |  __init__(self, data_file)\n",
      " |      Parameters\n",
      " |      ----------\n",
      " |      data_file : str, pandas.DataFrame\n",
      " |          Name of file, generally csv.\n",
      " |          If provided a str, the file will be read in as a pandas.DataFrame\n",
      " |  \n",
      " |  __setattr__(self, name, value)\n",
      " |      Implement setattr(self, name, value).\n",
      " |  \n",
      " |  create_table_of_data(self, sig=False, unique=False, save_name=None, plot=False, write_latex=False)\n",
      " |      Creates a summary table of data.\n",
      " |      \n",
      " |      \n",
      " |      Parameters\n",
      " |      ----------\n",
      " |      sig: bool\n",
      " |          Flag to summarize significant species only\n",
      " |      save_name: str\n",
      " |          Name to save csv and .tex file\n",
      " |      unique: bool\n",
      " |          If you want to only consider unique species\n",
      " |          ie count gene species rather than PTMs\n",
      " |      plot: bool\n",
      " |          If you want to create a plot of the table\n",
      " |      write_latex: bool\n",
      " |          Create latex file of table\n",
      " |      \n",
      " |      \n",
      " |      Returns\n",
      " |      -------\n",
      " |      pandas.DataFrame\n",
      " |  \n",
      " |  get_measured_by_datatype(self)\n",
      " |      Returns dict of species per data type\n",
      " |      \n",
      " |      Returns\n",
      " |      -------\n",
      " |      dict\n",
      " |  \n",
      " |  volcano_analysis(self, out_dir, use_sig_flag=True, p_value=0.1, fold_change_cutoff=1.5)\n",
      " |      Creates a volcano plot for each experimental method\n",
      " |      \n",
      " |      Parameters\n",
      " |      ----------\n",
      " |      out_dir: str, path\n",
      " |          Path to where the output figures will be saved\n",
      " |      use_sig_flag: bool\n",
      " |          Use significant flag of data\n",
      " |      p_value: float, optional\n",
      " |          p value criteria for significant\n",
      " |          Will not be used if use_sig_flag\n",
      " |      fold_change_cutoff: float, optional\n",
      " |          fold change criteria for significant\n",
      " |          Will not be used if use_sig_flag\n",
      " |      \n",
      " |      Returns\n",
      " |      -------\n",
      " |  \n",
      " |  ----------------------------------------------------------------------\n",
      " |  Data descriptors defined here:\n",
      " |  \n",
      " |  __dict__\n",
      " |      dictionary for instance variables (if defined)\n",
      " |  \n",
      " |  __weakref__\n",
      " |      list of weak references to the object (if defined)\n",
      " |  \n",
      " |  compounds\n",
      " |      Only compounds in data\n",
      " |      \n",
      " |      Returns\n",
      " |      -------\n",
      " |      Sample\n",
      " |  \n",
      " |  exp_methods\n",
      " |      List of source columns\n",
      " |  \n",
      " |  genes\n",
      " |      All data tagged with gene\n",
      " |      \n",
      " |      Includes protein and RNA.\n",
      " |      \n",
      " |      Returns\n",
      " |      -------\n",
      " |  \n",
      " |  proteins\n",
      " |      Protein level data\n",
      " |      \n",
      " |      Tagged with \"gene\" identifier that is not RNA\n",
      " |      \n",
      " |      Returns\n",
      " |      -------\n",
      " |  \n",
      " |  rna\n",
      " |      RNA level data\n",
      " |      \n",
      " |      Tagged with \"RNA\"\n",
      " |      \n",
      " |      Returns\n",
      " |      -------\n",
      " |  \n",
      " |  sample_ids\n",
      " |      List of sample_ids\n",
      " |  \n",
      " |  species\n",
      " |      Returns data in Sample format\n",
      " |      \n",
      " |      Returns\n",
      " |      -------\n",
      " |      Sample\n",
      "\n"
     ]
    }
   ],
   "source": [
    "help(exp_data)"
   ]
  },
  {
   "cell_type": "markdown",
   "metadata": {},
   "source": [
    "# Stats about data\n"
   ]
  },
  {
   "cell_type": "code",
   "execution_count": 5,
   "metadata": {},
   "outputs": [
    {
     "data": {
      "text/html": [
       "<div>\n",
       "<style scoped>\n",
       "    .dataframe tbody tr th:only-of-type {\n",
       "        vertical-align: middle;\n",
       "    }\n",
       "\n",
       "    .dataframe tbody tr th {\n",
       "        vertical-align: top;\n",
       "    }\n",
       "\n",
       "    .dataframe thead th {\n",
       "        text-align: right;\n",
       "    }\n",
       "</style>\n",
       "<table border=\"1\" class=\"dataframe\">\n",
       "  <thead>\n",
       "    <tr style=\"text-align: right;\">\n",
       "      <th>sample_id</th>\n",
       "      <th>01hr</th>\n",
       "      <th>06hr</th>\n",
       "      <th>24hr</th>\n",
       "      <th>48hr</th>\n",
       "      <th>Total Unique Across</th>\n",
       "    </tr>\n",
       "    <tr>\n",
       "      <th>source</th>\n",
       "      <th></th>\n",
       "      <th></th>\n",
       "      <th></th>\n",
       "      <th></th>\n",
       "      <th></th>\n",
       "    </tr>\n",
       "  </thead>\n",
       "  <tbody>\n",
       "    <tr>\n",
       "      <th>C18</th>\n",
       "      <td>528</td>\n",
       "      <td>227</td>\n",
       "      <td>657</td>\n",
       "      <td>689</td>\n",
       "      <td>1412</td>\n",
       "    </tr>\n",
       "    <tr>\n",
       "      <th>HILIC</th>\n",
       "      <td>479</td>\n",
       "      <td>611</td>\n",
       "      <td>941</td>\n",
       "      <td>621</td>\n",
       "      <td>1521</td>\n",
       "    </tr>\n",
       "    <tr>\n",
       "      <th>label_free</th>\n",
       "      <td>3135</td>\n",
       "      <td>3091</td>\n",
       "      <td>2735</td>\n",
       "      <td>2504</td>\n",
       "      <td>4036</td>\n",
       "    </tr>\n",
       "    <tr>\n",
       "      <th>ph_silac</th>\n",
       "      <td>6903</td>\n",
       "      <td>10956</td>\n",
       "      <td>12176</td>\n",
       "      <td>11183</td>\n",
       "      <td>21924</td>\n",
       "    </tr>\n",
       "    <tr>\n",
       "      <th>rna_seq</th>\n",
       "      <td>18741</td>\n",
       "      <td>19104</td>\n",
       "      <td>19992</td>\n",
       "      <td>-</td>\n",
       "      <td>20642</td>\n",
       "    </tr>\n",
       "    <tr>\n",
       "      <th>silac</th>\n",
       "      <td>2923</td>\n",
       "      <td>3357</td>\n",
       "      <td>3072</td>\n",
       "      <td>3265</td>\n",
       "      <td>4086</td>\n",
       "    </tr>\n",
       "  </tbody>\n",
       "</table>\n",
       "</div>"
      ],
      "text/plain": [
       "sample_id    01hr   06hr   24hr   48hr  Total Unique Across\n",
       "source                                                     \n",
       "C18           528    227    657    689                 1412\n",
       "HILIC         479    611    941    621                 1521\n",
       "label_free   3135   3091   2735   2504                 4036\n",
       "ph_silac     6903  10956  12176  11183                21924\n",
       "rna_seq     18741  19104  19992      -                20642\n",
       "silac        2923   3357   3072   3265                 4086"
      ]
     },
     "metadata": {},
     "output_type": "display_data"
    },
    {
     "data": {
      "text/html": [
       "<div>\n",
       "<style scoped>\n",
       "    .dataframe tbody tr th:only-of-type {\n",
       "        vertical-align: middle;\n",
       "    }\n",
       "\n",
       "    .dataframe tbody tr th {\n",
       "        vertical-align: top;\n",
       "    }\n",
       "\n",
       "    .dataframe thead th {\n",
       "        text-align: right;\n",
       "    }\n",
       "</style>\n",
       "<table border=\"1\" class=\"dataframe\">\n",
       "  <thead>\n",
       "    <tr style=\"text-align: right;\">\n",
       "      <th>sample_id</th>\n",
       "      <th>01hr</th>\n",
       "      <th>06hr</th>\n",
       "      <th>24hr</th>\n",
       "      <th>48hr</th>\n",
       "      <th>Total Unique Across</th>\n",
       "    </tr>\n",
       "    <tr>\n",
       "      <th>source</th>\n",
       "      <th></th>\n",
       "      <th></th>\n",
       "      <th></th>\n",
       "      <th></th>\n",
       "      <th></th>\n",
       "    </tr>\n",
       "  </thead>\n",
       "  <tbody>\n",
       "    <tr>\n",
       "      <th>C18</th>\n",
       "      <td>528</td>\n",
       "      <td>227</td>\n",
       "      <td>657</td>\n",
       "      <td>689</td>\n",
       "      <td>1412</td>\n",
       "    </tr>\n",
       "    <tr>\n",
       "      <th>HILIC</th>\n",
       "      <td>479</td>\n",
       "      <td>611</td>\n",
       "      <td>941</td>\n",
       "      <td>621</td>\n",
       "      <td>1521</td>\n",
       "    </tr>\n",
       "    <tr>\n",
       "      <th>label_free</th>\n",
       "      <td>201</td>\n",
       "      <td>46</td>\n",
       "      <td>281</td>\n",
       "      <td>911</td>\n",
       "      <td>1149</td>\n",
       "    </tr>\n",
       "    <tr>\n",
       "      <th>ph_silac</th>\n",
       "      <td>594</td>\n",
       "      <td>1370</td>\n",
       "      <td>2414</td>\n",
       "      <td>1368</td>\n",
       "      <td>4757</td>\n",
       "    </tr>\n",
       "    <tr>\n",
       "      <th>rna_seq</th>\n",
       "      <td>73</td>\n",
       "      <td>1999</td>\n",
       "      <td>12215</td>\n",
       "      <td>-</td>\n",
       "      <td>12340</td>\n",
       "    </tr>\n",
       "    <tr>\n",
       "      <th>silac</th>\n",
       "      <td>38</td>\n",
       "      <td>52</td>\n",
       "      <td>228</td>\n",
       "      <td>266</td>\n",
       "      <td>485</td>\n",
       "    </tr>\n",
       "  </tbody>\n",
       "</table>\n",
       "</div>"
      ],
      "text/plain": [
       "sample_id   01hr  06hr   24hr  48hr  Total Unique Across\n",
       "source                                                  \n",
       "C18          528   227    657   689                 1412\n",
       "HILIC        479   611    941   621                 1521\n",
       "label_free   201    46    281   911                 1149\n",
       "ph_silac     594  1370   2414  1368                 4757\n",
       "rna_seq       73  1999  12215     -                12340\n",
       "silac         38    52    228   266                  485"
      ]
     },
     "metadata": {},
     "output_type": "display_data"
    },
    {
     "data": {
      "text/html": [
       "<div>\n",
       "<style scoped>\n",
       "    .dataframe tbody tr th:only-of-type {\n",
       "        vertical-align: middle;\n",
       "    }\n",
       "\n",
       "    .dataframe tbody tr th {\n",
       "        vertical-align: top;\n",
       "    }\n",
       "\n",
       "    .dataframe thead th {\n",
       "        text-align: right;\n",
       "    }\n",
       "</style>\n",
       "<table border=\"1\" class=\"dataframe\">\n",
       "  <thead>\n",
       "    <tr style=\"text-align: right;\">\n",
       "      <th>sample_id</th>\n",
       "      <th>01hr</th>\n",
       "      <th>06hr</th>\n",
       "      <th>24hr</th>\n",
       "      <th>48hr</th>\n",
       "      <th>Total Unique Across</th>\n",
       "    </tr>\n",
       "    <tr>\n",
       "      <th>source</th>\n",
       "      <th></th>\n",
       "      <th></th>\n",
       "      <th></th>\n",
       "      <th></th>\n",
       "      <th></th>\n",
       "    </tr>\n",
       "  </thead>\n",
       "  <tbody>\n",
       "    <tr>\n",
       "      <th>C18</th>\n",
       "      <td>522</td>\n",
       "      <td>227</td>\n",
       "      <td>653</td>\n",
       "      <td>685</td>\n",
       "      <td>1402</td>\n",
       "    </tr>\n",
       "    <tr>\n",
       "      <th>HILIC</th>\n",
       "      <td>471</td>\n",
       "      <td>605</td>\n",
       "      <td>930</td>\n",
       "      <td>613</td>\n",
       "      <td>1504</td>\n",
       "    </tr>\n",
       "    <tr>\n",
       "      <th>label_free</th>\n",
       "      <td>196</td>\n",
       "      <td>46</td>\n",
       "      <td>271</td>\n",
       "      <td>874</td>\n",
       "      <td>1085</td>\n",
       "    </tr>\n",
       "    <tr>\n",
       "      <th>ph_silac</th>\n",
       "      <td>514</td>\n",
       "      <td>888</td>\n",
       "      <td>1227</td>\n",
       "      <td>851</td>\n",
       "      <td>2278</td>\n",
       "    </tr>\n",
       "    <tr>\n",
       "      <th>rna_seq</th>\n",
       "      <td>73</td>\n",
       "      <td>1999</td>\n",
       "      <td>12215</td>\n",
       "      <td>-</td>\n",
       "      <td>12340</td>\n",
       "    </tr>\n",
       "    <tr>\n",
       "      <th>silac</th>\n",
       "      <td>38</td>\n",
       "      <td>52</td>\n",
       "      <td>228</td>\n",
       "      <td>266</td>\n",
       "      <td>485</td>\n",
       "    </tr>\n",
       "  </tbody>\n",
       "</table>\n",
       "</div>"
      ],
      "text/plain": [
       "sample_id   01hr  06hr   24hr 48hr  Total Unique Across\n",
       "source                                                 \n",
       "C18          522   227    653  685                 1402\n",
       "HILIC        471   605    930  613                 1504\n",
       "label_free   196    46    271  874                 1085\n",
       "ph_silac     514   888   1227  851                 2278\n",
       "rna_seq       73  1999  12215    -                12340\n",
       "silac         38    52    228  266                  485"
      ]
     },
     "metadata": {},
     "output_type": "display_data"
    }
   ],
   "source": [
    "display(exp_data.create_table_of_data())\n",
    "display(exp_data.create_table_of_data(sig=True))\n",
    "display(exp_data.create_table_of_data(sig=True, unique=True))"
   ]
  },
  {
   "cell_type": "markdown",
   "metadata": {},
   "source": [
    "### Extracting by sample (time point) or by category (experimental method)"
   ]
  },
  {
   "cell_type": "markdown",
   "metadata": {},
   "source": [
    "The '.species' index aggregates all data. We can subdivide into '.compounds', '.genes' (includes 'species_type'=='gene'), '.rna' (includes 'species_type'=='gene', 'source' == 'rna'), or '.protein' ('species_type'=='gene', 'source' != 'rna'). \n",
    "\n",
    "We can also filter based on the 'source' column\n"
   ]
  },
  {
   "cell_type": "code",
   "execution_count": 6,
   "metadata": {},
   "outputs": [
    {
     "data": {
      "text/html": [
       "<div>\n",
       "<style scoped>\n",
       "    .dataframe tbody tr th:only-of-type {\n",
       "        vertical-align: middle;\n",
       "    }\n",
       "\n",
       "    .dataframe tbody tr th {\n",
       "        vertical-align: top;\n",
       "    }\n",
       "\n",
       "    .dataframe thead th {\n",
       "        text-align: right;\n",
       "    }\n",
       "</style>\n",
       "<table border=\"1\" class=\"dataframe\">\n",
       "  <thead>\n",
       "    <tr style=\"text-align: right;\">\n",
       "      <th></th>\n",
       "      <th>identifier</th>\n",
       "      <th>label</th>\n",
       "      <th>species_type</th>\n",
       "      <th>fold_change</th>\n",
       "      <th>p_value</th>\n",
       "      <th>significant</th>\n",
       "      <th>sample_id</th>\n",
       "      <th>source</th>\n",
       "    </tr>\n",
       "  </thead>\n",
       "  <tbody>\n",
       "    <tr>\n",
       "      <th>0</th>\n",
       "      <td>HOXD1</td>\n",
       "      <td>HOXD1_rnaseq</td>\n",
       "      <td>protein</td>\n",
       "      <td>-520.256762</td>\n",
       "      <td>0.001020</td>\n",
       "      <td>True</td>\n",
       "      <td>06hr</td>\n",
       "      <td>rna_seq</td>\n",
       "    </tr>\n",
       "    <tr>\n",
       "      <th>1</th>\n",
       "      <td>MIR7704</td>\n",
       "      <td>MIR7704_rnaseq</td>\n",
       "      <td>protein</td>\n",
       "      <td>-520.256762</td>\n",
       "      <td>0.001020</td>\n",
       "      <td>True</td>\n",
       "      <td>06hr</td>\n",
       "      <td>rna_seq</td>\n",
       "    </tr>\n",
       "    <tr>\n",
       "      <th>2</th>\n",
       "      <td>AC078814.1</td>\n",
       "      <td>AC078814.1_rnaseq</td>\n",
       "      <td>protein</td>\n",
       "      <td>-76.022260</td>\n",
       "      <td>0.001020</td>\n",
       "      <td>True</td>\n",
       "      <td>06hr</td>\n",
       "      <td>rna_seq</td>\n",
       "    </tr>\n",
       "    <tr>\n",
       "      <th>3</th>\n",
       "      <td>PPM1H</td>\n",
       "      <td>PPM1H_rnaseq</td>\n",
       "      <td>protein</td>\n",
       "      <td>-76.022260</td>\n",
       "      <td>0.001020</td>\n",
       "      <td>True</td>\n",
       "      <td>06hr</td>\n",
       "      <td>rna_seq</td>\n",
       "    </tr>\n",
       "    <tr>\n",
       "      <th>4</th>\n",
       "      <td>PLCH1</td>\n",
       "      <td>PLCH1_rnaseq</td>\n",
       "      <td>protein</td>\n",
       "      <td>-17.888990</td>\n",
       "      <td>0.001020</td>\n",
       "      <td>True</td>\n",
       "      <td>06hr</td>\n",
       "      <td>rna_seq</td>\n",
       "    </tr>\n",
       "    <tr>\n",
       "      <th>5</th>\n",
       "      <td>RP11-639F1.1</td>\n",
       "      <td>RP11-639F1.1_rnaseq</td>\n",
       "      <td>protein</td>\n",
       "      <td>-17.888990</td>\n",
       "      <td>0.001020</td>\n",
       "      <td>True</td>\n",
       "      <td>06hr</td>\n",
       "      <td>rna_seq</td>\n",
       "    </tr>\n",
       "    <tr>\n",
       "      <th>6</th>\n",
       "      <td>TP63</td>\n",
       "      <td>TP63_rnaseq</td>\n",
       "      <td>protein</td>\n",
       "      <td>-12.355659</td>\n",
       "      <td>0.001020</td>\n",
       "      <td>True</td>\n",
       "      <td>06hr</td>\n",
       "      <td>rna_seq</td>\n",
       "    </tr>\n",
       "    <tr>\n",
       "      <th>7</th>\n",
       "      <td>JARID2</td>\n",
       "      <td>JARID2_rnaseq</td>\n",
       "      <td>protein</td>\n",
       "      <td>-7.891502</td>\n",
       "      <td>0.001020</td>\n",
       "      <td>True</td>\n",
       "      <td>06hr</td>\n",
       "      <td>rna_seq</td>\n",
       "    </tr>\n",
       "    <tr>\n",
       "      <th>8</th>\n",
       "      <td>GLI2</td>\n",
       "      <td>GLI2_rnaseq</td>\n",
       "      <td>protein</td>\n",
       "      <td>-5.389009</td>\n",
       "      <td>0.001020</td>\n",
       "      <td>True</td>\n",
       "      <td>06hr</td>\n",
       "      <td>rna_seq</td>\n",
       "    </tr>\n",
       "    <tr>\n",
       "      <th>9</th>\n",
       "      <td>MAP3K5</td>\n",
       "      <td>MAP3K5_rnaseq</td>\n",
       "      <td>protein</td>\n",
       "      <td>-4.262353</td>\n",
       "      <td>0.001893</td>\n",
       "      <td>True</td>\n",
       "      <td>06hr</td>\n",
       "      <td>rna_seq</td>\n",
       "    </tr>\n",
       "  </tbody>\n",
       "</table>\n",
       "</div>"
      ],
      "text/plain": [
       "     identifier                label species_type  fold_change   p_value  \\\n",
       "0         HOXD1         HOXD1_rnaseq      protein  -520.256762  0.001020   \n",
       "1       MIR7704       MIR7704_rnaseq      protein  -520.256762  0.001020   \n",
       "2    AC078814.1    AC078814.1_rnaseq      protein   -76.022260  0.001020   \n",
       "3         PPM1H         PPM1H_rnaseq      protein   -76.022260  0.001020   \n",
       "4         PLCH1         PLCH1_rnaseq      protein   -17.888990  0.001020   \n",
       "5  RP11-639F1.1  RP11-639F1.1_rnaseq      protein   -17.888990  0.001020   \n",
       "6          TP63          TP63_rnaseq      protein   -12.355659  0.001020   \n",
       "7        JARID2        JARID2_rnaseq      protein    -7.891502  0.001020   \n",
       "8          GLI2          GLI2_rnaseq      protein    -5.389009  0.001020   \n",
       "9        MAP3K5        MAP3K5_rnaseq      protein    -4.262353  0.001893   \n",
       "\n",
       "   significant sample_id   source  \n",
       "0         True      06hr  rna_seq  \n",
       "1         True      06hr  rna_seq  \n",
       "2         True      06hr  rna_seq  \n",
       "3         True      06hr  rna_seq  \n",
       "4         True      06hr  rna_seq  \n",
       "5         True      06hr  rna_seq  \n",
       "6         True      06hr  rna_seq  \n",
       "7         True      06hr  rna_seq  \n",
       "8         True      06hr  rna_seq  \n",
       "9         True      06hr  rna_seq  "
      ]
     },
     "execution_count": 6,
     "metadata": {},
     "output_type": "execute_result"
    }
   ],
   "source": [
    "exp_data.species.head(10)"
   ]
  },
  {
   "cell_type": "code",
   "execution_count": 7,
   "metadata": {},
   "outputs": [
    {
     "data": {
      "text/html": [
       "<div>\n",
       "<style scoped>\n",
       "    .dataframe tbody tr th:only-of-type {\n",
       "        vertical-align: middle;\n",
       "    }\n",
       "\n",
       "    .dataframe tbody tr th {\n",
       "        vertical-align: top;\n",
       "    }\n",
       "\n",
       "    .dataframe thead th {\n",
       "        text-align: right;\n",
       "    }\n",
       "</style>\n",
       "<table border=\"1\" class=\"dataframe\">\n",
       "  <thead>\n",
       "    <tr style=\"text-align: right;\">\n",
       "      <th></th>\n",
       "      <th>identifier</th>\n",
       "      <th>label</th>\n",
       "      <th>species_type</th>\n",
       "      <th>fold_change</th>\n",
       "      <th>p_value</th>\n",
       "      <th>significant</th>\n",
       "      <th>sample_id</th>\n",
       "      <th>source</th>\n",
       "    </tr>\n",
       "  </thead>\n",
       "  <tbody>\n",
       "    <tr>\n",
       "      <th>0</th>\n",
       "      <td>HOXD1</td>\n",
       "      <td>HOXD1_rnaseq</td>\n",
       "      <td>protein</td>\n",
       "      <td>-520.256762</td>\n",
       "      <td>0.001020</td>\n",
       "      <td>True</td>\n",
       "      <td>06hr</td>\n",
       "      <td>rna_seq</td>\n",
       "    </tr>\n",
       "    <tr>\n",
       "      <th>1</th>\n",
       "      <td>MIR7704</td>\n",
       "      <td>MIR7704_rnaseq</td>\n",
       "      <td>protein</td>\n",
       "      <td>-520.256762</td>\n",
       "      <td>0.001020</td>\n",
       "      <td>True</td>\n",
       "      <td>06hr</td>\n",
       "      <td>rna_seq</td>\n",
       "    </tr>\n",
       "    <tr>\n",
       "      <th>2</th>\n",
       "      <td>AC078814.1</td>\n",
       "      <td>AC078814.1_rnaseq</td>\n",
       "      <td>protein</td>\n",
       "      <td>-76.022260</td>\n",
       "      <td>0.001020</td>\n",
       "      <td>True</td>\n",
       "      <td>06hr</td>\n",
       "      <td>rna_seq</td>\n",
       "    </tr>\n",
       "    <tr>\n",
       "      <th>3</th>\n",
       "      <td>PPM1H</td>\n",
       "      <td>PPM1H_rnaseq</td>\n",
       "      <td>protein</td>\n",
       "      <td>-76.022260</td>\n",
       "      <td>0.001020</td>\n",
       "      <td>True</td>\n",
       "      <td>06hr</td>\n",
       "      <td>rna_seq</td>\n",
       "    </tr>\n",
       "    <tr>\n",
       "      <th>4</th>\n",
       "      <td>PLCH1</td>\n",
       "      <td>PLCH1_rnaseq</td>\n",
       "      <td>protein</td>\n",
       "      <td>-17.888990</td>\n",
       "      <td>0.001020</td>\n",
       "      <td>True</td>\n",
       "      <td>06hr</td>\n",
       "      <td>rna_seq</td>\n",
       "    </tr>\n",
       "    <tr>\n",
       "      <th>5</th>\n",
       "      <td>RP11-639F1.1</td>\n",
       "      <td>RP11-639F1.1_rnaseq</td>\n",
       "      <td>protein</td>\n",
       "      <td>-17.888990</td>\n",
       "      <td>0.001020</td>\n",
       "      <td>True</td>\n",
       "      <td>06hr</td>\n",
       "      <td>rna_seq</td>\n",
       "    </tr>\n",
       "    <tr>\n",
       "      <th>6</th>\n",
       "      <td>TP63</td>\n",
       "      <td>TP63_rnaseq</td>\n",
       "      <td>protein</td>\n",
       "      <td>-12.355659</td>\n",
       "      <td>0.001020</td>\n",
       "      <td>True</td>\n",
       "      <td>06hr</td>\n",
       "      <td>rna_seq</td>\n",
       "    </tr>\n",
       "    <tr>\n",
       "      <th>7</th>\n",
       "      <td>JARID2</td>\n",
       "      <td>JARID2_rnaseq</td>\n",
       "      <td>protein</td>\n",
       "      <td>-7.891502</td>\n",
       "      <td>0.001020</td>\n",
       "      <td>True</td>\n",
       "      <td>06hr</td>\n",
       "      <td>rna_seq</td>\n",
       "    </tr>\n",
       "    <tr>\n",
       "      <th>8</th>\n",
       "      <td>GLI2</td>\n",
       "      <td>GLI2_rnaseq</td>\n",
       "      <td>protein</td>\n",
       "      <td>-5.389009</td>\n",
       "      <td>0.001020</td>\n",
       "      <td>True</td>\n",
       "      <td>06hr</td>\n",
       "      <td>rna_seq</td>\n",
       "    </tr>\n",
       "    <tr>\n",
       "      <th>9</th>\n",
       "      <td>MAP3K5</td>\n",
       "      <td>MAP3K5_rnaseq</td>\n",
       "      <td>protein</td>\n",
       "      <td>-4.262353</td>\n",
       "      <td>0.001893</td>\n",
       "      <td>True</td>\n",
       "      <td>06hr</td>\n",
       "      <td>rna_seq</td>\n",
       "    </tr>\n",
       "  </tbody>\n",
       "</table>\n",
       "</div>"
      ],
      "text/plain": [
       "     identifier                label species_type  fold_change   p_value  \\\n",
       "0         HOXD1         HOXD1_rnaseq      protein  -520.256762  0.001020   \n",
       "1       MIR7704       MIR7704_rnaseq      protein  -520.256762  0.001020   \n",
       "2    AC078814.1    AC078814.1_rnaseq      protein   -76.022260  0.001020   \n",
       "3         PPM1H         PPM1H_rnaseq      protein   -76.022260  0.001020   \n",
       "4         PLCH1         PLCH1_rnaseq      protein   -17.888990  0.001020   \n",
       "5  RP11-639F1.1  RP11-639F1.1_rnaseq      protein   -17.888990  0.001020   \n",
       "6          TP63          TP63_rnaseq      protein   -12.355659  0.001020   \n",
       "7        JARID2        JARID2_rnaseq      protein    -7.891502  0.001020   \n",
       "8          GLI2          GLI2_rnaseq      protein    -5.389009  0.001020   \n",
       "9        MAP3K5        MAP3K5_rnaseq      protein    -4.262353  0.001893   \n",
       "\n",
       "   significant sample_id   source  \n",
       "0         True      06hr  rna_seq  \n",
       "1         True      06hr  rna_seq  \n",
       "2         True      06hr  rna_seq  \n",
       "3         True      06hr  rna_seq  \n",
       "4         True      06hr  rna_seq  \n",
       "5         True      06hr  rna_seq  \n",
       "6         True      06hr  rna_seq  \n",
       "7         True      06hr  rna_seq  \n",
       "8         True      06hr  rna_seq  \n",
       "9         True      06hr  rna_seq  "
      ]
     },
     "execution_count": 7,
     "metadata": {},
     "output_type": "execute_result"
    }
   ],
   "source": [
    "exp_data.genes.head(10)"
   ]
  },
  {
   "cell_type": "markdown",
   "metadata": {},
   "source": [
    "We can also filter the data by 'source' using the '.name', where name is anything in the 'source' column. We can get a list of these by printing exp_data.exp_methods \n"
   ]
  },
  {
   "cell_type": "code",
   "execution_count": 8,
   "metadata": {},
   "outputs": [
    {
     "data": {
      "text/plain": [
       "['rna_seq', 'ph_silac', 'label_free', 'silac', 'C18', 'HILIC']"
      ]
     },
     "execution_count": 8,
     "metadata": {},
     "output_type": "execute_result"
    }
   ],
   "source": [
    "# prints all the available exp_methods\n",
    "exp_data.exp_methods"
   ]
  },
  {
   "cell_type": "code",
   "execution_count": 9,
   "metadata": {},
   "outputs": [
    {
     "data": {
      "text/plain": [
       "(13085, 8)"
      ]
     },
     "execution_count": 9,
     "metadata": {},
     "output_type": "execute_result"
    }
   ],
   "source": [
    "# filters to only the 'label_free' \n",
    "exp_data.label_free.shape"
   ]
  },
  {
   "cell_type": "code",
   "execution_count": 10,
   "metadata": {},
   "outputs": [
    {
     "data": {
      "text/html": [
       "<div>\n",
       "<style scoped>\n",
       "    .dataframe tbody tr th:only-of-type {\n",
       "        vertical-align: middle;\n",
       "    }\n",
       "\n",
       "    .dataframe tbody tr th {\n",
       "        vertical-align: top;\n",
       "    }\n",
       "\n",
       "    .dataframe thead th {\n",
       "        text-align: right;\n",
       "    }\n",
       "</style>\n",
       "<table border=\"1\" class=\"dataframe\">\n",
       "  <thead>\n",
       "    <tr style=\"text-align: right;\">\n",
       "      <th></th>\n",
       "      <th>identifier</th>\n",
       "      <th>label</th>\n",
       "      <th>species_type</th>\n",
       "      <th>fold_change</th>\n",
       "      <th>p_value</th>\n",
       "      <th>significant</th>\n",
       "      <th>sample_id</th>\n",
       "      <th>source</th>\n",
       "    </tr>\n",
       "  </thead>\n",
       "  <tbody>\n",
       "    <tr>\n",
       "      <th>102446</th>\n",
       "      <td>LIMS1</td>\n",
       "      <td>LIMS1_lf</td>\n",
       "      <td>protein</td>\n",
       "      <td>12.42</td>\n",
       "      <td>0.00003</td>\n",
       "      <td>True</td>\n",
       "      <td>01hr</td>\n",
       "      <td>label_free</td>\n",
       "    </tr>\n",
       "    <tr>\n",
       "      <th>102447</th>\n",
       "      <td>SMARCE1</td>\n",
       "      <td>SMARCE1_lf</td>\n",
       "      <td>protein</td>\n",
       "      <td>-2.49</td>\n",
       "      <td>0.00030</td>\n",
       "      <td>True</td>\n",
       "      <td>01hr</td>\n",
       "      <td>label_free</td>\n",
       "    </tr>\n",
       "    <tr>\n",
       "      <th>102448</th>\n",
       "      <td>HEXA</td>\n",
       "      <td>HEXA_lf</td>\n",
       "      <td>protein</td>\n",
       "      <td>6.42</td>\n",
       "      <td>0.00060</td>\n",
       "      <td>True</td>\n",
       "      <td>01hr</td>\n",
       "      <td>label_free</td>\n",
       "    </tr>\n",
       "    <tr>\n",
       "      <th>102449</th>\n",
       "      <td>SRSF1</td>\n",
       "      <td>SRSF1_lf</td>\n",
       "      <td>protein</td>\n",
       "      <td>-3.21</td>\n",
       "      <td>0.00060</td>\n",
       "      <td>True</td>\n",
       "      <td>01hr</td>\n",
       "      <td>label_free</td>\n",
       "    </tr>\n",
       "    <tr>\n",
       "      <th>102450</th>\n",
       "      <td>SF3B1</td>\n",
       "      <td>SF3B1_lf</td>\n",
       "      <td>protein</td>\n",
       "      <td>-1.57</td>\n",
       "      <td>0.00130</td>\n",
       "      <td>True</td>\n",
       "      <td>01hr</td>\n",
       "      <td>label_free</td>\n",
       "    </tr>\n",
       "    <tr>\n",
       "      <th>102451</th>\n",
       "      <td>USP15</td>\n",
       "      <td>USP15_N-term A(ace)2_lf</td>\n",
       "      <td>protein</td>\n",
       "      <td>18.78</td>\n",
       "      <td>0.00270</td>\n",
       "      <td>True</td>\n",
       "      <td>01hr</td>\n",
       "      <td>label_free</td>\n",
       "    </tr>\n",
       "    <tr>\n",
       "      <th>102452</th>\n",
       "      <td>CKAP4</td>\n",
       "      <td>CKAP4_lf</td>\n",
       "      <td>protein</td>\n",
       "      <td>-3.26</td>\n",
       "      <td>0.00300</td>\n",
       "      <td>True</td>\n",
       "      <td>01hr</td>\n",
       "      <td>label_free</td>\n",
       "    </tr>\n",
       "    <tr>\n",
       "      <th>102453</th>\n",
       "      <td>DDX17</td>\n",
       "      <td>DDX17_lf</td>\n",
       "      <td>protein</td>\n",
       "      <td>-3.08</td>\n",
       "      <td>0.00340</td>\n",
       "      <td>True</td>\n",
       "      <td>01hr</td>\n",
       "      <td>label_free</td>\n",
       "    </tr>\n",
       "    <tr>\n",
       "      <th>102454</th>\n",
       "      <td>SRSF3</td>\n",
       "      <td>SRSF3_lf</td>\n",
       "      <td>protein</td>\n",
       "      <td>-4.66</td>\n",
       "      <td>0.00360</td>\n",
       "      <td>True</td>\n",
       "      <td>01hr</td>\n",
       "      <td>label_free</td>\n",
       "    </tr>\n",
       "    <tr>\n",
       "      <th>102455</th>\n",
       "      <td>PABPC4</td>\n",
       "      <td>PABPC4_lf</td>\n",
       "      <td>protein</td>\n",
       "      <td>-5.34</td>\n",
       "      <td>0.00380</td>\n",
       "      <td>True</td>\n",
       "      <td>01hr</td>\n",
       "      <td>label_free</td>\n",
       "    </tr>\n",
       "  </tbody>\n",
       "</table>\n",
       "</div>"
      ],
      "text/plain": [
       "       identifier                    label species_type  fold_change  p_value  \\\n",
       "102446      LIMS1                 LIMS1_lf      protein        12.42  0.00003   \n",
       "102447    SMARCE1               SMARCE1_lf      protein        -2.49  0.00030   \n",
       "102448       HEXA                  HEXA_lf      protein         6.42  0.00060   \n",
       "102449      SRSF1                 SRSF1_lf      protein        -3.21  0.00060   \n",
       "102450      SF3B1                 SF3B1_lf      protein        -1.57  0.00130   \n",
       "102451      USP15  USP15_N-term A(ace)2_lf      protein        18.78  0.00270   \n",
       "102452      CKAP4                 CKAP4_lf      protein        -3.26  0.00300   \n",
       "102453      DDX17                 DDX17_lf      protein        -3.08  0.00340   \n",
       "102454      SRSF3                 SRSF3_lf      protein        -4.66  0.00360   \n",
       "102455     PABPC4                PABPC4_lf      protein        -5.34  0.00380   \n",
       "\n",
       "        significant sample_id      source  \n",
       "102446         True      01hr  label_free  \n",
       "102447         True      01hr  label_free  \n",
       "102448         True      01hr  label_free  \n",
       "102449         True      01hr  label_free  \n",
       "102450         True      01hr  label_free  \n",
       "102451         True      01hr  label_free  \n",
       "102452         True      01hr  label_free  \n",
       "102453         True      01hr  label_free  \n",
       "102454         True      01hr  label_free  \n",
       "102455         True      01hr  label_free  "
      ]
     },
     "execution_count": 10,
     "metadata": {},
     "output_type": "execute_result"
    }
   ],
   "source": [
    "exp_data.label_free.head(10)"
   ]
  },
  {
   "cell_type": "code",
   "execution_count": 11,
   "metadata": {},
   "outputs": [
    {
     "data": {
      "text/plain": [
       "(4780, 8)"
      ]
     },
     "execution_count": 11,
     "metadata": {},
     "output_type": "execute_result"
    }
   ],
   "source": [
    "exp_data.compounds.shape"
   ]
  },
  {
   "cell_type": "code",
   "execution_count": 12,
   "metadata": {},
   "outputs": [
    {
     "data": {
      "text/plain": [
       "(70127, 8)"
      ]
     },
     "execution_count": 12,
     "metadata": {},
     "output_type": "execute_result"
    }
   ],
   "source": [
    "exp_data.proteins.shape"
   ]
  },
  {
   "cell_type": "code",
   "execution_count": 13,
   "metadata": {},
   "outputs": [
    {
     "data": {
      "text/plain": [
       "(128152, 8)"
      ]
     },
     "execution_count": 13,
     "metadata": {},
     "output_type": "execute_result"
    }
   ],
   "source": [
    "exp_data.genes.shape"
   ]
  },
  {
   "cell_type": "code",
   "execution_count": 14,
   "metadata": {},
   "outputs": [
    {
     "data": {
      "text/plain": [
       "(58025, 8)"
      ]
     },
     "execution_count": 14,
     "metadata": {},
     "output_type": "execute_result"
    }
   ],
   "source": [
    "exp_data.rna.shape"
   ]
  },
  {
   "cell_type": "markdown",
   "metadata": {},
   "source": [
    "We can use the 'significant_flag' column to filter that data to only contain those species."
   ]
  },
  {
   "cell_type": "code",
   "execution_count": 15,
   "metadata": {},
   "outputs": [
    {
     "data": {
      "text/html": [
       "<div>\n",
       "<style scoped>\n",
       "    .dataframe tbody tr th:only-of-type {\n",
       "        vertical-align: middle;\n",
       "    }\n",
       "\n",
       "    .dataframe tbody tr th {\n",
       "        vertical-align: top;\n",
       "    }\n",
       "\n",
       "    .dataframe thead th {\n",
       "        text-align: right;\n",
       "    }\n",
       "</style>\n",
       "<table border=\"1\" class=\"dataframe\">\n",
       "  <thead>\n",
       "    <tr style=\"text-align: right;\">\n",
       "      <th></th>\n",
       "      <th>identifier</th>\n",
       "      <th>label</th>\n",
       "      <th>species_type</th>\n",
       "      <th>fold_change</th>\n",
       "      <th>p_value</th>\n",
       "      <th>significant</th>\n",
       "      <th>sample_id</th>\n",
       "      <th>source</th>\n",
       "    </tr>\n",
       "  </thead>\n",
       "  <tbody>\n",
       "    <tr>\n",
       "      <th>0</th>\n",
       "      <td>HOXD1</td>\n",
       "      <td>HOXD1_rnaseq</td>\n",
       "      <td>protein</td>\n",
       "      <td>-520.256762</td>\n",
       "      <td>0.001020</td>\n",
       "      <td>True</td>\n",
       "      <td>06hr</td>\n",
       "      <td>rna_seq</td>\n",
       "    </tr>\n",
       "    <tr>\n",
       "      <th>1</th>\n",
       "      <td>MIR7704</td>\n",
       "      <td>MIR7704_rnaseq</td>\n",
       "      <td>protein</td>\n",
       "      <td>-520.256762</td>\n",
       "      <td>0.001020</td>\n",
       "      <td>True</td>\n",
       "      <td>06hr</td>\n",
       "      <td>rna_seq</td>\n",
       "    </tr>\n",
       "    <tr>\n",
       "      <th>2</th>\n",
       "      <td>AC078814.1</td>\n",
       "      <td>AC078814.1_rnaseq</td>\n",
       "      <td>protein</td>\n",
       "      <td>-76.022260</td>\n",
       "      <td>0.001020</td>\n",
       "      <td>True</td>\n",
       "      <td>06hr</td>\n",
       "      <td>rna_seq</td>\n",
       "    </tr>\n",
       "    <tr>\n",
       "      <th>3</th>\n",
       "      <td>PPM1H</td>\n",
       "      <td>PPM1H_rnaseq</td>\n",
       "      <td>protein</td>\n",
       "      <td>-76.022260</td>\n",
       "      <td>0.001020</td>\n",
       "      <td>True</td>\n",
       "      <td>06hr</td>\n",
       "      <td>rna_seq</td>\n",
       "    </tr>\n",
       "    <tr>\n",
       "      <th>4</th>\n",
       "      <td>PLCH1</td>\n",
       "      <td>PLCH1_rnaseq</td>\n",
       "      <td>protein</td>\n",
       "      <td>-17.888990</td>\n",
       "      <td>0.001020</td>\n",
       "      <td>True</td>\n",
       "      <td>06hr</td>\n",
       "      <td>rna_seq</td>\n",
       "    </tr>\n",
       "    <tr>\n",
       "      <th>5</th>\n",
       "      <td>RP11-639F1.1</td>\n",
       "      <td>RP11-639F1.1_rnaseq</td>\n",
       "      <td>protein</td>\n",
       "      <td>-17.888990</td>\n",
       "      <td>0.001020</td>\n",
       "      <td>True</td>\n",
       "      <td>06hr</td>\n",
       "      <td>rna_seq</td>\n",
       "    </tr>\n",
       "    <tr>\n",
       "      <th>6</th>\n",
       "      <td>TP63</td>\n",
       "      <td>TP63_rnaseq</td>\n",
       "      <td>protein</td>\n",
       "      <td>-12.355659</td>\n",
       "      <td>0.001020</td>\n",
       "      <td>True</td>\n",
       "      <td>06hr</td>\n",
       "      <td>rna_seq</td>\n",
       "    </tr>\n",
       "    <tr>\n",
       "      <th>7</th>\n",
       "      <td>JARID2</td>\n",
       "      <td>JARID2_rnaseq</td>\n",
       "      <td>protein</td>\n",
       "      <td>-7.891502</td>\n",
       "      <td>0.001020</td>\n",
       "      <td>True</td>\n",
       "      <td>06hr</td>\n",
       "      <td>rna_seq</td>\n",
       "    </tr>\n",
       "    <tr>\n",
       "      <th>8</th>\n",
       "      <td>GLI2</td>\n",
       "      <td>GLI2_rnaseq</td>\n",
       "      <td>protein</td>\n",
       "      <td>-5.389009</td>\n",
       "      <td>0.001020</td>\n",
       "      <td>True</td>\n",
       "      <td>06hr</td>\n",
       "      <td>rna_seq</td>\n",
       "    </tr>\n",
       "    <tr>\n",
       "      <th>9</th>\n",
       "      <td>MAP3K5</td>\n",
       "      <td>MAP3K5_rnaseq</td>\n",
       "      <td>protein</td>\n",
       "      <td>-4.262353</td>\n",
       "      <td>0.001893</td>\n",
       "      <td>True</td>\n",
       "      <td>06hr</td>\n",
       "      <td>rna_seq</td>\n",
       "    </tr>\n",
       "  </tbody>\n",
       "</table>\n",
       "</div>"
      ],
      "text/plain": [
       "     identifier                label species_type  fold_change   p_value  \\\n",
       "0         HOXD1         HOXD1_rnaseq      protein  -520.256762  0.001020   \n",
       "1       MIR7704       MIR7704_rnaseq      protein  -520.256762  0.001020   \n",
       "2    AC078814.1    AC078814.1_rnaseq      protein   -76.022260  0.001020   \n",
       "3         PPM1H         PPM1H_rnaseq      protein   -76.022260  0.001020   \n",
       "4         PLCH1         PLCH1_rnaseq      protein   -17.888990  0.001020   \n",
       "5  RP11-639F1.1  RP11-639F1.1_rnaseq      protein   -17.888990  0.001020   \n",
       "6          TP63          TP63_rnaseq      protein   -12.355659  0.001020   \n",
       "7        JARID2        JARID2_rnaseq      protein    -7.891502  0.001020   \n",
       "8          GLI2          GLI2_rnaseq      protein    -5.389009  0.001020   \n",
       "9        MAP3K5        MAP3K5_rnaseq      protein    -4.262353  0.001893   \n",
       "\n",
       "   significant sample_id   source  \n",
       "0         True      06hr  rna_seq  \n",
       "1         True      06hr  rna_seq  \n",
       "2         True      06hr  rna_seq  \n",
       "3         True      06hr  rna_seq  \n",
       "4         True      06hr  rna_seq  \n",
       "5         True      06hr  rna_seq  \n",
       "6         True      06hr  rna_seq  \n",
       "7         True      06hr  rna_seq  \n",
       "8         True      06hr  rna_seq  \n",
       "9         True      06hr  rna_seq  "
      ]
     },
     "execution_count": 15,
     "metadata": {},
     "output_type": "execute_result"
    }
   ],
   "source": [
    "exp_data.rna_seq.sig.head(10)"
   ]
  },
  {
   "cell_type": "markdown",
   "metadata": {},
   "source": [
    "## Filter data to up or down regulated species."
   ]
  },
  {
   "cell_type": "code",
   "execution_count": 16,
   "metadata": {},
   "outputs": [
    {
     "data": {
      "text/html": [
       "<div>\n",
       "<style scoped>\n",
       "    .dataframe tbody tr th:only-of-type {\n",
       "        vertical-align: middle;\n",
       "    }\n",
       "\n",
       "    .dataframe tbody tr th {\n",
       "        vertical-align: top;\n",
       "    }\n",
       "\n",
       "    .dataframe thead th {\n",
       "        text-align: right;\n",
       "    }\n",
       "</style>\n",
       "<table border=\"1\" class=\"dataframe\">\n",
       "  <thead>\n",
       "    <tr style=\"text-align: right;\">\n",
       "      <th></th>\n",
       "      <th>identifier</th>\n",
       "      <th>label</th>\n",
       "      <th>species_type</th>\n",
       "      <th>fold_change</th>\n",
       "      <th>p_value</th>\n",
       "      <th>significant</th>\n",
       "      <th>sample_id</th>\n",
       "      <th>source</th>\n",
       "    </tr>\n",
       "  </thead>\n",
       "  <tbody>\n",
       "    <tr>\n",
       "      <th>13</th>\n",
       "      <td>DLX2</td>\n",
       "      <td>DLX2_rnaseq</td>\n",
       "      <td>protein</td>\n",
       "      <td>2.874358</td>\n",
       "      <td>0.001020</td>\n",
       "      <td>True</td>\n",
       "      <td>06hr</td>\n",
       "      <td>rna_seq</td>\n",
       "    </tr>\n",
       "    <tr>\n",
       "      <th>18</th>\n",
       "      <td>RETSAT</td>\n",
       "      <td>RETSAT_rnaseq</td>\n",
       "      <td>protein</td>\n",
       "      <td>2.325934</td>\n",
       "      <td>0.001020</td>\n",
       "      <td>True</td>\n",
       "      <td>06hr</td>\n",
       "      <td>rna_seq</td>\n",
       "    </tr>\n",
       "    <tr>\n",
       "      <th>21</th>\n",
       "      <td>SLC52A1</td>\n",
       "      <td>SLC52A1_rnaseq</td>\n",
       "      <td>protein</td>\n",
       "      <td>2.871869</td>\n",
       "      <td>0.001020</td>\n",
       "      <td>True</td>\n",
       "      <td>06hr</td>\n",
       "      <td>rna_seq</td>\n",
       "    </tr>\n",
       "    <tr>\n",
       "      <th>24</th>\n",
       "      <td>OTUD3</td>\n",
       "      <td>OTUD3_rnaseq</td>\n",
       "      <td>protein</td>\n",
       "      <td>1.821775</td>\n",
       "      <td>0.001020</td>\n",
       "      <td>True</td>\n",
       "      <td>06hr</td>\n",
       "      <td>rna_seq</td>\n",
       "    </tr>\n",
       "    <tr>\n",
       "      <th>35</th>\n",
       "      <td>RP11-209D14.2</td>\n",
       "      <td>RP11-209D14.2_rnaseq</td>\n",
       "      <td>protein</td>\n",
       "      <td>1.819533</td>\n",
       "      <td>0.025204</td>\n",
       "      <td>True</td>\n",
       "      <td>06hr</td>\n",
       "      <td>rna_seq</td>\n",
       "    </tr>\n",
       "    <tr>\n",
       "      <th>58</th>\n",
       "      <td>ZNF554</td>\n",
       "      <td>ZNF554_rnaseq</td>\n",
       "      <td>protein</td>\n",
       "      <td>2.309691</td>\n",
       "      <td>0.004153</td>\n",
       "      <td>True</td>\n",
       "      <td>06hr</td>\n",
       "      <td>rna_seq</td>\n",
       "    </tr>\n",
       "    <tr>\n",
       "      <th>59</th>\n",
       "      <td>FZD9</td>\n",
       "      <td>FZD9_rnaseq</td>\n",
       "      <td>protein</td>\n",
       "      <td>1.812798</td>\n",
       "      <td>0.001020</td>\n",
       "      <td>True</td>\n",
       "      <td>06hr</td>\n",
       "      <td>rna_seq</td>\n",
       "    </tr>\n",
       "    <tr>\n",
       "      <th>71</th>\n",
       "      <td>SBK1</td>\n",
       "      <td>SBK1_rnaseq</td>\n",
       "      <td>protein</td>\n",
       "      <td>1.806427</td>\n",
       "      <td>0.002689</td>\n",
       "      <td>True</td>\n",
       "      <td>06hr</td>\n",
       "      <td>rna_seq</td>\n",
       "    </tr>\n",
       "    <tr>\n",
       "      <th>88</th>\n",
       "      <td>PPM1D</td>\n",
       "      <td>PPM1D_rnaseq</td>\n",
       "      <td>protein</td>\n",
       "      <td>1.803186</td>\n",
       "      <td>0.001020</td>\n",
       "      <td>True</td>\n",
       "      <td>06hr</td>\n",
       "      <td>rna_seq</td>\n",
       "    </tr>\n",
       "    <tr>\n",
       "      <th>92</th>\n",
       "      <td>ZNF425</td>\n",
       "      <td>ZNF425_rnaseq</td>\n",
       "      <td>protein</td>\n",
       "      <td>2.846581</td>\n",
       "      <td>0.001020</td>\n",
       "      <td>True</td>\n",
       "      <td>06hr</td>\n",
       "      <td>rna_seq</td>\n",
       "    </tr>\n",
       "  </tbody>\n",
       "</table>\n",
       "</div>"
      ],
      "text/plain": [
       "       identifier                 label species_type  fold_change   p_value  \\\n",
       "13           DLX2           DLX2_rnaseq      protein     2.874358  0.001020   \n",
       "18         RETSAT         RETSAT_rnaseq      protein     2.325934  0.001020   \n",
       "21        SLC52A1        SLC52A1_rnaseq      protein     2.871869  0.001020   \n",
       "24          OTUD3          OTUD3_rnaseq      protein     1.821775  0.001020   \n",
       "35  RP11-209D14.2  RP11-209D14.2_rnaseq      protein     1.819533  0.025204   \n",
       "58         ZNF554         ZNF554_rnaseq      protein     2.309691  0.004153   \n",
       "59           FZD9           FZD9_rnaseq      protein     1.812798  0.001020   \n",
       "71           SBK1           SBK1_rnaseq      protein     1.806427  0.002689   \n",
       "88          PPM1D          PPM1D_rnaseq      protein     1.803186  0.001020   \n",
       "92         ZNF425         ZNF425_rnaseq      protein     2.846581  0.001020   \n",
       "\n",
       "    significant sample_id   source  \n",
       "13         True      06hr  rna_seq  \n",
       "18         True      06hr  rna_seq  \n",
       "21         True      06hr  rna_seq  \n",
       "24         True      06hr  rna_seq  \n",
       "35         True      06hr  rna_seq  \n",
       "58         True      06hr  rna_seq  \n",
       "59         True      06hr  rna_seq  \n",
       "71         True      06hr  rna_seq  \n",
       "88         True      06hr  rna_seq  \n",
       "92         True      06hr  rna_seq  "
      ]
     },
     "execution_count": 16,
     "metadata": {},
     "output_type": "execute_result"
    }
   ],
   "source": [
    "exp_data.rna_seq.up.head(10)"
   ]
  },
  {
   "cell_type": "code",
   "execution_count": 17,
   "metadata": {},
   "outputs": [
    {
     "data": {
      "text/html": [
       "<div>\n",
       "<style scoped>\n",
       "    .dataframe tbody tr th:only-of-type {\n",
       "        vertical-align: middle;\n",
       "    }\n",
       "\n",
       "    .dataframe tbody tr th {\n",
       "        vertical-align: top;\n",
       "    }\n",
       "\n",
       "    .dataframe thead th {\n",
       "        text-align: right;\n",
       "    }\n",
       "</style>\n",
       "<table border=\"1\" class=\"dataframe\">\n",
       "  <thead>\n",
       "    <tr style=\"text-align: right;\">\n",
       "      <th></th>\n",
       "      <th>identifier</th>\n",
       "      <th>label</th>\n",
       "      <th>species_type</th>\n",
       "      <th>fold_change</th>\n",
       "      <th>p_value</th>\n",
       "      <th>significant</th>\n",
       "      <th>sample_id</th>\n",
       "      <th>source</th>\n",
       "    </tr>\n",
       "  </thead>\n",
       "  <tbody>\n",
       "    <tr>\n",
       "      <th>0</th>\n",
       "      <td>HOXD1</td>\n",
       "      <td>HOXD1_rnaseq</td>\n",
       "      <td>protein</td>\n",
       "      <td>-520.256762</td>\n",
       "      <td>0.001020</td>\n",
       "      <td>True</td>\n",
       "      <td>06hr</td>\n",
       "      <td>rna_seq</td>\n",
       "    </tr>\n",
       "    <tr>\n",
       "      <th>1</th>\n",
       "      <td>MIR7704</td>\n",
       "      <td>MIR7704_rnaseq</td>\n",
       "      <td>protein</td>\n",
       "      <td>-520.256762</td>\n",
       "      <td>0.001020</td>\n",
       "      <td>True</td>\n",
       "      <td>06hr</td>\n",
       "      <td>rna_seq</td>\n",
       "    </tr>\n",
       "    <tr>\n",
       "      <th>2</th>\n",
       "      <td>AC078814.1</td>\n",
       "      <td>AC078814.1_rnaseq</td>\n",
       "      <td>protein</td>\n",
       "      <td>-76.022260</td>\n",
       "      <td>0.001020</td>\n",
       "      <td>True</td>\n",
       "      <td>06hr</td>\n",
       "      <td>rna_seq</td>\n",
       "    </tr>\n",
       "    <tr>\n",
       "      <th>3</th>\n",
       "      <td>PPM1H</td>\n",
       "      <td>PPM1H_rnaseq</td>\n",
       "      <td>protein</td>\n",
       "      <td>-76.022260</td>\n",
       "      <td>0.001020</td>\n",
       "      <td>True</td>\n",
       "      <td>06hr</td>\n",
       "      <td>rna_seq</td>\n",
       "    </tr>\n",
       "    <tr>\n",
       "      <th>4</th>\n",
       "      <td>PLCH1</td>\n",
       "      <td>PLCH1_rnaseq</td>\n",
       "      <td>protein</td>\n",
       "      <td>-17.888990</td>\n",
       "      <td>0.001020</td>\n",
       "      <td>True</td>\n",
       "      <td>06hr</td>\n",
       "      <td>rna_seq</td>\n",
       "    </tr>\n",
       "    <tr>\n",
       "      <th>5</th>\n",
       "      <td>RP11-639F1.1</td>\n",
       "      <td>RP11-639F1.1_rnaseq</td>\n",
       "      <td>protein</td>\n",
       "      <td>-17.888990</td>\n",
       "      <td>0.001020</td>\n",
       "      <td>True</td>\n",
       "      <td>06hr</td>\n",
       "      <td>rna_seq</td>\n",
       "    </tr>\n",
       "    <tr>\n",
       "      <th>6</th>\n",
       "      <td>TP63</td>\n",
       "      <td>TP63_rnaseq</td>\n",
       "      <td>protein</td>\n",
       "      <td>-12.355659</td>\n",
       "      <td>0.001020</td>\n",
       "      <td>True</td>\n",
       "      <td>06hr</td>\n",
       "      <td>rna_seq</td>\n",
       "    </tr>\n",
       "    <tr>\n",
       "      <th>7</th>\n",
       "      <td>JARID2</td>\n",
       "      <td>JARID2_rnaseq</td>\n",
       "      <td>protein</td>\n",
       "      <td>-7.891502</td>\n",
       "      <td>0.001020</td>\n",
       "      <td>True</td>\n",
       "      <td>06hr</td>\n",
       "      <td>rna_seq</td>\n",
       "    </tr>\n",
       "    <tr>\n",
       "      <th>8</th>\n",
       "      <td>GLI2</td>\n",
       "      <td>GLI2_rnaseq</td>\n",
       "      <td>protein</td>\n",
       "      <td>-5.389009</td>\n",
       "      <td>0.001020</td>\n",
       "      <td>True</td>\n",
       "      <td>06hr</td>\n",
       "      <td>rna_seq</td>\n",
       "    </tr>\n",
       "    <tr>\n",
       "      <th>9</th>\n",
       "      <td>MAP3K5</td>\n",
       "      <td>MAP3K5_rnaseq</td>\n",
       "      <td>protein</td>\n",
       "      <td>-4.262353</td>\n",
       "      <td>0.001893</td>\n",
       "      <td>True</td>\n",
       "      <td>06hr</td>\n",
       "      <td>rna_seq</td>\n",
       "    </tr>\n",
       "  </tbody>\n",
       "</table>\n",
       "</div>"
      ],
      "text/plain": [
       "     identifier                label species_type  fold_change   p_value  \\\n",
       "0         HOXD1         HOXD1_rnaseq      protein  -520.256762  0.001020   \n",
       "1       MIR7704       MIR7704_rnaseq      protein  -520.256762  0.001020   \n",
       "2    AC078814.1    AC078814.1_rnaseq      protein   -76.022260  0.001020   \n",
       "3         PPM1H         PPM1H_rnaseq      protein   -76.022260  0.001020   \n",
       "4         PLCH1         PLCH1_rnaseq      protein   -17.888990  0.001020   \n",
       "5  RP11-639F1.1  RP11-639F1.1_rnaseq      protein   -17.888990  0.001020   \n",
       "6          TP63          TP63_rnaseq      protein   -12.355659  0.001020   \n",
       "7        JARID2        JARID2_rnaseq      protein    -7.891502  0.001020   \n",
       "8          GLI2          GLI2_rnaseq      protein    -5.389009  0.001020   \n",
       "9        MAP3K5        MAP3K5_rnaseq      protein    -4.262353  0.001893   \n",
       "\n",
       "   significant sample_id   source  \n",
       "0         True      06hr  rna_seq  \n",
       "1         True      06hr  rna_seq  \n",
       "2         True      06hr  rna_seq  \n",
       "3         True      06hr  rna_seq  \n",
       "4         True      06hr  rna_seq  \n",
       "5         True      06hr  rna_seq  \n",
       "6         True      06hr  rna_seq  \n",
       "7         True      06hr  rna_seq  \n",
       "8         True      06hr  rna_seq  \n",
       "9         True      06hr  rna_seq  "
      ]
     },
     "execution_count": 17,
     "metadata": {},
     "output_type": "execute_result"
    }
   ],
   "source": [
    "exp_data.rna_seq.down.head(10)"
   ]
  },
  {
   "cell_type": "markdown",
   "metadata": {},
   "source": [
    "### Pivot table to get table across time"
   ]
  },
  {
   "cell_type": "code",
   "execution_count": 18,
   "metadata": {},
   "outputs": [
    {
     "data": {
      "text/html": [
       "<div>\n",
       "<style scoped>\n",
       "    .dataframe tbody tr th:only-of-type {\n",
       "        vertical-align: middle;\n",
       "    }\n",
       "\n",
       "    .dataframe tbody tr th {\n",
       "        vertical-align: top;\n",
       "    }\n",
       "\n",
       "    .dataframe thead tr th {\n",
       "        text-align: left;\n",
       "    }\n",
       "\n",
       "    .dataframe thead tr:last-of-type th {\n",
       "        text-align: right;\n",
       "    }\n",
       "</style>\n",
       "<table border=\"1\" class=\"dataframe\">\n",
       "  <thead>\n",
       "    <tr>\n",
       "      <th></th>\n",
       "      <th colspan=\"4\" halign=\"left\">fold_change</th>\n",
       "      <th colspan=\"4\" halign=\"left\">p_value</th>\n",
       "    </tr>\n",
       "    <tr>\n",
       "      <th>sample_id</th>\n",
       "      <th>01hr</th>\n",
       "      <th>06hr</th>\n",
       "      <th>24hr</th>\n",
       "      <th>48hr</th>\n",
       "      <th>01hr</th>\n",
       "      <th>06hr</th>\n",
       "      <th>24hr</th>\n",
       "      <th>48hr</th>\n",
       "    </tr>\n",
       "    <tr>\n",
       "      <th>identifier</th>\n",
       "      <th></th>\n",
       "      <th></th>\n",
       "      <th></th>\n",
       "      <th></th>\n",
       "      <th></th>\n",
       "      <th></th>\n",
       "      <th></th>\n",
       "      <th></th>\n",
       "    </tr>\n",
       "  </thead>\n",
       "  <tbody>\n",
       "    <tr>\n",
       "      <th>A2M</th>\n",
       "      <td>1.040000</td>\n",
       "      <td>1.140</td>\n",
       "      <td>51.93</td>\n",
       "      <td>11.58</td>\n",
       "      <td>0.514800</td>\n",
       "      <td>0.44370</td>\n",
       "      <td>0.24260</td>\n",
       "      <td>0.11130</td>\n",
       "    </tr>\n",
       "    <tr>\n",
       "      <th>AACS</th>\n",
       "      <td>-1.100000</td>\n",
       "      <td>3.740</td>\n",
       "      <td>NaN</td>\n",
       "      <td>NaN</td>\n",
       "      <td>0.281800</td>\n",
       "      <td>0.26950</td>\n",
       "      <td>NaN</td>\n",
       "      <td>NaN</td>\n",
       "    </tr>\n",
       "    <tr>\n",
       "      <th>AAGAB</th>\n",
       "      <td>1.000000</td>\n",
       "      <td>-1.150</td>\n",
       "      <td>1.46</td>\n",
       "      <td>-2.03</td>\n",
       "      <td>0.968100</td>\n",
       "      <td>0.39240</td>\n",
       "      <td>0.84450</td>\n",
       "      <td>0.09760</td>\n",
       "    </tr>\n",
       "    <tr>\n",
       "      <th>AAK1</th>\n",
       "      <td>1.320000</td>\n",
       "      <td>1.590</td>\n",
       "      <td>NaN</td>\n",
       "      <td>1.72</td>\n",
       "      <td>0.715800</td>\n",
       "      <td>0.18110</td>\n",
       "      <td>NaN</td>\n",
       "      <td>0.95660</td>\n",
       "    </tr>\n",
       "    <tr>\n",
       "      <th>AAMP</th>\n",
       "      <td>-1.200000</td>\n",
       "      <td>-1.460</td>\n",
       "      <td>1.85</td>\n",
       "      <td>1.78</td>\n",
       "      <td>0.836800</td>\n",
       "      <td>0.55420</td>\n",
       "      <td>0.13640</td>\n",
       "      <td>0.32460</td>\n",
       "    </tr>\n",
       "    <tr>\n",
       "      <th>AAR2</th>\n",
       "      <td>NaN</td>\n",
       "      <td>-1.690</td>\n",
       "      <td>NaN</td>\n",
       "      <td>NaN</td>\n",
       "      <td>NaN</td>\n",
       "      <td>0.96510</td>\n",
       "      <td>NaN</td>\n",
       "      <td>NaN</td>\n",
       "    </tr>\n",
       "    <tr>\n",
       "      <th>AARS</th>\n",
       "      <td>0.326667</td>\n",
       "      <td>-0.035</td>\n",
       "      <td>-1.44</td>\n",
       "      <td>-3.12</td>\n",
       "      <td>0.299867</td>\n",
       "      <td>0.62425</td>\n",
       "      <td>0.46725</td>\n",
       "      <td>0.00045</td>\n",
       "    </tr>\n",
       "    <tr>\n",
       "      <th>AARS2</th>\n",
       "      <td>1.170000</td>\n",
       "      <td>NaN</td>\n",
       "      <td>NaN</td>\n",
       "      <td>NaN</td>\n",
       "      <td>0.253000</td>\n",
       "      <td>NaN</td>\n",
       "      <td>NaN</td>\n",
       "      <td>NaN</td>\n",
       "    </tr>\n",
       "    <tr>\n",
       "      <th>AARSD1</th>\n",
       "      <td>1.210000</td>\n",
       "      <td>4.070</td>\n",
       "      <td>-2.05</td>\n",
       "      <td>NaN</td>\n",
       "      <td>0.459700</td>\n",
       "      <td>0.49160</td>\n",
       "      <td>0.78440</td>\n",
       "      <td>NaN</td>\n",
       "    </tr>\n",
       "    <tr>\n",
       "      <th>AASDHPPT</th>\n",
       "      <td>-0.330000</td>\n",
       "      <td>1.020</td>\n",
       "      <td>1.07</td>\n",
       "      <td>-1.11</td>\n",
       "      <td>0.709600</td>\n",
       "      <td>0.81160</td>\n",
       "      <td>0.45290</td>\n",
       "      <td>0.00070</td>\n",
       "    </tr>\n",
       "  </tbody>\n",
       "</table>\n",
       "</div>"
      ],
      "text/plain": [
       "           fold_change                        p_value                    \\\n",
       "sample_id         01hr   06hr   24hr   48hr      01hr     06hr     24hr   \n",
       "identifier                                                                \n",
       "A2M           1.040000  1.140  51.93  11.58  0.514800  0.44370  0.24260   \n",
       "AACS         -1.100000  3.740    NaN    NaN  0.281800  0.26950      NaN   \n",
       "AAGAB         1.000000 -1.150   1.46  -2.03  0.968100  0.39240  0.84450   \n",
       "AAK1          1.320000  1.590    NaN   1.72  0.715800  0.18110      NaN   \n",
       "AAMP         -1.200000 -1.460   1.85   1.78  0.836800  0.55420  0.13640   \n",
       "AAR2               NaN -1.690    NaN    NaN       NaN  0.96510      NaN   \n",
       "AARS          0.326667 -0.035  -1.44  -3.12  0.299867  0.62425  0.46725   \n",
       "AARS2         1.170000    NaN    NaN    NaN  0.253000      NaN      NaN   \n",
       "AARSD1        1.210000  4.070  -2.05    NaN  0.459700  0.49160  0.78440   \n",
       "AASDHPPT     -0.330000  1.020   1.07  -1.11  0.709600  0.81160  0.45290   \n",
       "\n",
       "                     \n",
       "sample_id      48hr  \n",
       "identifier           \n",
       "A2M         0.11130  \n",
       "AACS            NaN  \n",
       "AAGAB       0.09760  \n",
       "AAK1        0.95660  \n",
       "AAMP        0.32460  \n",
       "AAR2            NaN  \n",
       "AARS        0.00045  \n",
       "AARS2           NaN  \n",
       "AARSD1          NaN  \n",
       "AASDHPPT    0.00070  "
      ]
     },
     "execution_count": 18,
     "metadata": {},
     "output_type": "execute_result"
    }
   ],
   "source": [
    "exp_data.label_free.pivoter(\n",
    "    convert_to_log=False, \n",
    "    index='identifier',\n",
    "    columns='sample_id',\n",
    "    values=['fold_change', 'p_value']\n",
    ").head(10)"
   ]
  },
  {
   "cell_type": "markdown",
   "metadata": {},
   "source": [
    "Note that in the previous two examples, we find that there are NaN values. This is because of our experiental data. We can easy check what species are not found in all 4 of our label free experiements."
   ]
  },
  {
   "cell_type": "code",
   "execution_count": 19,
   "metadata": {},
   "outputs": [
    {
     "name": "stdout",
     "output_type": "stream",
     "text": [
      "Number in index went from 3447 to 1819\n",
      "1819\n"
     ]
    }
   ],
   "source": [
    "print(len(exp_data.label_free.filter_by_minimum_present_columns(\n",
    "    index='identifier',\n",
    "    columns='sample_id',\n",
    ").id_list))"
   ]
  },
  {
   "cell_type": "markdown",
   "metadata": {},
   "source": [
    "This shows that out of the 3447 unique species measured in label-free proteomics, only 1819 were measured in all time points. What one can do with this information is dependent on the analysis. For now, we will keep using the full dataset."
   ]
  },
  {
   "cell_type": "markdown",
   "metadata": {},
   "source": [
    "We can also loop through each sample to get a list of the significant species perturbed at the sample."
   ]
  },
  {
   "cell_type": "code",
   "execution_count": 20,
   "metadata": {},
   "outputs": [
    {
     "name": "stdout",
     "output_type": "stream",
     "text": [
      "01hr 2766\n",
      "06hr 2742\n",
      "24hr 2551\n",
      "48hr 2261\n"
     ]
    }
   ],
   "source": [
    "for i in range(len(exp_data.label_free.by_sample)):\n",
    "    print(exp_data.label_free.sample_ids[i], len(exp_data.label_free.by_sample[i]))"
   ]
  },
  {
   "cell_type": "markdown",
   "metadata": {},
   "source": [
    "Example where we only look at label-free proteomics and require there be a signficant change in at least 3 time points."
   ]
  },
  {
   "cell_type": "code",
   "execution_count": 21,
   "metadata": {},
   "outputs": [
    {
     "name": "stdout",
     "output_type": "stream",
     "text": [
      "Number in index went from 4036 to 48\n"
     ]
    },
    {
     "data": {
      "text/html": [
       "<div>\n",
       "<style scoped>\n",
       "    .dataframe tbody tr th:only-of-type {\n",
       "        vertical-align: middle;\n",
       "    }\n",
       "\n",
       "    .dataframe tbody tr th {\n",
       "        vertical-align: top;\n",
       "    }\n",
       "\n",
       "    .dataframe thead th {\n",
       "        text-align: right;\n",
       "    }\n",
       "</style>\n",
       "<table border=\"1\" class=\"dataframe\">\n",
       "  <thead>\n",
       "    <tr style=\"text-align: right;\">\n",
       "      <th></th>\n",
       "      <th>identifier</th>\n",
       "      <th>label</th>\n",
       "      <th>species_type</th>\n",
       "      <th>fold_change</th>\n",
       "      <th>p_value</th>\n",
       "      <th>significant</th>\n",
       "      <th>sample_id</th>\n",
       "      <th>source</th>\n",
       "    </tr>\n",
       "  </thead>\n",
       "  <tbody>\n",
       "    <tr>\n",
       "      <th>102449</th>\n",
       "      <td>SRSF1</td>\n",
       "      <td>SRSF1_lf</td>\n",
       "      <td>protein</td>\n",
       "      <td>-3.21</td>\n",
       "      <td>0.0006</td>\n",
       "      <td>True</td>\n",
       "      <td>01hr</td>\n",
       "      <td>label_free</td>\n",
       "    </tr>\n",
       "    <tr>\n",
       "      <th>102457</th>\n",
       "      <td>PHB</td>\n",
       "      <td>PHB_lf</td>\n",
       "      <td>protein</td>\n",
       "      <td>-3.54</td>\n",
       "      <td>0.0045</td>\n",
       "      <td>True</td>\n",
       "      <td>01hr</td>\n",
       "      <td>label_free</td>\n",
       "    </tr>\n",
       "    <tr>\n",
       "      <th>102462</th>\n",
       "      <td>LMNA</td>\n",
       "      <td>LMNA_lf</td>\n",
       "      <td>protein</td>\n",
       "      <td>-3.57</td>\n",
       "      <td>0.0062</td>\n",
       "      <td>True</td>\n",
       "      <td>01hr</td>\n",
       "      <td>label_free</td>\n",
       "    </tr>\n",
       "    <tr>\n",
       "      <th>102468</th>\n",
       "      <td>SNRPC</td>\n",
       "      <td>SNRPC_lf</td>\n",
       "      <td>protein</td>\n",
       "      <td>-4.47</td>\n",
       "      <td>0.0082</td>\n",
       "      <td>True</td>\n",
       "      <td>01hr</td>\n",
       "      <td>label_free</td>\n",
       "    </tr>\n",
       "    <tr>\n",
       "      <th>102473</th>\n",
       "      <td>SNRPF</td>\n",
       "      <td>SNRPF_lf</td>\n",
       "      <td>protein</td>\n",
       "      <td>-1.78</td>\n",
       "      <td>0.0108</td>\n",
       "      <td>True</td>\n",
       "      <td>01hr</td>\n",
       "      <td>label_free</td>\n",
       "    </tr>\n",
       "    <tr>\n",
       "      <th>102479</th>\n",
       "      <td>VDAC1</td>\n",
       "      <td>VDAC1_lf</td>\n",
       "      <td>protein</td>\n",
       "      <td>-3.98</td>\n",
       "      <td>0.0137</td>\n",
       "      <td>True</td>\n",
       "      <td>01hr</td>\n",
       "      <td>label_free</td>\n",
       "    </tr>\n",
       "    <tr>\n",
       "      <th>102480</th>\n",
       "      <td>HNRNPA2B1</td>\n",
       "      <td>HNRNPA2B1_lf</td>\n",
       "      <td>protein</td>\n",
       "      <td>-5.68</td>\n",
       "      <td>0.0142</td>\n",
       "      <td>True</td>\n",
       "      <td>01hr</td>\n",
       "      <td>label_free</td>\n",
       "    </tr>\n",
       "    <tr>\n",
       "      <th>102486</th>\n",
       "      <td>ERH</td>\n",
       "      <td>ERH_N-term S(ace)2_lf</td>\n",
       "      <td>protein</td>\n",
       "      <td>-3.85</td>\n",
       "      <td>0.0179</td>\n",
       "      <td>True</td>\n",
       "      <td>01hr</td>\n",
       "      <td>label_free</td>\n",
       "    </tr>\n",
       "    <tr>\n",
       "      <th>102491</th>\n",
       "      <td>RPL23A</td>\n",
       "      <td>RPL23A_lf</td>\n",
       "      <td>protein</td>\n",
       "      <td>-1.57</td>\n",
       "      <td>0.0213</td>\n",
       "      <td>True</td>\n",
       "      <td>01hr</td>\n",
       "      <td>label_free</td>\n",
       "    </tr>\n",
       "    <tr>\n",
       "      <th>102495</th>\n",
       "      <td>MATR3</td>\n",
       "      <td>MATR3_lf</td>\n",
       "      <td>protein</td>\n",
       "      <td>-13.70</td>\n",
       "      <td>0.0237</td>\n",
       "      <td>True</td>\n",
       "      <td>01hr</td>\n",
       "      <td>label_free</td>\n",
       "    </tr>\n",
       "  </tbody>\n",
       "</table>\n",
       "</div>"
      ],
      "text/plain": [
       "       identifier                  label species_type  fold_change  p_value  \\\n",
       "102449      SRSF1               SRSF1_lf      protein        -3.21   0.0006   \n",
       "102457        PHB                 PHB_lf      protein        -3.54   0.0045   \n",
       "102462       LMNA                LMNA_lf      protein        -3.57   0.0062   \n",
       "102468      SNRPC               SNRPC_lf      protein        -4.47   0.0082   \n",
       "102473      SNRPF               SNRPF_lf      protein        -1.78   0.0108   \n",
       "102479      VDAC1               VDAC1_lf      protein        -3.98   0.0137   \n",
       "102480  HNRNPA2B1           HNRNPA2B1_lf      protein        -5.68   0.0142   \n",
       "102486        ERH  ERH_N-term S(ace)2_lf      protein        -3.85   0.0179   \n",
       "102491     RPL23A              RPL23A_lf      protein        -1.57   0.0213   \n",
       "102495      MATR3               MATR3_lf      protein       -13.70   0.0237   \n",
       "\n",
       "        significant sample_id      source  \n",
       "102449         True      01hr  label_free  \n",
       "102457         True      01hr  label_free  \n",
       "102462         True      01hr  label_free  \n",
       "102468         True      01hr  label_free  \n",
       "102473         True      01hr  label_free  \n",
       "102479         True      01hr  label_free  \n",
       "102480         True      01hr  label_free  \n",
       "102486         True      01hr  label_free  \n",
       "102491         True      01hr  label_free  \n",
       "102495         True      01hr  label_free  "
      ]
     },
     "metadata": {},
     "output_type": "display_data"
    }
   ],
   "source": [
    "lf_sig = exp_data.label_free.filter_by_minimum_sig_columns(\n",
    "    index='label', \n",
    "    columns='sample_id', \n",
    "    min_terms=3\n",
    ")\n",
    "display(lf_sig.head(10))"
   ]
  },
  {
   "cell_type": "code",
   "execution_count": 22,
   "metadata": {},
   "outputs": [
    {
     "data": {
      "image/png": "[encoded data removed]",
      "text/plain": [
       "<Figure size 576x864 with 4 Axes>"
      ]
     },
     "metadata": {
      "needs_background": "light"
     },
     "output_type": "display_data"
    }
   ],
   "source": [
    "lf_sig.heatmap(\n",
    "    convert_to_log=True, \n",
    "    cluster_row=True, \n",
    "    index='label',\n",
    "    values='fold_change', \n",
    "    columns='sample_id', \n",
    "    annotate_sig=True, \n",
    "    figsize=(8, 12), \n",
    "    div_colors=True,\n",
    "    num_colors=21, \n",
    "    linewidths=0.01\n",
    ");"
   ]
  },
  {
   "cell_type": "markdown",
   "metadata": {},
   "source": [
    "## Plotting subset of species\n",
    "\n",
    "We provide the a few plotting interfaces to explore that subsets of the data.\n"
   ]
  },
  {
   "cell_type": "markdown",
   "metadata": {},
   "source": [
    "### Ploty"
   ]
  },
  {
   "cell_type": "code",
   "execution_count": 23,
   "metadata": {},
   "outputs": [
    {
     "data": {
      "text/html": [
       "<script type=\"text/javascript\">window.PlotlyConfig = {MathJaxConfig: 'local'};</script><script type=\"text/javascript\">if (window.MathJax) {MathJax.Hub.Config({SVG: {font: \"STIX-Web\"}});}</script><script>requirejs.config({paths: { 'plotly': ['https://cdn.plot.ly/plotly-latest.min']},});if(!window._Plotly) {require(['plotly'],function(plotly) {window._Plotly=plotly;});}</script>"
      ],
      "text/vnd.plotly.v1+html": [
       "<script type=\"text/javascript\">window.PlotlyConfig = {MathJaxConfig: 'local'};</script><script type=\"text/javascript\">if (window.MathJax) {MathJax.Hub.Config({SVG: {font: \"STIX-Web\"}});}</script><script>requirejs.config({paths: { 'plotly': ['https://cdn.plot.ly/plotly-latest.min']},});if(!window._Plotly) {require(['plotly'],function(plotly) {window._Plotly=plotly;});}</script>"
      ]
     },
     "metadata": {},
     "output_type": "display_data"
    },
    {
     "data": {
      "application/vnd.plotly.v1+json": {
       "config": {
        "linkText": "Export to plot.ly",
        "plotlyServerURL": "https://plot.ly",
        "showLink": false
       },
       "data": [
        {
         "hoveron": "points",
         "legendgroup": "group_LMNA_S(ph)22_lf",
         "line": {
          "color": "rgba(0.12156862745098039,0.4666666666666667,0.7058823529411765,1.)"
         },
         "marker": {
          "color": "rgba(0.12156862745098039,0.4666666666666667,0.7058823529411765,1.)",
          "size": 8,
          "symbol": "circle"
         },
         "mode": "lines+markers",
         "name": "LMNA_S(ph)22_lf",
         "showlegend": true,
         "type": "scatter",
         "uid": "6a1dd472-8c1d-4108-a2f9-5d066bf6ed9c",
         "visible": true,
         "x": [
          0,
          1,
          3
         ],
         "y": [
          0.02856915219677092,
          -0.5849625007211562,
          1.4489009511451278
         ]
        },
        {
         "hoveron": "points",
         "legendgroup": "group_LMNA_S(ph)22_lf",
         "line": {
          "color": "rgba(0.12156862745098039,0.4666666666666667,0.7058823529411765,1.)"
         },
         "marker": {
          "color": "rgba(0.12156862745098039,0.4666666666666667,0.7058823529411765,1.)",
          "size": 12,
          "symbol": "x-open-dot"
         },
         "mode": "markers",
         "name": "LMNA_S(ph)22_lf",
         "showlegend": false,
         "type": "scatter",
         "uid": "a6f532da-b028-4075-a24b-35e0f83de16f",
         "visible": true,
         "x": [
          1,
          3
         ],
         "y": [
          -0.5849625007211562,
          1.4489009511451278
         ]
        },
        {
         "hoveron": "points",
         "legendgroup": "group_LMNA_S(ph)392_lf",
         "line": {
          "color": "rgba(0.6823529411764706,0.7803921568627451,0.9098039215686274,1.)"
         },
         "marker": {
          "color": "rgba(0.6823529411764706,0.7803921568627451,0.9098039215686274,1.)",
          "size": 8,
          "symbol": "circle"
         },
         "mode": "lines+markers",
         "name": "LMNA_S(ph)392_lf",
         "showlegend": true,
         "type": "scatter",
         "uid": "4164cbbd-0be2-4bf9-97b0-2e26e3441bb4",
         "visible": true,
         "x": [
          0
         ],
         "y": [
          -2.7398481026993275
         ]
        },
        {
         "hoveron": "points",
         "legendgroup": "group_LMNA_S(ph)392_lf",
         "line": {
          "color": "rgba(0.6823529411764706,0.7803921568627451,0.9098039215686274,1.)"
         },
         "marker": {
          "color": "rgba(0.6823529411764706,0.7803921568627451,0.9098039215686274,1.)",
          "size": 12,
          "symbol": "x-open-dot"
         },
         "mode": "markers",
         "name": "LMNA_S(ph)392_lf",
         "showlegend": false,
         "type": "scatter",
         "uid": "a9d8dc63-5b78-47bb-b355-3b977e5f8a05",
         "visible": true,
         "x": [],
         "y": []
        },
        {
         "hoveron": "points",
         "legendgroup": "group_LMNA_lf",
         "line": {
          "color": "rgba(1.0,0.4980392156862745,0.054901960784313725,1.)"
         },
         "marker": {
          "color": "rgba(1.0,0.4980392156862745,0.054901960784313725,1.)",
          "size": 8,
          "symbol": "circle"
         },
         "mode": "lines+markers",
         "name": "LMNA_lf",
         "showlegend": true,
         "type": "scatter",
         "uid": "330b9cf9-2095-4d0f-ab2f-3d1b8973c40e",
         "visible": true,
         "x": [
          0,
          0,
          1,
          2,
          3
         ],
         "y": [
          -1.835924074254375,
          -1.2141248053528473,
          -0.36737106564852945,
          0.9781956296816515,
          1.7484612330040354
         ]
        },
        {
         "hoveron": "points",
         "legendgroup": "group_LMNA_lf",
         "line": {
          "color": "rgba(1.0,0.4980392156862745,0.054901960784313725,1.)"
         },
         "marker": {
          "color": "rgba(1.0,0.4980392156862745,0.054901960784313725,1.)",
          "size": 12,
          "symbol": "x-open-dot"
         },
         "mode": "markers",
         "name": "LMNA_lf",
         "showlegend": false,
         "type": "scatter",
         "uid": "846a1381-6112-4748-a6f9-651adee4934f",
         "visible": true,
         "x": [
          0,
          0,
          2,
          3
         ],
         "y": [
          -1.835924074254375,
          -1.2141248053528473,
          0.9781956296816515,
          1.7484612330040354
         ]
        },
        {
         "hoveron": "points",
         "legendgroup": "group_VDAC1_N-term A(ace)2_lf",
         "line": {
          "color": "rgba(1.0,0.7333333333333333,0.47058823529411764,1.)"
         },
         "marker": {
          "color": "rgba(1.0,0.7333333333333333,0.47058823529411764,1.)",
          "size": 8,
          "symbol": "circle"
         },
         "mode": "lines+markers",
         "name": "VDAC1_N-term A(ace)2_lf",
         "showlegend": true,
         "type": "scatter",
         "uid": "c0e4ad6e-7cce-493a-8db6-eb7b0051a9a3",
         "visible": true,
         "x": [
          0
         ],
         "y": [
          -2.920293300211007
         ]
        },
        {
         "hoveron": "points",
         "legendgroup": "group_VDAC1_N-term A(ace)2_lf",
         "line": {
          "color": "rgba(1.0,0.7333333333333333,0.47058823529411764,1.)"
         },
         "marker": {
          "color": "rgba(1.0,0.7333333333333333,0.47058823529411764,1.)",
          "size": 12,
          "symbol": "x-open-dot"
         },
         "mode": "markers",
         "name": "VDAC1_N-term A(ace)2_lf",
         "showlegend": false,
         "type": "scatter",
         "uid": "0fa6c40e-6553-4fdf-ba7a-af35760c988a",
         "visible": true,
         "x": [],
         "y": []
        },
        {
         "hoveron": "points",
         "legendgroup": "group_VDAC1_lf",
         "line": {
          "color": "rgba(0.17254901960784313,0.6274509803921569,0.17254901960784313,1.)"
         },
         "marker": {
          "color": "rgba(0.17254901960784313,0.6274509803921569,0.17254901960784313,1.)",
          "size": 8,
          "symbol": "circle"
         },
         "mode": "lines+markers",
         "name": "VDAC1_lf",
         "showlegend": true,
         "type": "scatter",
         "uid": "cffca0a9-7523-44d2-8b66-0fbbadcd15bb",
         "visible": true,
         "x": [
          0,
          0,
          1,
          2,
          3
         ],
         "y": [
          -1.9927684307689242,
          -1.480265122054463,
          0.25096157353321874,
          2.526068811667588,
          5.8938475581329195
         ]
        },
        {
         "hoveron": "points",
         "legendgroup": "group_VDAC1_lf",
         "line": {
          "color": "rgba(0.17254901960784313,0.6274509803921569,0.17254901960784313,1.)"
         },
         "marker": {
          "color": "rgba(0.17254901960784313,0.6274509803921569,0.17254901960784313,1.)",
          "size": 12,
          "symbol": "x-open-dot"
         },
         "mode": "markers",
         "name": "VDAC1_lf",
         "showlegend": false,
         "type": "scatter",
         "uid": "3d912430-674e-428a-af64-f8fa13bebaf2",
         "visible": true,
         "x": [
          0,
          2,
          3
         ],
         "y": [
          -1.9927684307689242,
          2.526068811667588,
          5.8938475581329195
         ]
        }
       ],
       "layout": {
        "hovermode": "closest",
        "showlegend": true,
        "updatemenus": [
         {
          "buttons": [
           {
            "args": [
             "visible",
             [
              true,
              true,
              true,
              true,
              true,
              true,
              true,
              true,
              true,
              true
             ]
            ],
            "label": "All",
            "method": "restyle"
           },
           {
            "args": [
             "visible",
             [
              true,
              true,
              true,
              true,
              true,
              true,
              false,
              false,
              false,
              false
             ]
            ],
            "label": "LMNA",
            "method": "restyle"
           },
           {
            "args": [
             "visible",
             [
              false,
              false,
              false,
              false,
              false,
              false,
              true,
              true,
              true,
              true
             ]
            ],
            "label": "VDAC1",
            "method": "restyle"
           }
          ],
          "x": -0.05,
          "y": 1,
          "yanchor": "top"
         }
        ],
        "xaxis": {
         "range": [
          0,
          3
         ],
         "showticklabels": true,
         "tickmode": "array",
         "ticktext": [
          "01hr",
          "06hr",
          "24hr",
          "48hr"
         ],
         "tickvals": [
          0,
          1,
          2,
          3
         ],
         "title": {
          "text": "Sample index"
         }
        },
        "yaxis": {
         "title": {
          "text": "log2fc"
         }
        }
       }
      },
      "text/html": [
       "<div id=\"81316e49-1a7e-4829-8279-807e94c6beb8\" style=\"height: 525px; width: 100%;\" class=\"plotly-graph-div\"></div><script type=\"text/javascript\">require([\"plotly\"], function(Plotly) { window.PLOTLYENV=window.PLOTLYENV || {};window.PLOTLYENV.BASE_URL=\"https://plot.ly\";Plotly.newPlot(\"81316e49-1a7e-4829-8279-807e94c6beb8\", [{\"hoveron\": \"points\", \"legendgroup\": \"group_LMNA_S(ph)22_lf\", \"line\": {\"color\": \"rgba(0.12156862745098039,0.4666666666666667,0.7058823529411765,1.)\"}, \"marker\": {\"color\": \"rgba(0.12156862745098039,0.4666666666666667,0.7058823529411765,1.)\", \"size\": 8, \"symbol\": \"circle\"}, \"mode\": \"lines+markers\", \"name\": \"LMNA_S(ph)22_lf\", \"showlegend\": true, \"visible\": true, \"x\": [0, 1, 3], \"y\": [0.02856915219677092, -0.5849625007211562, 1.4489009511451278], \"type\": \"scatter\", \"uid\": \"6a1dd472-8c1d-4108-a2f9-5d066bf6ed9c\"}, {\"hoveron\": \"points\", \"legendgroup\": \"group_LMNA_S(ph)22_lf\", \"line\": {\"color\": \"rgba(0.12156862745098039,0.4666666666666667,0.7058823529411765,1.)\"}, \"marker\": {\"color\": \"rgba(0.12156862745098039,0.4666666666666667,0.7058823529411765,1.)\", \"size\": 12, \"symbol\": \"x-open-dot\"}, \"mode\": \"markers\", \"name\": \"LMNA_S(ph)22_lf\", \"showlegend\": false, \"visible\": true, \"x\": [1, 3], \"y\": [-0.5849625007211562, 1.4489009511451278], \"type\": \"scatter\", \"uid\": \"a6f532da-b028-4075-a24b-35e0f83de16f\"}, {\"hoveron\": \"points\", \"legendgroup\": \"group_LMNA_S(ph)392_lf\", \"line\": {\"color\": \"rgba(0.6823529411764706,0.7803921568627451,0.9098039215686274,1.)\"}, \"marker\": {\"color\": \"rgba(0.6823529411764706,0.7803921568627451,0.9098039215686274,1.)\", \"size\": 8, \"symbol\": \"circle\"}, \"mode\": \"lines+markers\", \"name\": \"LMNA_S(ph)392_lf\", \"showlegend\": true, \"visible\": true, \"x\": [0], \"y\": [-2.7398481026993275], \"type\": \"scatter\", \"uid\": \"4164cbbd-0be2-4bf9-97b0-2e26e3441bb4\"}, {\"hoveron\": \"points\", \"legendgroup\": \"group_LMNA_S(ph)392_lf\", \"line\": {\"color\": \"rgba(0.6823529411764706,0.7803921568627451,0.9098039215686274,1.)\"}, \"marker\": {\"color\": \"rgba(0.6823529411764706,0.7803921568627451,0.9098039215686274,1.)\", \"size\": 12, \"symbol\": \"x-open-dot\"}, \"mode\": \"markers\", \"name\": \"LMNA_S(ph)392_lf\", \"showlegend\": false, \"visible\": true, \"x\": [], \"y\": [], \"type\": \"scatter\", \"uid\": \"a9d8dc63-5b78-47bb-b355-3b977e5f8a05\"}, {\"hoveron\": \"points\", \"legendgroup\": \"group_LMNA_lf\", \"line\": {\"color\": \"rgba(1.0,0.4980392156862745,0.054901960784313725,1.)\"}, \"marker\": {\"color\": \"rgba(1.0,0.4980392156862745,0.054901960784313725,1.)\", \"size\": 8, \"symbol\": \"circle\"}, \"mode\": \"lines+markers\", \"name\": \"LMNA_lf\", \"showlegend\": true, \"visible\": true, \"x\": [0, 0, 1, 2, 3], \"y\": [-1.835924074254375, -1.2141248053528473, -0.36737106564852945, 0.9781956296816515, 1.7484612330040354], \"type\": \"scatter\", \"uid\": \"330b9cf9-2095-4d0f-ab2f-3d1b8973c40e\"}, {\"hoveron\": \"points\", \"legendgroup\": \"group_LMNA_lf\", \"line\": {\"color\": \"rgba(1.0,0.4980392156862745,0.054901960784313725,1.)\"}, \"marker\": {\"color\": \"rgba(1.0,0.4980392156862745,0.054901960784313725,1.)\", \"size\": 12, \"symbol\": \"x-open-dot\"}, \"mode\": \"markers\", \"name\": \"LMNA_lf\", \"showlegend\": false, \"visible\": true, \"x\": [0, 0, 2, 3], \"y\": [-1.835924074254375, -1.2141248053528473, 0.9781956296816515, 1.7484612330040354], \"type\": \"scatter\", \"uid\": \"846a1381-6112-4748-a6f9-651adee4934f\"}, {\"hoveron\": \"points\", \"legendgroup\": \"group_VDAC1_N-term A(ace)2_lf\", \"line\": {\"color\": \"rgba(1.0,0.7333333333333333,0.47058823529411764,1.)\"}, \"marker\": {\"color\": \"rgba(1.0,0.7333333333333333,0.47058823529411764,1.)\", \"size\": 8, \"symbol\": \"circle\"}, \"mode\": \"lines+markers\", \"name\": \"VDAC1_N-term A(ace)2_lf\", \"showlegend\": true, \"visible\": true, \"x\": [0], \"y\": [-2.920293300211007], \"type\": \"scatter\", \"uid\": \"c0e4ad6e-7cce-493a-8db6-eb7b0051a9a3\"}, {\"hoveron\": \"points\", \"legendgroup\": \"group_VDAC1_N-term A(ace)2_lf\", \"line\": {\"color\": \"rgba(1.0,0.7333333333333333,0.47058823529411764,1.)\"}, \"marker\": {\"color\": \"rgba(1.0,0.7333333333333333,0.47058823529411764,1.)\", \"size\": 12, \"symbol\": \"x-open-dot\"}, \"mode\": \"markers\", \"name\": \"VDAC1_N-term A(ace)2_lf\", \"showlegend\": false, \"visible\": true, \"x\": [], \"y\": [], \"type\": \"scatter\", \"uid\": \"0fa6c40e-6553-4fdf-ba7a-af35760c988a\"}, {\"hoveron\": \"points\", \"legendgroup\": \"group_VDAC1_lf\", \"line\": {\"color\": \"rgba(0.17254901960784313,0.6274509803921569,0.17254901960784313,1.)\"}, \"marker\": {\"color\": \"rgba(0.17254901960784313,0.6274509803921569,0.17254901960784313,1.)\", \"size\": 8, \"symbol\": \"circle\"}, \"mode\": \"lines+markers\", \"name\": \"VDAC1_lf\", \"showlegend\": true, \"visible\": true, \"x\": [0, 0, 1, 2, 3], \"y\": [-1.9927684307689242, -1.480265122054463, 0.25096157353321874, 2.526068811667588, 5.8938475581329195], \"type\": \"scatter\", \"uid\": \"cffca0a9-7523-44d2-8b66-0fbbadcd15bb\"}, {\"hoveron\": \"points\", \"legendgroup\": \"group_VDAC1_lf\", \"line\": {\"color\": \"rgba(0.17254901960784313,0.6274509803921569,0.17254901960784313,1.)\"}, \"marker\": {\"color\": \"rgba(0.17254901960784313,0.6274509803921569,0.17254901960784313,1.)\", \"size\": 12, \"symbol\": \"x-open-dot\"}, \"mode\": \"markers\", \"name\": \"VDAC1_lf\", \"showlegend\": false, \"visible\": true, \"x\": [0, 2, 3], \"y\": [-1.9927684307689242, 2.526068811667588, 5.8938475581329195], \"type\": \"scatter\", \"uid\": \"3d912430-674e-428a-af64-f8fa13bebaf2\"}], {\"hovermode\": \"closest\", \"showlegend\": true, \"updatemenus\": [{\"buttons\": [{\"args\": [\"visible\", [true, true, true, true, true, true, true, true, true, true]], \"label\": \"All\", \"method\": \"restyle\"}, {\"args\": [\"visible\", [true, true, true, true, true, true, false, false, false, false]], \"label\": \"LMNA\", \"method\": \"restyle\"}, {\"args\": [\"visible\", [false, false, false, false, false, false, true, true, true, true]], \"label\": \"VDAC1\", \"method\": \"restyle\"}], \"x\": -0.05, \"y\": 1, \"yanchor\": \"top\"}], \"xaxis\": {\"range\": [0, 3], \"showticklabels\": true, \"tickmode\": \"array\", \"ticktext\": [\"01hr\", \"06hr\", \"24hr\", \"48hr\"], \"tickvals\": [0, 1, 2, 3], \"title\": {\"text\": \"Sample index\"}}, \"yaxis\": {\"title\": {\"text\": \"log2fc\"}}}, {\"showLink\": false, \"linkText\": \"Export to plot.ly\", \"plotlyServerURL\": \"https://plot.ly\"})});</script><script type=\"text/javascript\">window.addEventListener(\"resize\", function(){window._Plotly.Plots.resize(document.getElementById(\"81316e49-1a7e-4829-8279-807e94c6beb8\"));});</script>"
      ],
      "text/vnd.plotly.v1+html": [
       "<div id=\"81316e49-1a7e-4829-8279-807e94c6beb8\" style=\"height: 525px; width: 100%;\" class=\"plotly-graph-div\"></div><script type=\"text/javascript\">require([\"plotly\"], function(Plotly) { window.PLOTLYENV=window.PLOTLYENV || {};window.PLOTLYENV.BASE_URL=\"https://plot.ly\";Plotly.newPlot(\"81316e49-1a7e-4829-8279-807e94c6beb8\", [{\"hoveron\": \"points\", \"legendgroup\": \"group_LMNA_S(ph)22_lf\", \"line\": {\"color\": \"rgba(0.12156862745098039,0.4666666666666667,0.7058823529411765,1.)\"}, \"marker\": {\"color\": \"rgba(0.12156862745098039,0.4666666666666667,0.7058823529411765,1.)\", \"size\": 8, \"symbol\": \"circle\"}, \"mode\": \"lines+markers\", \"name\": \"LMNA_S(ph)22_lf\", \"showlegend\": true, \"visible\": true, \"x\": [0, 1, 3], \"y\": [0.02856915219677092, -0.5849625007211562, 1.4489009511451278], \"type\": \"scatter\", \"uid\": \"6a1dd472-8c1d-4108-a2f9-5d066bf6ed9c\"}, {\"hoveron\": \"points\", \"legendgroup\": \"group_LMNA_S(ph)22_lf\", \"line\": {\"color\": \"rgba(0.12156862745098039,0.4666666666666667,0.7058823529411765,1.)\"}, \"marker\": {\"color\": \"rgba(0.12156862745098039,0.4666666666666667,0.7058823529411765,1.)\", \"size\": 12, \"symbol\": \"x-open-dot\"}, \"mode\": \"markers\", \"name\": \"LMNA_S(ph)22_lf\", \"showlegend\": false, \"visible\": true, \"x\": [1, 3], \"y\": [-0.5849625007211562, 1.4489009511451278], \"type\": \"scatter\", \"uid\": \"a6f532da-b028-4075-a24b-35e0f83de16f\"}, {\"hoveron\": \"points\", \"legendgroup\": \"group_LMNA_S(ph)392_lf\", \"line\": {\"color\": \"rgba(0.6823529411764706,0.7803921568627451,0.9098039215686274,1.)\"}, \"marker\": {\"color\": \"rgba(0.6823529411764706,0.7803921568627451,0.9098039215686274,1.)\", \"size\": 8, \"symbol\": \"circle\"}, \"mode\": \"lines+markers\", \"name\": \"LMNA_S(ph)392_lf\", \"showlegend\": true, \"visible\": true, \"x\": [0], \"y\": [-2.7398481026993275], \"type\": \"scatter\", \"uid\": \"4164cbbd-0be2-4bf9-97b0-2e26e3441bb4\"}, {\"hoveron\": \"points\", \"legendgroup\": \"group_LMNA_S(ph)392_lf\", \"line\": {\"color\": \"rgba(0.6823529411764706,0.7803921568627451,0.9098039215686274,1.)\"}, \"marker\": {\"color\": \"rgba(0.6823529411764706,0.7803921568627451,0.9098039215686274,1.)\", \"size\": 12, \"symbol\": \"x-open-dot\"}, \"mode\": \"markers\", \"name\": \"LMNA_S(ph)392_lf\", \"showlegend\": false, \"visible\": true, \"x\": [], \"y\": [], \"type\": \"scatter\", \"uid\": \"a9d8dc63-5b78-47bb-b355-3b977e5f8a05\"}, {\"hoveron\": \"points\", \"legendgroup\": \"group_LMNA_lf\", \"line\": {\"color\": \"rgba(1.0,0.4980392156862745,0.054901960784313725,1.)\"}, \"marker\": {\"color\": \"rgba(1.0,0.4980392156862745,0.054901960784313725,1.)\", \"size\": 8, \"symbol\": \"circle\"}, \"mode\": \"lines+markers\", \"name\": \"LMNA_lf\", \"showlegend\": true, \"visible\": true, \"x\": [0, 0, 1, 2, 3], \"y\": [-1.835924074254375, -1.2141248053528473, -0.36737106564852945, 0.9781956296816515, 1.7484612330040354], \"type\": \"scatter\", \"uid\": \"330b9cf9-2095-4d0f-ab2f-3d1b8973c40e\"}, {\"hoveron\": \"points\", \"legendgroup\": \"group_LMNA_lf\", \"line\": {\"color\": \"rgba(1.0,0.4980392156862745,0.054901960784313725,1.)\"}, \"marker\": {\"color\": \"rgba(1.0,0.4980392156862745,0.054901960784313725,1.)\", \"size\": 12, \"symbol\": \"x-open-dot\"}, \"mode\": \"markers\", \"name\": \"LMNA_lf\", \"showlegend\": false, \"visible\": true, \"x\": [0, 0, 2, 3], \"y\": [-1.835924074254375, -1.2141248053528473, 0.9781956296816515, 1.7484612330040354], \"type\": \"scatter\", \"uid\": \"846a1381-6112-4748-a6f9-651adee4934f\"}, {\"hoveron\": \"points\", \"legendgroup\": \"group_VDAC1_N-term A(ace)2_lf\", \"line\": {\"color\": \"rgba(1.0,0.7333333333333333,0.47058823529411764,1.)\"}, \"marker\": {\"color\": \"rgba(1.0,0.7333333333333333,0.47058823529411764,1.)\", \"size\": 8, \"symbol\": \"circle\"}, \"mode\": \"lines+markers\", \"name\": \"VDAC1_N-term A(ace)2_lf\", \"showlegend\": true, \"visible\": true, \"x\": [0], \"y\": [-2.920293300211007], \"type\": \"scatter\", \"uid\": \"c0e4ad6e-7cce-493a-8db6-eb7b0051a9a3\"}, {\"hoveron\": \"points\", \"legendgroup\": \"group_VDAC1_N-term A(ace)2_lf\", \"line\": {\"color\": \"rgba(1.0,0.7333333333333333,0.47058823529411764,1.)\"}, \"marker\": {\"color\": \"rgba(1.0,0.7333333333333333,0.47058823529411764,1.)\", \"size\": 12, \"symbol\": \"x-open-dot\"}, \"mode\": \"markers\", \"name\": \"VDAC1_N-term A(ace)2_lf\", \"showlegend\": false, \"visible\": true, \"x\": [], \"y\": [], \"type\": \"scatter\", \"uid\": \"0fa6c40e-6553-4fdf-ba7a-af35760c988a\"}, {\"hoveron\": \"points\", \"legendgroup\": \"group_VDAC1_lf\", \"line\": {\"color\": \"rgba(0.17254901960784313,0.6274509803921569,0.17254901960784313,1.)\"}, \"marker\": {\"color\": \"rgba(0.17254901960784313,0.6274509803921569,0.17254901960784313,1.)\", \"size\": 8, \"symbol\": \"circle\"}, \"mode\": \"lines+markers\", \"name\": \"VDAC1_lf\", \"showlegend\": true, \"visible\": true, \"x\": [0, 0, 1, 2, 3], \"y\": [-1.9927684307689242, -1.480265122054463, 0.25096157353321874, 2.526068811667588, 5.8938475581329195], \"type\": \"scatter\", \"uid\": \"cffca0a9-7523-44d2-8b66-0fbbadcd15bb\"}, {\"hoveron\": \"points\", \"legendgroup\": \"group_VDAC1_lf\", \"line\": {\"color\": \"rgba(0.17254901960784313,0.6274509803921569,0.17254901960784313,1.)\"}, \"marker\": {\"color\": \"rgba(0.17254901960784313,0.6274509803921569,0.17254901960784313,1.)\", \"size\": 12, \"symbol\": \"x-open-dot\"}, \"mode\": \"markers\", \"name\": \"VDAC1_lf\", \"showlegend\": false, \"visible\": true, \"x\": [0, 2, 3], \"y\": [-1.9927684307689242, 2.526068811667588, 5.8938475581329195], \"type\": \"scatter\", \"uid\": \"3d912430-674e-428a-af64-f8fa13bebaf2\"}], {\"hovermode\": \"closest\", \"showlegend\": true, \"updatemenus\": [{\"buttons\": [{\"args\": [\"visible\", [true, true, true, true, true, true, true, true, true, true]], \"label\": \"All\", \"method\": \"restyle\"}, {\"args\": [\"visible\", [true, true, true, true, true, true, false, false, false, false]], \"label\": \"LMNA\", \"method\": \"restyle\"}, {\"args\": [\"visible\", [false, false, false, false, false, false, true, true, true, true]], \"label\": \"VDAC1\", \"method\": \"restyle\"}], \"x\": -0.05, \"y\": 1, \"yanchor\": \"top\"}], \"xaxis\": {\"range\": [0, 3], \"showticklabels\": true, \"tickmode\": \"array\", \"ticktext\": [\"01hr\", \"06hr\", \"24hr\", \"48hr\"], \"tickvals\": [0, 1, 2, 3], \"title\": {\"text\": \"Sample index\"}}, \"yaxis\": {\"title\": {\"text\": \"log2fc\"}}}, {\"showLink\": false, \"linkText\": \"Export to plot.ly\", \"plotlyServerURL\": \"https://plot.ly\"})});</script><script type=\"text/javascript\">window.addEventListener(\"resize\", function(){window._Plotly.Plots.resize(document.getElementById(\"81316e49-1a7e-4829-8279-807e94c6beb8\"));});</script>"
      ]
     },
     "metadata": {},
     "output_type": "display_data"
    }
   ],
   "source": [
    "exp_data.label_free.plot_species(['LMNA', 'VDAC1'], plot_type='plotly')"
   ]
  },
  {
   "cell_type": "markdown",
   "metadata": {},
   "source": [
    "### matplotlib"
   ]
  },
  {
   "cell_type": "code",
   "execution_count": 24,
   "metadata": {},
   "outputs": [
    {
     "data": {
      "image/png": "[encoded data removed]",
      "text/plain": [
       "<Figure size 432x288 with 1 Axes>"
      ]
     },
     "metadata": {
      "needs_background": "light"
     },
     "output_type": "display_data"
    }
   ],
   "source": [
    "exp_data.label_free.plot_species(['LMNA', 'VDAC1'], plot_type='matplotlib');"
   ]
  },
  {
   "cell_type": "markdown",
   "metadata": {},
   "source": [
    "### Heatplots"
   ]
  },
  {
   "cell_type": "code",
   "execution_count": 25,
   "metadata": {},
   "outputs": [
    {
     "data": {
      "image/png": "[encoded data removed]",
      "text/plain": [
       "<Figure size 432x288 with 2 Axes>"
      ]
     },
     "metadata": {
      "needs_background": "light"
     },
     "output_type": "display_data"
    }
   ],
   "source": [
    "exp_data.label_free.heatmap(\n",
    "    ['LMNA', 'VDAC1'], \n",
    "    figsize=(6,4), \n",
    "    linewidths=0.01\n",
    ");"
   ]
  },
  {
   "cell_type": "markdown",
   "metadata": {},
   "source": [
    "Notice that the above splot doesn't show any of the modifiers of LMBA (no _s(ph)22_lf). This is because the default index to pivot plots is the 'identifier' column. You can set the 'label' column for plotting by passing index='label' to the function. Note, if you want to filter the data using the more generic 'identifier' column, you just specify that with subset_index='identifier'"
   ]
  },
  {
   "cell_type": "code",
   "execution_count": 26,
   "metadata": {},
   "outputs": [
    {
     "data": {
      "image/png": "[encoded data removed]",
      "text/plain": [
       "<Figure size 432x288 with 2 Axes>"
      ]
     },
     "metadata": {
      "needs_background": "light"
     },
     "output_type": "display_data"
    }
   ],
   "source": [
    "exp_data.label_free.heatmap(\n",
    "    ['LMNA', 'VDAC1'], \n",
    "    subset_index='identifier', \n",
    "    index='label',\n",
    "    figsize=(6,4), \n",
    "    linewidths=0.01\n",
    ");"
   ]
  },
  {
   "cell_type": "markdown",
   "metadata": {},
   "source": [
    "We can also chain together the expressions to select subsets, then view in one line."
   ]
  },
  {
   "cell_type": "code",
   "execution_count": 27,
   "metadata": {},
   "outputs": [
    {
     "name": "stdout",
     "output_type": "stream",
     "text": [
      "Number in index went from 775 to 24\n"
     ]
    },
    {
     "data": {
      "image/png": "[encoded data removed]",
      "text/plain": [
       "<Figure size 432x288 with 1 Axes>"
      ]
     },
     "metadata": {
      "needs_background": "light"
     },
     "output_type": "display_data"
    }
   ],
   "source": [
    "exp_data.label_free.down.filter_by_minimum_sig_columns(min_terms=3).plot_species(plot_type='matplotlib');"
   ]
  },
  {
   "cell_type": "code",
   "execution_count": 28,
   "metadata": {},
   "outputs": [
    {
     "name": "stdout",
     "output_type": "stream",
     "text": [
      "Number in index went from 775 to 24\n"
     ]
    },
    {
     "data": {
      "image/png": "[encoded data removed]",
      "text/plain": [
       "<Figure size 576x864 with 2 Axes>"
      ]
     },
     "metadata": {
      "needs_background": "light"
     },
     "output_type": "display_data"
    }
   ],
   "source": [
    "exp_data.label_free.down.filter_by_minimum_sig_columns(min_terms=3).heatmap(linewidths=0.01);"
   ]
  },
  {
   "cell_type": "code",
   "execution_count": 29,
   "metadata": {},
   "outputs": [
    {
     "data": {
      "image/png": "[encoded data removed]",
      "text/plain": [
       "<Figure size 432x288 with 1 Axes>"
      ]
     },
     "metadata": {
      "needs_background": "light"
     },
     "output_type": "display_data"
    },
    {
     "data": {
      "image/png": "[encoded data removed]",
      "text/plain": [
       "<Figure size 432x288 with 1 Axes>"
      ]
     },
     "metadata": {
      "needs_background": "light"
     },
     "output_type": "display_data"
    }
   ],
   "source": [
    "v_plot = exp_data.label_free.volcano_plot(save_name='lf_volcano')\n",
    "hist_plot = exp_data.label_free.create_histogram_measurements('hist')"
   ]
  },
  {
   "cell_type": "code",
   "execution_count": 30,
   "metadata": {},
   "outputs": [
    {
     "data": {
      "image/png": "[encoded data removed]",
      "text/plain": [
       "<Figure size 576x432 with 4 Axes>"
      ]
     },
     "execution_count": 30,
     "metadata": {},
     "output_type": "execute_result"
    },
    {
     "data": {
      "image/png": "[encoded data removed]",
      "text/plain": [
       "<Figure size 576x432 with 4 Axes>"
      ]
     },
     "metadata": {
      "needs_background": "light"
     },
     "output_type": "display_data"
    }
   ],
   "source": [
    "exp_data.label_free.time_series_volcano(sig_column=True)"
   ]
  },
  {
   "cell_type": "markdown",
   "metadata": {},
   "source": [
    "## Extending to other plots\n",
    "\n",
    "Since our exp_data is built off a pandas.DataFrame, we can use other packages that take that data format. Seaborn is one such tool that provides some very nice plots."
   ]
  },
  {
   "cell_type": "code",
   "execution_count": 31,
   "metadata": {},
   "outputs": [
    {
     "name": "stderr",
     "output_type": "stream",
     "text": [
      "c:\\users\\pinojc\\miniconda3\\envs\\magine_36\\lib\\site-packages\\scipy\\stats\\stats.py:1713: FutureWarning:\n",
      "\n",
      "Using a non-tuple sequence for multidimensional indexing is deprecated; use `arr[tuple(seq)]` instead of `arr[seq]`. In the future this will be interpreted as an array index, `arr[np.array(seq)]`, which will result either in an error or a different result.\n",
      "\n"
     ]
    },
    {
     "data": {
      "image/png": "[encoded data removed]",
      "text/plain": [
       "<Figure size 819x504 with 2 Axes>"
      ]
     },
     "metadata": {
      "needs_background": "light"
     },
     "output_type": "display_data"
    }
   ],
   "source": [
    "label_free = exp_data.label_free.copy()\n",
    "label_free.log2_normalize_df(column='fold_change', inplace=True)\n",
    "\n",
    "g = sns.PairGrid(label_free,\n",
    "                 x_vars=('sample_id'),\n",
    "                 y_vars=('fold_change', 'p_value'),\n",
    "                 hue='source',\n",
    "                 aspect=3.25, height=3.5)\n",
    "g.map(\n",
    "    sns.violinplot, \n",
    "    palette=\"pastel\", \n",
    "    split=True,\n",
    "    order=list(label_free.sample_ids)\n",
    ");"
   ]
  },
  {
   "cell_type": "markdown",
   "metadata": {
    "collapsed": true
   },
   "source": [
    "## Venn diagram comparisons between measurements"
   ]
  },
  {
   "cell_type": "code",
   "execution_count": 32,
   "metadata": {},
   "outputs": [
    {
     "data": {
      "image/png": "[encoded data removed]",
      "text/plain": [
       "<Figure size 432x288 with 1 Axes>"
      ]
     },
     "metadata": {},
     "output_type": "display_data"
    }
   ],
   "source": [
    "lf = exp_data.label_free.sig.id_list\n",
    "silac = exp_data.silac.sig.id_list\n",
    "phsilac = exp_data.ph_silac.sig.id_list\n",
    "\n",
    "create_venn3(lf, silac, phsilac, 'LF', 'SILAC', 'ph-SILAC');"
   ]
  },
  {
   "cell_type": "code",
   "execution_count": 33,
   "metadata": {},
   "outputs": [
    {
     "data": {
      "image/png": "[encoded data removed]",
      "text/plain": [
       "<Figure size 432x288 with 1 Axes>"
      ]
     },
     "metadata": {},
     "output_type": "display_data"
    }
   ],
   "source": [
    "hilic = exp_data.HILIC.sig.id_list\n",
    "rplc = exp_data.C18.sig.id_list\n",
    "\n",
    "create_venn2(hilic, rplc, 'HILIC', 'RPLC');"
   ]
  },
  {
   "cell_type": "code",
   "execution_count": null,
   "metadata": {},
   "outputs": [],
   "source": []
  }
 ],
 "metadata": {
  "kernelspec": {
   "display_name": "Python 3",
   "language": "python",
   "name": "python3"
  },
  "language_info": {
   "codemirror_mode": {
    "name": "ipython",
    "version": 3
   },
   "file_extension": ".py",
   "mimetype": "text/x-python",
   "name": "python",
   "nbconvert_exporter": "python",
   "pygments_lexer": "ipython3",
   "version": "3.6.8"
  },
  "toc": {
   "base_numbering": 1,
   "nav_menu": {},
   "number_sections": true,
   "sideBar": true,
   "skip_h1_title": false,
   "title_cell": "Table of Contents",
   "title_sidebar": "Contents",
   "toc_cell": false,
   "toc_position": {},
   "toc_section_display": true,
   "toc_window_display": false
  }
 },
 "nbformat": 4,
 "nbformat_minor": 2
}

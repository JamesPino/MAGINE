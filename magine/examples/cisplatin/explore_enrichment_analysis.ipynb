{
 "cells": [
  {
   "cell_type": "code",
   "execution_count": null,
   "metadata": {},
   "outputs": [],
   "source": [
    "# load general tools\n",
    "import sys\n",
    "sys.path.append(\"../..\")\n",
    "from IPython.display import display\n",
    "%matplotlib inline\n",
    "import networkx as nx\n",
    "import matplotlib.pyplot as plt\n",
    "import seaborn as sns\n",
    "import pandas as pd\n",
    "pd.set_option('display.precision', 2)\n",
    "pd.set_option('display.max_colwidth', 50)"
   ]
  },
  {
   "cell_type": "code",
   "execution_count": null,
   "metadata": {},
   "outputs": [],
   "source": [
    "# load magine specific tools\n",
    "import magine.networks.ontology_network as nt\n",
    "import magine.networks.visualization.notebooks.view as view\n",
    "from magine.enrichment import load_enrichment_csv\n",
    "\n",
    "from magine.plotting.heatmaps import heatmap_from_array, heatmap_by_category\n",
    "from magine.plotting.venn_diagram_maker import create_venn2\n",
    "from magine.plotting.wordcloud_tools import create_wordcloud\n",
    "\n",
    "from magine.networks.utils import trim_sink_source_nodes, delete_disconnected_network\n",
    "from magine.networks.visualization.igraph_tools import paint_network_overtime\n",
    "from magine.networks.subgraphs import Subgraph\n",
    "from magine.enrichment.enrichr import db_types"
   ]
  },
  {
   "cell_type": "code",
   "execution_count": null,
   "metadata": {},
   "outputs": [],
   "source": [
    "from exp_data import exp_data\n",
    "network = nx.read_gpickle('Networks/cisplatin_network_w_attributes.p')\n",
    "net_sub = Subgraph(network)"
   ]
  },
  {
   "cell_type": "markdown",
   "metadata": {},
   "source": [
    "# Exploring enrichment output"
   ]
  },
  {
   "cell_type": "markdown",
   "metadata": {},
   "source": [
    "Here we load in the results from enrichR"
   ]
  },
  {
   "cell_type": "code",
   "execution_count": null,
   "metadata": {},
   "outputs": [],
   "source": [
    "enrichment_array = load_enrichment_csv('Data/cisplatin_enrichment.csv.gz', index_col=0)\n",
    "enrichment_array['significant'] = False\n",
    "enrichment_array.loc[enrichment_array['adj_p_value']<=0.05, 'significant'] = True"
   ]
  },
  {
   "cell_type": "code",
   "execution_count": null,
   "metadata": {},
   "outputs": [],
   "source": [
    "all_data = enrichment_array.filter_multi(\n",
    "    p_value=0.05, # only sig pvalues\n",
    "    combined_score=1.0, # score threshold of positive values \n",
    "    db=[ 'Reactome_2016'],\n",
    "#         category=['rna_up', 'rna_down']\n",
    "    category=['proteomics_up', 'proteomics_down']\n",
    ")\n",
    "print(db_types['pathways'],)\n",
    "all_data['term_name'] = all_data['term_name'].str.split('_').str.get(0)\n"
   ]
  },
  {
   "cell_type": "code",
   "execution_count": null,
   "metadata": {},
   "outputs": [],
   "source": [
    "all_data.remove_redundant(inplace=True, level='sample', threshold=.75)\n",
    "all_data.remove_redundant(inplace=True, level='dataframe', threshold=.75)\n",
    "print(all_data.shape)\n",
    "all_data.filter_by_minimum_sig_columns(columns='sample_id', \n",
    "                                       index=['term_name', 'category'],\n",
    "                                       min_terms=2, \n",
    "                                       inplace=True)\n",
    "print(all_data.shape)\n"
   ]
  },
  {
   "cell_type": "code",
   "execution_count": null,
   "metadata": {},
   "outputs": [],
   "source": [
    "all_data.dist_matrix(level='sample', fig_size=(14,14));"
   ]
  },
  {
   "cell_type": "code",
   "execution_count": null,
   "metadata": {
    "scrolled": false
   },
   "outputs": [],
   "source": [
    "heatmap_from_array(all_data, convert_to_log=True, index='term_name',\n",
    "                   columns=['category', 'sample_id'],\n",
    "                   fig_size=(6,14), annotate_sig=True, linewidths=.01,\n",
    "                   cluster_row=True, cluster_by_set=True);"
   ]
  },
  {
   "cell_type": "code",
   "execution_count": null,
   "metadata": {},
   "outputs": [],
   "source": [
    "heatmap_from_array(all_data, convert_to_log=True, index='term_name',\n",
    "                   columns=['category', 'sample_id'],\n",
    "                   fig_size=(6,14), annotate_sig=True, linewidths=.01,\n",
    "                   cluster_row=True);"
   ]
  },
  {
   "cell_type": "code",
   "execution_count": null,
   "metadata": {},
   "outputs": [],
   "source": [
    "heatmap_by_category(all_data=all_data);"
   ]
  },
  {
   "cell_type": "code",
   "execution_count": null,
   "metadata": {},
   "outputs": [],
   "source": [
    "display(enrichment_array.head(5))"
   ]
  },
  {
   "cell_type": "code",
   "execution_count": null,
   "metadata": {},
   "outputs": [],
   "source": [
    "# clean up printing by selecting fewer columns\n",
    "cols = ['term_name', 'rank', 'combined_score', 'n_genes', 'genes', 'sample_id']"
   ]
  },
  {
   "cell_type": "code",
   "execution_count": null,
   "metadata": {},
   "outputs": [],
   "source": [
    "display(enrichment_array[cols].head(5))"
   ]
  },
  {
   "cell_type": "markdown",
   "metadata": {},
   "source": [
    "## Data stats"
   ]
  },
  {
   "cell_type": "code",
   "execution_count": null,
   "metadata": {},
   "outputs": [],
   "source": [
    "# column types\n",
    "print(enrichment_array.dtypes)"
   ]
  },
  {
   "cell_type": "code",
   "execution_count": null,
   "metadata": {},
   "outputs": [],
   "source": [
    "# databases \n",
    "print(sorted(enrichment_array['db'].unique()))"
   ]
  },
  {
   "cell_type": "code",
   "execution_count": null,
   "metadata": {},
   "outputs": [],
   "source": [
    "# filter only sig terms\n",
    "sig = enrichment_array[enrichment_array['significant_flag']].copy()"
   ]
  },
  {
   "cell_type": "markdown",
   "metadata": {
    "collapsed": true
   },
   "source": [
    "## Filtering and searching the dataframe"
   ]
  },
  {
   "cell_type": "code",
   "execution_count": null,
   "metadata": {
    "scrolled": false
   },
   "outputs": [],
   "source": [
    "# Filter by terms\n",
    "d = sig.filter_based_on_words(['death'])\n",
    "display(d.sort_values('combined_score', ascending=False).head(5))"
   ]
  },
  {
   "cell_type": "code",
   "execution_count": null,
   "metadata": {},
   "outputs": [],
   "source": [
    "drug_dbs = ['DrugMatrix', 'Drug_Perturbations_from_GEO_2014']\n",
    "drug = enrichment_array.filter_multi(\n",
    "    p_value=0.05,\n",
    "    combined_score=0.0, \n",
    "    db=drug_dbs,\n",
    "    rank=100,\n",
    "    #category='rna_up',\n",
    ")"
   ]
  },
  {
   "cell_type": "code",
   "execution_count": null,
   "metadata": {},
   "outputs": [],
   "source": [
    "word_cloud = create_wordcloud(drug)\n",
    "word_cloud.plot('wc_drug_dbs_example.png');"
   ]
  },
  {
   "cell_type": "code",
   "execution_count": null,
   "metadata": {
    "scrolled": true
   },
   "outputs": [],
   "source": [
    "word_cloud.data.head(10)"
   ]
  },
  {
   "cell_type": "markdown",
   "metadata": {},
   "source": [
    "# Single database exploration\n",
    "\n",
    "Here we will focus on the Reactome enrichment."
   ]
  },
  {
   "cell_type": "code",
   "execution_count": null,
   "metadata": {},
   "outputs": [],
   "source": [
    "reactome_only = enrichment_array.filter_multi(\n",
    "    p_value=0.05, # only sig pvalues\n",
    "    combined_score=0.0, # score threshold of positive values \n",
    "    db='Reactome_2016', # Only reactome db\n",
    "    category='proteomics_up', # from this category\n",
    "    rank=100, # select top 100 from each time point\n",
    ")"
   ]
  },
  {
   "cell_type": "code",
   "execution_count": null,
   "metadata": {},
   "outputs": [],
   "source": [
    "# This cleans up the term name\n",
    "display(reactome_only['term_name'].head(5))\n",
    "reactome_only['term_name'] = reactome_only['term_name'].str.split('_').str.get(0)\n",
    "display(reactome_only['term_name'].head(5))"
   ]
  },
  {
   "cell_type": "code",
   "execution_count": null,
   "metadata": {},
   "outputs": [],
   "source": [
    "d = reactome_only.filter_based_on_words(['apop'])\n",
    "display(d.sort_values('combined_score', ascending=False).head(15)[cols])"
   ]
  },
  {
   "cell_type": "markdown",
   "metadata": {},
   "source": [
    "It is interesting that at the first time point, *apoptotic cleavage of cellular proteins* is up-regulated. Further inspecting this, we find proteins such as ACIN1"
   ]
  },
  {
   "cell_type": "code",
   "execution_count": null,
   "metadata": {},
   "outputs": [],
   "source": [
    "# we can use a word cloud to view what terms are enriched\n",
    "word_cloud = create_wordcloud(reactome_only)\n",
    "word_cloud.plot('wc_example.png');"
   ]
  },
  {
   "cell_type": "code",
   "execution_count": null,
   "metadata": {
    "scrolled": false
   },
   "outputs": [],
   "source": [
    "display(reactome_only[cols].head(15))"
   ]
  },
  {
   "cell_type": "code",
   "execution_count": null,
   "metadata": {},
   "outputs": [],
   "source": [
    "# let's look at the sizes of genes per term\n",
    "plt.hist(reactome_only['n_genes'], bins=20)\n",
    "display(reactome_only.describe())"
   ]
  },
  {
   "cell_type": "code",
   "execution_count": null,
   "metadata": {
    "scrolled": true
   },
   "outputs": [],
   "source": [
    "display(reactome_only.sort_values('n_genes', ascending=False)[cols].head(30))\n",
    "display(reactome_only.sort_values('n_genes', ascending=False)[cols].head(30)['term_name'].values)"
   ]
  },
  {
   "cell_type": "code",
   "execution_count": null,
   "metadata": {},
   "outputs": [],
   "source": [
    "# Manually select terms with large number of genes that are not useful.\n",
    "# This is based on person intuition. \"Gene expression\" and \"metabolism\" might be useful for some, but \n",
    "# here I will elimate as they are not descriptive enough to explain what the drug is doing.\n",
    "\n",
    "not_useful = ['metabolism', 'gene expression',\n",
    "              'metabolism of proteins', 'disease',\n",
    "              'infectious disease', 'immune system',\n",
    "              'metabolism of amino acids and derivatives',\n",
    "              'major pathway of rrna processing in the nucleolus',\n",
    "              'influenza life cycle', 'developmental biology',\n",
    "              'processing of capped intron-containing pre-mrna',\n",
    "              'mrna splicing - major pathway',\n",
    "              'mrna splicing - minor pathway',\n",
    "              'innate immune system', 'cell-cell communication',\n",
    "              'diseases of signal transduction', 'mrna splicing'\n",
    "             ]"
   ]
  },
  {
   "cell_type": "code",
   "execution_count": null,
   "metadata": {},
   "outputs": [],
   "source": [
    "reactome_only = reactome_only.loc[~reactome_only['term_name'].isin(not_useful)]\n",
    "\n",
    "display(reactome_only.sort_values('n_genes', ascending=False)[cols].head(15))"
   ]
  },
  {
   "cell_type": "code",
   "execution_count": null,
   "metadata": {},
   "outputs": [],
   "source": [
    "# Now lets look at the first time point. \n",
    "\n",
    "test_df = reactome_only.filter_multi(sample_id='01hr')\n",
    "display(test_df.head(10)[cols])\n",
    "display(test_df.head(10)[cols].term_name.values)"
   ]
  },
  {
   "cell_type": "markdown",
   "metadata": {},
   "source": [
    "There are 76 enriched terms. If we look at the top ranked terms, we see that some fo them have similar descriptions \"Interlekin...\". If we look at the gene list, we can also see that some of the genes are similar. To see if there are redundant terms that are enriched, we can calculate their similarity with the Jaccard Index (intersection over union).\n",
    "![width=50](https://wikimedia.org/api/rest_v1/media/math/render/svg/eaef5aa86949f49e7dc6b9c8c3dd8b233332c9e7)\n",
    "<img src=\"https://upload.wikimedia.org/wikipedia/commons/c/c7/Intersection_over_Union_-_visual_equation.png\" alt=\"Drawing\" style=\"width: 300px;\"/>"
   ]
  },
  {
   "cell_type": "code",
   "execution_count": null,
   "metadata": {},
   "outputs": [],
   "source": [
    "test_df.dist_matrix(fig_size=(12,12));"
   ]
  },
  {
   "cell_type": "code",
   "execution_count": null,
   "metadata": {},
   "outputs": [],
   "source": [
    "# Valculate the Jaccard Index and returns a ranked dataframe of terms and scores.\n",
    "# Higher scores means more similar terms\n",
    "d = test_df.find_similar_terms('cell cycle')\n",
    "display(d.head(10))"
   ]
  },
  {
   "cell_type": "code",
   "execution_count": null,
   "metadata": {},
   "outputs": [],
   "source": [
    "d = test_df.find_similar_terms('interleukin-2 signaling')\n",
    "display(d.head(10))"
   ]
  },
  {
   "cell_type": "code",
   "execution_count": null,
   "metadata": {
    "scrolled": false
   },
   "outputs": [],
   "source": [
    "d = test_df.find_similar_terms('mapk family signaling cascades')\n",
    "display(d.head(10))"
   ]
  },
  {
   "cell_type": "markdown",
   "metadata": {},
   "source": [
    "We can do this for all terms and view the results in a distance matrix."
   ]
  },
  {
   "cell_type": "markdown",
   "metadata": {},
   "source": [
    "The dark red represents terms that are highly similar. We can filter all highly similar terms from the matrix."
   ]
  },
  {
   "cell_type": "code",
   "execution_count": null,
   "metadata": {},
   "outputs": [],
   "source": [
    "test_df.remove_redundant(threshold=.7, level='sample', inplace=True)\n",
    "test_df.dist_matrix();"
   ]
  },
  {
   "cell_type": "code",
   "execution_count": null,
   "metadata": {},
   "outputs": [],
   "source": [
    "test_df[cols].head(25)"
   ]
  },
  {
   "cell_type": "code",
   "execution_count": null,
   "metadata": {},
   "outputs": [],
   "source": [
    "test_df.find_similar_terms('dna repair').head(10)"
   ]
  },
  {
   "cell_type": "code",
   "execution_count": null,
   "metadata": {},
   "outputs": [],
   "source": [
    "heatmap_from_array(test_df, convert_to_log=True, fig_size=(4, 6), linewidths=.05);"
   ]
  },
  {
   "cell_type": "code",
   "execution_count": null,
   "metadata": {},
   "outputs": [],
   "source": [
    "explore = [ 'dna repair', 'nucleotide excision repair', 'dual incision in gg-ner']\n",
    "subset = test_df.loc[test_df['term_name'].isin(explore)].copy()\n",
    "display(subset)"
   ]
  },
  {
   "cell_type": "code",
   "execution_count": null,
   "metadata": {},
   "outputs": [],
   "source": [
    "term_net, mol_net = nt.create_subnetwork( \n",
    "    test_df, \n",
    "    network, \n",
    "    \n",
    "    save_name='first_time_point', \n",
    "    create_only=True,\n",
    "    use_threshold=True,\n",
    "    use_fdr=False\n",
    ")\n",
    "print(len(mol_net.nodes))\n",
    "print(len(mol_net.edges))"
   ]
  },
  {
   "cell_type": "code",
   "execution_count": null,
   "metadata": {
    "scrolled": false
   },
   "outputs": [],
   "source": [
    "view.display_graph(term_net, add_parent=True)"
   ]
  },
  {
   "cell_type": "code",
   "execution_count": null,
   "metadata": {},
   "outputs": [],
   "source": [
    "view.display_graph(mol_net, add_parent=True)"
   ]
  },
  {
   "cell_type": "code",
   "execution_count": null,
   "metadata": {},
   "outputs": [],
   "source": [
    "hits = [\n",
    "        'dna repair', \n",
    "        'apoptosis',\n",
    "        'transcriptional regulation by tp53', \n",
    "        'g2/m checkpoints',\n",
    "        'm phase'\n",
    "        ]\n",
    "\n",
    "subset = reactome_only.loc[reactome_only['term_name'].isin(hits)].copy()\n",
    "heatmap_from_array(subset, \n",
    "                   convert_to_log=True, \n",
    "                   fig_size=(6, 8), \n",
    "                   cluster_row=False, \n",
    "                   annotate_sig=True);"
   ]
  },
  {
   "cell_type": "code",
   "execution_count": null,
   "metadata": {},
   "outputs": [],
   "source": [
    "explore = [ 'dna repair', 'g2/m checkpoints', 'apoptosis']\n",
    "subset = reactome_only.loc[reactome_only['term_name'].isin(explore)].copy()\n",
    "term_net, mol_net = nt.create_subnetwork( \n",
    "    subset, \n",
    "    network,  \n",
    "    save_name='selected_from_first_tp', \n",
    "    create_only=True,\n",
    "    use_threshold=True,\n",
    "    use_fdr=True,\n",
    ")\n",
    "for i,j,d in term_net.edges(data=True):\n",
    "    print(i,j,d)"
   ]
  },
  {
   "cell_type": "code",
   "execution_count": null,
   "metadata": {},
   "outputs": [],
   "source": [
    "view.display_graph(term_net, add_parent=True)\n"
   ]
  },
  {
   "cell_type": "code",
   "execution_count": null,
   "metadata": {
    "scrolled": false
   },
   "outputs": [],
   "source": [
    "# mol_net = trim_sink_source_nodes(mol_net)\n",
    "# mol_net = delete_disconnected_network(mol_net)\n",
    "view.display_graph(mol_net, add_parent=True)"
   ]
  },
  {
   "cell_type": "markdown",
   "metadata": {},
   "source": [
    "## Across all time points"
   ]
  },
  {
   "cell_type": "code",
   "execution_count": null,
   "metadata": {},
   "outputs": [],
   "source": [
    "reactome_all_time = reactome_only.remove_redundant(threshold=.6, level='sample')\n",
    "reactome_all_time.remove_redundant(threshold=.6, level='dataframe', inplace=True)\n",
    "reactome_all_time.dist_matrix();"
   ]
  },
  {
   "cell_type": "code",
   "execution_count": null,
   "metadata": {
    "scrolled": true
   },
   "outputs": [],
   "source": [
    "display(reactome_all_time[cols].head(20))"
   ]
  },
  {
   "cell_type": "code",
   "execution_count": null,
   "metadata": {
    "scrolled": true
   },
   "outputs": [],
   "source": [
    "reactome_all_time.find_similar_terms('formation of incision complex in gg-ner').head(10)"
   ]
  },
  {
   "cell_type": "code",
   "execution_count": null,
   "metadata": {
    "scrolled": true
   },
   "outputs": [],
   "source": [
    "reactome_all_time[reactome_all_time['term_name'] == 'apoptosis']"
   ]
  },
  {
   "cell_type": "code",
   "execution_count": null,
   "metadata": {},
   "outputs": [],
   "source": []
  },
  {
   "cell_type": "code",
   "execution_count": null,
   "metadata": {},
   "outputs": [],
   "source": [
    "reactome_all_time.filter_by_minimum_sig_columns(\n",
    "    index='term_name', columns='sample_id', min_terms=2,\n",
    "    inplace=True\n",
    ")\n",
    "reactome_all_time.remove_redundant(threshold=.5, level='dataframe', inplace=True)\n",
    "reactome_all_time.dist_matrix();"
   ]
  },
  {
   "cell_type": "code",
   "execution_count": null,
   "metadata": {
    "scrolled": true
   },
   "outputs": [],
   "source": [
    "reactome_all_time.sort_values(by=['combined_score',],\n",
    "                              inplace=True, \n",
    "                              ascending=False)\n",
    "display(reactome_all_time[cols].head(30))"
   ]
  },
  {
   "cell_type": "code",
   "execution_count": null,
   "metadata": {
    "scrolled": false
   },
   "outputs": [],
   "source": [
    "heatmap_from_array(reactome_all_time, \n",
    "                   convert_to_log=True, \n",
    "                   fig_size=(5, 9), \n",
    "                   cluster_row=False, \n",
    "                   annotate_sig=True);"
   ]
  },
  {
   "cell_type": "markdown",
   "metadata": {},
   "source": [
    "## Exploring all terms\n"
   ]
  },
  {
   "cell_type": "code",
   "execution_count": null,
   "metadata": {
    "scrolled": true
   },
   "outputs": [],
   "source": [
    "term_net, mol_net = nt.create_subnetwork( \n",
    "    reactome_all_time, network,\n",
    "    terms=reactome_all_time['term_name'],  \n",
    "    save_name='all_example',\n",
    "    create_only=False,\n",
    "    use_threshold=True\n",
    ")"
   ]
  },
  {
   "cell_type": "code",
   "execution_count": null,
   "metadata": {},
   "outputs": [],
   "source": [
    "explore = ['signalling by ngf', 'axon guidance']\n",
    "subset = reactome_only.loc[reactome_only['term_name'].isin(explore)].copy()\n",
    "# subset.dist_matrix();\n",
    "# display(subset)\n",
    "term_net, mol_net = nt.create_subnetwork( \n",
    "    subset, network,\n",
    "    terms=subset['term_name'],  \n",
    "    save_name='ngf_axon',\n",
    "    create_only=False,\n",
    "    use_threshold=True\n",
    ")\n",
    "\n",
    "\n",
    "mol_net = trim_sink_source_nodes(network=mol_net, list_of_nodes=[])\n",
    "mol_net = delete_disconnected_network(mol_net)"
   ]
  },
  {
   "cell_type": "code",
   "execution_count": null,
   "metadata": {},
   "outputs": [],
   "source": [
    "from magine.enrichment.enrichr import Enrichr\n",
    "e = Enrichr()"
   ]
  },
  {
   "cell_type": "code",
   "execution_count": null,
   "metadata": {},
   "outputs": [],
   "source": [
    "print(\"Total genes related = {}\".format(len(subset.all_genes_from_df())))\n",
    "df = e.run(subset.all_genes_from_df(), \n",
    "           gene_set_lib=['OMIM_Disease', 'OMIM_Expanded','Jensen_DISEASES','Human_Phenotype_Ontology']\n",
    "          )\n",
    "df['sample_id'] = 'NGF_AXON'"
   ]
  },
  {
   "cell_type": "code",
   "execution_count": null,
   "metadata": {
    "scrolled": false
   },
   "outputs": [],
   "source": [
    "df2 = df.copy()\n",
    "df2.filter_multi(rank=100, inplace=True, p_value=0.05)\n",
    "df2.sort_values('combined_score', ascending=False, inplace=True)\n",
    "\n",
    "df2.head(20)"
   ]
  },
  {
   "cell_type": "code",
   "execution_count": null,
   "metadata": {
    "scrolled": false
   },
   "outputs": [],
   "source": [
    "view.display_graph(term_net, add_parent=True)"
   ]
  },
  {
   "cell_type": "code",
   "execution_count": null,
   "metadata": {
    "scrolled": false
   },
   "outputs": [],
   "source": [
    "view.display_graph(mol_net, add_parent=True)\n"
   ]
  },
  {
   "cell_type": "code",
   "execution_count": null,
   "metadata": {},
   "outputs": [],
   "source": [
    "paint_network_overtime(mol_net, exp_data=exp_data, cluster=True, save_name='apoptosis_ngf', color_list='red')"
   ]
  },
  {
   "cell_type": "code",
   "execution_count": null,
   "metadata": {},
   "outputs": [],
   "source": [
    "apoptosis = subset.term_to_genes('apoptosis')\n",
    "g2m = subset.term_to_genes('g2/m checkpoints')\n",
    "ngf = subset.term_to_genes('signalling by ngf')\n",
    "print(len(ngf))"
   ]
  },
  {
   "cell_type": "code",
   "execution_count": null,
   "metadata": {},
   "outputs": [],
   "source": [
    "subset = exp_data.species[exp_data.species.identifier.isin(ngf)].copy()\n",
    "print(subset.shape)\n",
    "subset.filter_by_minimum_sig_columns(index='label',\n",
    "                                     columns='sample_id', \n",
    "                                     min_terms=2, \n",
    "                                     inplace=True)\n",
    "print(subset.shape)"
   ]
  },
  {
   "cell_type": "code",
   "execution_count": null,
   "metadata": {
    "scrolled": false
   },
   "outputs": [],
   "source": [
    "heatmap_from_array(subset, True, cluster_row=True, \n",
    "                   div_colors=True, index='label', values='fold_change',\n",
    "                   fig_size=(6,16), linewidths=0.01, num_colors=21,\n",
    "                   annotate_sig=True);"
   ]
  },
  {
   "cell_type": "code",
   "execution_count": null,
   "metadata": {},
   "outputs": [],
   "source": [
    "ngf_net = net_sub.expand_neighbors(None, ngf, \n",
    "                                   upstream=True,\n",
    "                                   downstream=True, \n",
    "                                   include_only=ngf)"
   ]
  },
  {
   "cell_type": "code",
   "execution_count": null,
   "metadata": {},
   "outputs": [],
   "source": [
    "ngf_net = trim_sink_source_nodes(ngf_net)\n",
    "ngf_net = delete_disconnected_network(ngf_net)\n",
    "print(len(ngf_net.nodes))\n",
    "print(len(ngf_net.edges))\n",
    "nx.write_gml(ngf_net, 'ngf_net.gml')"
   ]
  },
  {
   "cell_type": "code",
   "execution_count": null,
   "metadata": {},
   "outputs": [],
   "source": [
    "view.display_graph(ngf_net, add_parent=False)"
   ]
  },
  {
   "cell_type": "code",
   "execution_count": null,
   "metadata": {},
   "outputs": [],
   "source": [
    "exp_data.genes.plot_species(['GSK3B'], 'NGF', plot_type='matplotlib');"
   ]
  },
  {
   "cell_type": "code",
   "execution_count": null,
   "metadata": {},
   "outputs": [],
   "source": [
    "exp_data.genes.plot_species(['CUL3'], 'CUL3', plot_type='matplotlib');"
   ]
  },
  {
   "cell_type": "code",
   "execution_count": null,
   "metadata": {},
   "outputs": [],
   "source": [
    "auditoray = net_sub.neighbors('GSK3B', upstream=True, downstream=False, include_only=exp_data.species.sig.id_list)\n",
    "print(len(auditoray.nodes))\n",
    "print(len(auditoray.edges))"
   ]
  },
  {
   "cell_type": "code",
   "execution_count": null,
   "metadata": {},
   "outputs": [],
   "source": [
    "for i,j,d in auditoray.edges(data=True):\n",
    "    print(d['interactionType'])\n",
    "    if 'inhibit' not in d['interactionType'] or 'phos' not in d['interactionType']:\n",
    "        auditoray.remove_edge(i,j)\n",
    "auditoray = delete_disconnected_network(auditoray)"
   ]
  },
  {
   "cell_type": "code",
   "execution_count": null,
   "metadata": {
    "scrolled": false
   },
   "outputs": [],
   "source": [
    "view.display_graph(auditoray)"
   ]
  },
  {
   "cell_type": "code",
   "execution_count": null,
   "metadata": {},
   "outputs": [],
   "source": [
    "# new_g = sg.paths_between_list(mol_net_trim.nodes, max_length=3)\n",
    "new_g = sg.paths_between_two_lists(apoptosis, g2m, max_length=3)\n",
    "print(len(new_g.nodes))\n",
    "print(len(new_g.edges))"
   ]
  },
  {
   "cell_type": "code",
   "execution_count": null,
   "metadata": {},
   "outputs": [],
   "source": [
    "from magine.networks.utils import compose\n",
    "new_g = compose(new_g, mol_net_trim)"
   ]
  },
  {
   "cell_type": "code",
   "execution_count": null,
   "metadata": {},
   "outputs": [],
   "source": [
    "new_nodes = set(mol_net_trim.nodes)\n",
    "for i in mol_net_trim.nodes:\n",
    "    if i in new_nodes:\n",
    "        new_g.node[i]['terms'] = mol_net_trim.node[i]['terms']\n",
    "        new_g.node[i]['termName'] = mol_net_trim.node[i]['termName']"
   ]
  },
  {
   "cell_type": "code",
   "execution_count": null,
   "metadata": {},
   "outputs": [],
   "source": [
    "view.display_graph(term_net)"
   ]
  },
  {
   "cell_type": "code",
   "execution_count": null,
   "metadata": {
    "scrolled": false
   },
   "outputs": [],
   "source": [
    "view.display_graph(mol_net, add_parent=True)"
   ]
  },
  {
   "cell_type": "code",
   "execution_count": null,
   "metadata": {},
   "outputs": [],
   "source": [
    "from exp_data import exp_data"
   ]
  },
  {
   "cell_type": "code",
   "execution_count": null,
   "metadata": {},
   "outputs": [],
   "source": [
    "from magine.networks.subgraphs import Subgraph\n",
    "net_sub = Subgraph(network)"
   ]
  },
  {
   "cell_type": "code",
   "execution_count": null,
   "metadata": {},
   "outputs": [],
   "source": [
    "from magine.networks.visualization.igraph_tools import paint_network_overtime"
   ]
  },
  {
   "cell_type": "code",
   "execution_count": null,
   "metadata": {
    "scrolled": false
   },
   "outputs": [],
   "source": [
    "paint_network_overtime(new_g, exp_data=exp_data, save_name='metabolites', color_list='red')"
   ]
  },
  {
   "cell_type": "code",
   "execution_count": null,
   "metadata": {
    "scrolled": false
   },
   "outputs": [],
   "source": [
    "print(reactome_only.shape)\n",
    "\n",
    "at_least_2 = reactome_only.filter_by_minimum_sig_columns(\n",
    "    columns='sample_id',\n",
    "    min_terms=3\n",
    ")\n",
    "\n",
    "at_least_2.remove_redundant(inplace=True, level='dataframe')\n",
    "\n",
    "at_least_2.dist_matrix(fig_size=(8, 8), level='dataframe')\n",
    "\n",
    "\n",
    "heatmap_from_array(\n",
    "    at_least_2,\n",
    "    cluster_row=True, \n",
    "    annotate_sig=True, \n",
    "    fig_size=(8, 14)\n",
    ");"
   ]
  },
  {
   "cell_type": "code",
   "execution_count": null,
   "metadata": {},
   "outputs": [],
   "source": [
    "fig = heatmap_from_array(reactome_only,\n",
    "                         convert_to_log=True,\n",
    "                         fig_size=(8, 8))\n",
    "\n",
    "fig.savefig('enrichment.png', dpi=300, bbox_inches='tight')"
   ]
  },
  {
   "cell_type": "code",
   "execution_count": null,
   "metadata": {},
   "outputs": [],
   "source": [
    "\n",
    "fig = heatmap_from_array(reactome_only, \n",
    "                         convert_to_log=True, \n",
    "                         cluster_col=False, \n",
    "                         cluster_row=True, \n",
    "                         fig_size=(8, 8))\n",
    "\n",
    "fig.savefig('cluster_enrichment.png', dpi=300, bbox_inches='tight')"
   ]
  },
  {
   "cell_type": "code",
   "execution_count": null,
   "metadata": {
    "scrolled": true
   },
   "outputs": [],
   "source": [
    "drug_df = enrichment_array.filter_multi(\n",
    "    p_value=0.05,\n",
    "    combined_score=0.0,\n",
    "    rank=25,\n",
    "    db=['DrugMatrix', 'Drug_Perturbations_from_GEO_2014']\n",
    ")\n",
    "create_wordcloud(drug_df).plot(save_name='word_cloud_rna_drug_dbs');"
   ]
  },
  {
   "cell_type": "code",
   "execution_count": null,
   "metadata": {
    "scrolled": false
   },
   "outputs": [],
   "source": [
    "sig_array = enrichment_array.filter_multi(\n",
    "    p_value=0.05, \n",
    "    combined_score=0.0, \n",
    "    db='GO_Biological_Process_2017b',\n",
    "    category='proteomics_up'\n",
    ")\n",
    "\n",
    "\n",
    "sig_array.remove_redundant(threshold=0.7,\n",
    "                           inplace=True,\n",
    "                           level='dataframe')\n",
    "sig_array.dist_matrix();\n",
    "fig = heatmap_from_array(sig_array, \n",
    "                         convert_to_log=True, \n",
    "                         cluster_col=False, \n",
    "                         cluster_row=True, \n",
    "                         fig_size=(8, 14), annotate_sig=True)\n",
    "\n",
    "fig.savefig('go_bp_cluster_enrichment.png', dpi=300, bbox_inches='tight')"
   ]
  },
  {
   "cell_type": "code",
   "execution_count": null,
   "metadata": {},
   "outputs": [],
   "source": [
    "apoptosis_genes = d.term_to_genes('apoptosis')"
   ]
  },
  {
   "cell_type": "code",
   "execution_count": null,
   "metadata": {},
   "outputs": [],
   "source": [
    "exp_data.species.plot_species(apoptosis_genes,\n",
    "                              'apop_genes',\n",
    "                              plot_type='matplotlib');"
   ]
  },
  {
   "cell_type": "code",
   "execution_count": null,
   "metadata": {},
   "outputs": [],
   "source": [
    "subset = exp_data.genes.loc[exp_data.genes['identifier'].isin(apop_cleavage)].copy()\n",
    "\n",
    "subset.filter_by_minimum_sig_columns(columns='sample_id', index='label', inplace=True, min_terms=2)\n",
    "\n",
    "heatmap_from_array(subset, True, values='fold_change', index='label', \n",
    "                   linewidths=.1, num_colors=11, cluster_row=True,\n",
    "                   div_colors=True, annotate_sig=True, fig_size=(8,12));"
   ]
  },
  {
   "cell_type": "code",
   "execution_count": null,
   "metadata": {},
   "outputs": [],
   "source": []
  },
  {
   "cell_type": "code",
   "execution_count": null,
   "metadata": {},
   "outputs": [],
   "source": []
  }
 ],
 "metadata": {
  "kernelspec": {
   "display_name": "Python 2",
   "language": "python",
   "name": "python2"
  },
  "language_info": {
   "codemirror_mode": {
    "name": "ipython",
    "version": 2
   },
   "file_extension": ".py",
   "mimetype": "text/x-python",
   "name": "python",
   "nbconvert_exporter": "python",
   "pygments_lexer": "ipython2",
   "version": "2.7.15"
  }
 },
 "nbformat": 4,
 "nbformat_minor": 2
}
